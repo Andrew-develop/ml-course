{
 "cells": [
  {
   "cell_type": "markdown",
   "id": "awful-richmond",
   "metadata": {},
   "source": [
    "## Сравнение методов классификации"
   ]
  },
  {
   "cell_type": "markdown",
   "id": "hundred-extra",
   "metadata": {},
   "source": [
    "### Выполнил: Андрей Фролов 23.М08"
   ]
  },
  {
   "cell_type": "markdown",
   "id": "bigger-workshop",
   "metadata": {},
   "source": [
    "Описание датасета: \n",
    "\n",
    "- age - age in years \n",
    "- sex - (1 = male; 0 = female) \n",
    "- cp - chest pain type \n",
    "- trestbps - resting blood pressure (in mm Hg on admission to the hospital) \n",
    "- chol - serum cholestoral in mg/dl \n",
    "- fbs - (fasting blood sugar > 120 mg/dl) (1 = true; 0 = false) \n",
    "- restecg - resting electrocardiographic results \n",
    "- thalach - maximum heart rate achieved \n",
    "- exang - exercise induced angina (1 = yes; 0 = no) \n",
    "- oldpeak - ST depression induced by exercise relative to rest \n",
    "- slope - the slope of the peak exercise ST segment \n",
    "- ca - number of major vessels (0-3) colored by flourosopy \n",
    "- thal - 3 = normal; 6 = fixed defect; 7 = reversable defect \n",
    "- target - have disease or not (1=yes, 0=no)"
   ]
  },
  {
   "cell_type": "markdown",
   "id": "caring-titanium",
   "metadata": {},
   "source": [
    "Необходимо решить задачу классификации и научиться предсказывать целовой признак target имеет ли пациент заболевание сердца."
   ]
  },
  {
   "cell_type": "code",
   "execution_count": 195,
   "id": "union-holder",
   "metadata": {},
   "outputs": [],
   "source": [
    "import numpy as np \n",
    "import pandas as pd\n",
    "import matplotlib.pyplot as plt\n",
    "%matplotlib inline\n",
    "import seaborn as sns\n",
    "\n",
    "# устанавливаем точность чисел с плавающей точкой\n",
    "%precision %.4f\n",
    "\n",
    "import warnings\n",
    "warnings.filterwarnings('ignore')  # отключаем предупреждения"
   ]
  },
  {
   "cell_type": "code",
   "execution_count": 196,
   "id": "tender-upset",
   "metadata": {},
   "outputs": [
    {
     "data": {
      "text/html": [
       "<div>\n",
       "<style scoped>\n",
       "    .dataframe tbody tr th:only-of-type {\n",
       "        vertical-align: middle;\n",
       "    }\n",
       "\n",
       "    .dataframe tbody tr th {\n",
       "        vertical-align: top;\n",
       "    }\n",
       "\n",
       "    .dataframe thead th {\n",
       "        text-align: right;\n",
       "    }\n",
       "</style>\n",
       "<table border=\"1\" class=\"dataframe\">\n",
       "  <thead>\n",
       "    <tr style=\"text-align: right;\">\n",
       "      <th></th>\n",
       "      <th>age</th>\n",
       "      <th>sex</th>\n",
       "      <th>cp</th>\n",
       "      <th>trestbps</th>\n",
       "      <th>chol</th>\n",
       "      <th>fbs</th>\n",
       "      <th>restecg</th>\n",
       "      <th>thalach</th>\n",
       "      <th>exang</th>\n",
       "      <th>oldpeak</th>\n",
       "      <th>slope</th>\n",
       "      <th>ca</th>\n",
       "      <th>thal</th>\n",
       "      <th>target</th>\n",
       "    </tr>\n",
       "  </thead>\n",
       "  <tbody>\n",
       "    <tr>\n",
       "      <th>0</th>\n",
       "      <td>52</td>\n",
       "      <td>1</td>\n",
       "      <td>0</td>\n",
       "      <td>125</td>\n",
       "      <td>212</td>\n",
       "      <td>0</td>\n",
       "      <td>1</td>\n",
       "      <td>168</td>\n",
       "      <td>0</td>\n",
       "      <td>1.0</td>\n",
       "      <td>2</td>\n",
       "      <td>2</td>\n",
       "      <td>3</td>\n",
       "      <td>0</td>\n",
       "    </tr>\n",
       "    <tr>\n",
       "      <th>1</th>\n",
       "      <td>53</td>\n",
       "      <td>1</td>\n",
       "      <td>0</td>\n",
       "      <td>140</td>\n",
       "      <td>203</td>\n",
       "      <td>1</td>\n",
       "      <td>0</td>\n",
       "      <td>155</td>\n",
       "      <td>1</td>\n",
       "      <td>3.1</td>\n",
       "      <td>0</td>\n",
       "      <td>0</td>\n",
       "      <td>3</td>\n",
       "      <td>0</td>\n",
       "    </tr>\n",
       "    <tr>\n",
       "      <th>2</th>\n",
       "      <td>70</td>\n",
       "      <td>1</td>\n",
       "      <td>0</td>\n",
       "      <td>145</td>\n",
       "      <td>174</td>\n",
       "      <td>0</td>\n",
       "      <td>1</td>\n",
       "      <td>125</td>\n",
       "      <td>1</td>\n",
       "      <td>2.6</td>\n",
       "      <td>0</td>\n",
       "      <td>0</td>\n",
       "      <td>3</td>\n",
       "      <td>0</td>\n",
       "    </tr>\n",
       "    <tr>\n",
       "      <th>3</th>\n",
       "      <td>61</td>\n",
       "      <td>1</td>\n",
       "      <td>0</td>\n",
       "      <td>148</td>\n",
       "      <td>203</td>\n",
       "      <td>0</td>\n",
       "      <td>1</td>\n",
       "      <td>161</td>\n",
       "      <td>0</td>\n",
       "      <td>0.0</td>\n",
       "      <td>2</td>\n",
       "      <td>1</td>\n",
       "      <td>3</td>\n",
       "      <td>0</td>\n",
       "    </tr>\n",
       "    <tr>\n",
       "      <th>4</th>\n",
       "      <td>62</td>\n",
       "      <td>0</td>\n",
       "      <td>0</td>\n",
       "      <td>138</td>\n",
       "      <td>294</td>\n",
       "      <td>1</td>\n",
       "      <td>1</td>\n",
       "      <td>106</td>\n",
       "      <td>0</td>\n",
       "      <td>1.9</td>\n",
       "      <td>1</td>\n",
       "      <td>3</td>\n",
       "      <td>2</td>\n",
       "      <td>0</td>\n",
       "    </tr>\n",
       "  </tbody>\n",
       "</table>\n",
       "</div>"
      ],
      "text/plain": [
       "   age  sex  cp  trestbps  chol  fbs  restecg  thalach  exang  oldpeak  slope  \\\n",
       "0   52    1   0       125   212    0        1      168      0      1.0      2   \n",
       "1   53    1   0       140   203    1        0      155      1      3.1      0   \n",
       "2   70    1   0       145   174    0        1      125      1      2.6      0   \n",
       "3   61    1   0       148   203    0        1      161      0      0.0      2   \n",
       "4   62    0   0       138   294    1        1      106      0      1.9      1   \n",
       "\n",
       "   ca  thal  target  \n",
       "0   2     3       0  \n",
       "1   0     3       0  \n",
       "2   0     3       0  \n",
       "3   1     3       0  \n",
       "4   3     2       0  "
      ]
     },
     "execution_count": 196,
     "metadata": {},
     "output_type": "execute_result"
    }
   ],
   "source": [
    "df = pd.read_csv('/Users/sergioramos4/Downloads/heart.csv')\n",
    "df.head()"
   ]
  },
  {
   "cell_type": "markdown",
   "id": "living-working",
   "metadata": {},
   "source": [
    "## Первичный анализ признаков"
   ]
  },
  {
   "cell_type": "code",
   "execution_count": 197,
   "id": "present-jungle",
   "metadata": {},
   "outputs": [
    {
     "data": {
      "text/plain": [
       "age         0\n",
       "sex         0\n",
       "cp          0\n",
       "trestbps    0\n",
       "chol        0\n",
       "fbs         0\n",
       "restecg     0\n",
       "thalach     0\n",
       "exang       0\n",
       "oldpeak     0\n",
       "slope       0\n",
       "ca          0\n",
       "thal        0\n",
       "target      0\n",
       "dtype: int64"
      ]
     },
     "execution_count": 197,
     "metadata": {},
     "output_type": "execute_result"
    }
   ],
   "source": [
    "df.isnull().sum()"
   ]
  },
  {
   "cell_type": "markdown",
   "id": "other-panel",
   "metadata": {},
   "source": [
    "Посмотрим статистику по целевому признаку"
   ]
  },
  {
   "cell_type": "code",
   "execution_count": 198,
   "id": "agreed-company",
   "metadata": {},
   "outputs": [
    {
     "data": {
      "text/plain": [
       "1    526\n",
       "0    499\n",
       "Name: target, dtype: int64"
      ]
     },
     "execution_count": 198,
     "metadata": {},
     "output_type": "execute_result"
    }
   ],
   "source": [
    "df['target'].value_counts()"
   ]
  },
  {
   "cell_type": "code",
   "execution_count": 199,
   "id": "found-support",
   "metadata": {},
   "outputs": [
    {
     "data": {
      "image/png": "[encoded data removed]",
      "text/plain": [
       "<Figure size 432x288 with 1 Axes>"
      ]
     },
     "metadata": {
      "needs_background": "light"
     },
     "output_type": "display_data"
    }
   ],
   "source": [
    "sns.countplot(df['target'])\n",
    "plt.show()"
   ]
  },
  {
   "cell_type": "code",
   "execution_count": 200,
   "id": "suspected-actress",
   "metadata": {},
   "outputs": [
    {
     "data": {
      "image/png": "[encoded data removed]",
      "text/plain": [
       "<Figure size 432x288 with 1 Axes>"
      ]
     },
     "metadata": {
      "needs_background": "light"
     },
     "output_type": "display_data"
    }
   ],
   "source": [
    "sns.countplot(x='sex', data=df)\n",
    "plt.show()"
   ]
  },
  {
   "cell_type": "code",
   "execution_count": 201,
   "id": "seven-annotation",
   "metadata": {},
   "outputs": [
    {
     "data": {
      "text/html": [
       "<div>\n",
       "<style scoped>\n",
       "    .dataframe tbody tr th:only-of-type {\n",
       "        vertical-align: middle;\n",
       "    }\n",
       "\n",
       "    .dataframe tbody tr th {\n",
       "        vertical-align: top;\n",
       "    }\n",
       "\n",
       "    .dataframe thead th {\n",
       "        text-align: right;\n",
       "    }\n",
       "</style>\n",
       "<table border=\"1\" class=\"dataframe\">\n",
       "  <thead>\n",
       "    <tr style=\"text-align: right;\">\n",
       "      <th></th>\n",
       "      <th>age</th>\n",
       "      <th>sex</th>\n",
       "      <th>cp</th>\n",
       "      <th>trestbps</th>\n",
       "      <th>chol</th>\n",
       "      <th>fbs</th>\n",
       "      <th>restecg</th>\n",
       "      <th>thalach</th>\n",
       "      <th>exang</th>\n",
       "      <th>oldpeak</th>\n",
       "      <th>slope</th>\n",
       "      <th>ca</th>\n",
       "      <th>thal</th>\n",
       "    </tr>\n",
       "    <tr>\n",
       "      <th>target</th>\n",
       "      <th></th>\n",
       "      <th></th>\n",
       "      <th></th>\n",
       "      <th></th>\n",
       "      <th></th>\n",
       "      <th></th>\n",
       "      <th></th>\n",
       "      <th></th>\n",
       "      <th></th>\n",
       "      <th></th>\n",
       "      <th></th>\n",
       "      <th></th>\n",
       "      <th></th>\n",
       "    </tr>\n",
       "  </thead>\n",
       "  <tbody>\n",
       "    <tr>\n",
       "      <th>0</th>\n",
       "      <td>56.569138</td>\n",
       "      <td>0.827655</td>\n",
       "      <td>0.482966</td>\n",
       "      <td>134.106212</td>\n",
       "      <td>251.292585</td>\n",
       "      <td>0.164329</td>\n",
       "      <td>0.456914</td>\n",
       "      <td>139.130261</td>\n",
       "      <td>0.549098</td>\n",
       "      <td>1.600200</td>\n",
       "      <td>1.166333</td>\n",
       "      <td>1.158317</td>\n",
       "      <td>2.539078</td>\n",
       "    </tr>\n",
       "    <tr>\n",
       "      <th>1</th>\n",
       "      <td>52.408745</td>\n",
       "      <td>0.570342</td>\n",
       "      <td>1.378327</td>\n",
       "      <td>129.245247</td>\n",
       "      <td>240.979087</td>\n",
       "      <td>0.134981</td>\n",
       "      <td>0.598859</td>\n",
       "      <td>158.585551</td>\n",
       "      <td>0.134981</td>\n",
       "      <td>0.569962</td>\n",
       "      <td>1.593156</td>\n",
       "      <td>0.370722</td>\n",
       "      <td>2.119772</td>\n",
       "    </tr>\n",
       "  </tbody>\n",
       "</table>\n",
       "</div>"
      ],
      "text/plain": [
       "              age       sex        cp    trestbps        chol       fbs  \\\n",
       "target                                                                    \n",
       "0       56.569138  0.827655  0.482966  134.106212  251.292585  0.164329   \n",
       "1       52.408745  0.570342  1.378327  129.245247  240.979087  0.134981   \n",
       "\n",
       "         restecg     thalach     exang   oldpeak     slope        ca      thal  \n",
       "target                                                                          \n",
       "0       0.456914  139.130261  0.549098  1.600200  1.166333  1.158317  2.539078  \n",
       "1       0.598859  158.585551  0.134981  0.569962  1.593156  0.370722  2.119772  "
      ]
     },
     "execution_count": 201,
     "metadata": {},
     "output_type": "execute_result"
    }
   ],
   "source": [
    "df.groupby('target').mean()"
   ]
  },
  {
   "cell_type": "code",
   "execution_count": 202,
   "id": "studied-bennett",
   "metadata": {},
   "outputs": [
    {
     "data": {
      "image/png": "[encoded data removed]",
      "text/plain": [
       "<Figure size 1440x432 with 1 Axes>"
      ]
     },
     "metadata": {
      "needs_background": "light"
     },
     "output_type": "display_data"
    }
   ],
   "source": [
    "pd.crosstab(df.age,df.target).plot(kind=\"bar\", figsize=(20, 6))\n",
    "plt.title('Heart Disease Frequency for Ages')\n",
    "plt.xlabel('Age')\n",
    "plt.ylabel('Frequency')\n",
    "plt.show()"
   ]
  },
  {
   "cell_type": "code",
   "execution_count": 203,
   "id": "indirect-edward",
   "metadata": {},
   "outputs": [
    {
     "data": {
      "image/png": "[encoded data removed]",
      "text/plain": [
       "<Figure size 1080x432 with 1 Axes>"
      ]
     },
     "metadata": {
      "needs_background": "light"
     },
     "output_type": "display_data"
    }
   ],
   "source": [
    "pd.crosstab(df.sex,df.target).plot(kind=\"bar\", figsize=(15, 6))\n",
    "plt.title('Heart Disease Frequency for Sex')\n",
    "plt.xlabel('Sex (0 = Female, 1 = Male)')\n",
    "plt.xticks(rotation=0)\n",
    "plt.legend([\"Haven't Disease\", \"Have Disease\"])\n",
    "plt.ylabel('Frequency')\n",
    "plt.show()"
   ]
  },
  {
   "cell_type": "code",
   "execution_count": 204,
   "id": "authorized-style",
   "metadata": {},
   "outputs": [
    {
     "data": {
      "image/png": "[encoded data removed]",
      "text/plain": [
       "<Figure size 432x288 with 1 Axes>"
      ]
     },
     "metadata": {
      "needs_background": "light"
     },
     "output_type": "display_data"
    }
   ],
   "source": [
    "plt.scatter(x=df.age[df.target==1], y=df.thalach[(df.target==1)], c=\"red\")\n",
    "plt.scatter(x=df.age[df.target==0], y=df.thalach[(df.target==0)])\n",
    "plt.legend([\"Disease\", \"Not Disease\"])\n",
    "plt.xlabel(\"Age\")\n",
    "plt.ylabel(\"Maximum Heart Rate\")\n",
    "plt.show()"
   ]
  },
  {
   "cell_type": "code",
   "execution_count": 205,
   "id": "facial-filling",
   "metadata": {},
   "outputs": [
    {
     "data": {
      "image/png": "[encoded data removed]",
      "text/plain": [
       "<Figure size 1080x432 with 1 Axes>"
      ]
     },
     "metadata": {
      "needs_background": "light"
     },
     "output_type": "display_data"
    }
   ],
   "source": [
    "pd.crosstab(df.slope,df.target).plot(kind=\"bar\", figsize=(15, 6))\n",
    "plt.title('Heart Disease Frequency for Slope')\n",
    "plt.xlabel('The Slope of The Peak Exercise ST Segment ')\n",
    "plt.xticks(rotation = 0)\n",
    "plt.ylabel('Frequency')\n",
    "plt.show()"
   ]
  },
  {
   "cell_type": "code",
   "execution_count": 206,
   "id": "cardiovascular-understanding",
   "metadata": {
    "scrolled": true
   },
   "outputs": [
    {
     "data": {
      "image/png": "[encoded data removed]",
      "text/plain": [
       "<Figure size 1080x432 with 1 Axes>"
      ]
     },
     "metadata": {
      "needs_background": "light"
     },
     "output_type": "display_data"
    }
   ],
   "source": [
    "pd.crosstab(df.fbs,df.target).plot(kind=\"bar\", figsize=(15, 6))\n",
    "plt.title('Heart Disease Frequency According To FBS')\n",
    "plt.xlabel('FBS - (Fasting Blood Sugar > 120 mg/dl) (1 = true; 0 = false)')\n",
    "plt.xticks(rotation = 0)\n",
    "plt.legend([\"Haven't Disease\", \"Have Disease\"])\n",
    "plt.ylabel('Frequency of Disease or Not')\n",
    "plt.show()"
   ]
  },
  {
   "cell_type": "code",
   "execution_count": 207,
   "id": "sixth-belly",
   "metadata": {
    "scrolled": true
   },
   "outputs": [
    {
     "data": {
      "image/png": "[encoded data removed]",
      "text/plain": [
       "<Figure size 1080x432 with 1 Axes>"
      ]
     },
     "metadata": {
      "needs_background": "light"
     },
     "output_type": "display_data"
    }
   ],
   "source": [
    "pd.crosstab(df.cp,df.target).plot(kind=\"bar\",figsize=(15, 6))\n",
    "plt.title('Heart Disease Frequency According To Chest Pain Type')\n",
    "plt.xlabel('Chest Pain Type')\n",
    "plt.xticks(rotation = 0)\n",
    "plt.ylabel('Frequency of Disease or Not')\n",
    "plt.show()"
   ]
  },
  {
   "cell_type": "markdown",
   "id": "supreme-reset",
   "metadata": {},
   "source": [
    "### Преобразование категориальных признаков"
   ]
  },
  {
   "cell_type": "code",
   "execution_count": 208,
   "id": "ongoing-craft",
   "metadata": {},
   "outputs": [
    {
     "data": {
      "text/html": [
       "<div>\n",
       "<style scoped>\n",
       "    .dataframe tbody tr th:only-of-type {\n",
       "        vertical-align: middle;\n",
       "    }\n",
       "\n",
       "    .dataframe tbody tr th {\n",
       "        vertical-align: top;\n",
       "    }\n",
       "\n",
       "    .dataframe thead th {\n",
       "        text-align: right;\n",
       "    }\n",
       "</style>\n",
       "<table border=\"1\" class=\"dataframe\">\n",
       "  <thead>\n",
       "    <tr style=\"text-align: right;\">\n",
       "      <th></th>\n",
       "      <th>age</th>\n",
       "      <th>sex</th>\n",
       "      <th>cp</th>\n",
       "      <th>trestbps</th>\n",
       "      <th>chol</th>\n",
       "      <th>fbs</th>\n",
       "      <th>restecg</th>\n",
       "      <th>thalach</th>\n",
       "      <th>exang</th>\n",
       "      <th>oldpeak</th>\n",
       "      <th>...</th>\n",
       "      <th>cp_1</th>\n",
       "      <th>cp_2</th>\n",
       "      <th>cp_3</th>\n",
       "      <th>thal_0</th>\n",
       "      <th>thal_1</th>\n",
       "      <th>thal_2</th>\n",
       "      <th>thal_3</th>\n",
       "      <th>slope_0</th>\n",
       "      <th>slope_1</th>\n",
       "      <th>slope_2</th>\n",
       "    </tr>\n",
       "  </thead>\n",
       "  <tbody>\n",
       "    <tr>\n",
       "      <th>0</th>\n",
       "      <td>52</td>\n",
       "      <td>1</td>\n",
       "      <td>0</td>\n",
       "      <td>125</td>\n",
       "      <td>212</td>\n",
       "      <td>0</td>\n",
       "      <td>1</td>\n",
       "      <td>168</td>\n",
       "      <td>0</td>\n",
       "      <td>1.0</td>\n",
       "      <td>...</td>\n",
       "      <td>0</td>\n",
       "      <td>0</td>\n",
       "      <td>0</td>\n",
       "      <td>0</td>\n",
       "      <td>0</td>\n",
       "      <td>0</td>\n",
       "      <td>1</td>\n",
       "      <td>0</td>\n",
       "      <td>0</td>\n",
       "      <td>1</td>\n",
       "    </tr>\n",
       "    <tr>\n",
       "      <th>1</th>\n",
       "      <td>53</td>\n",
       "      <td>1</td>\n",
       "      <td>0</td>\n",
       "      <td>140</td>\n",
       "      <td>203</td>\n",
       "      <td>1</td>\n",
       "      <td>0</td>\n",
       "      <td>155</td>\n",
       "      <td>1</td>\n",
       "      <td>3.1</td>\n",
       "      <td>...</td>\n",
       "      <td>0</td>\n",
       "      <td>0</td>\n",
       "      <td>0</td>\n",
       "      <td>0</td>\n",
       "      <td>0</td>\n",
       "      <td>0</td>\n",
       "      <td>1</td>\n",
       "      <td>1</td>\n",
       "      <td>0</td>\n",
       "      <td>0</td>\n",
       "    </tr>\n",
       "    <tr>\n",
       "      <th>2</th>\n",
       "      <td>70</td>\n",
       "      <td>1</td>\n",
       "      <td>0</td>\n",
       "      <td>145</td>\n",
       "      <td>174</td>\n",
       "      <td>0</td>\n",
       "      <td>1</td>\n",
       "      <td>125</td>\n",
       "      <td>1</td>\n",
       "      <td>2.6</td>\n",
       "      <td>...</td>\n",
       "      <td>0</td>\n",
       "      <td>0</td>\n",
       "      <td>0</td>\n",
       "      <td>0</td>\n",
       "      <td>0</td>\n",
       "      <td>0</td>\n",
       "      <td>1</td>\n",
       "      <td>1</td>\n",
       "      <td>0</td>\n",
       "      <td>0</td>\n",
       "    </tr>\n",
       "    <tr>\n",
       "      <th>3</th>\n",
       "      <td>61</td>\n",
       "      <td>1</td>\n",
       "      <td>0</td>\n",
       "      <td>148</td>\n",
       "      <td>203</td>\n",
       "      <td>0</td>\n",
       "      <td>1</td>\n",
       "      <td>161</td>\n",
       "      <td>0</td>\n",
       "      <td>0.0</td>\n",
       "      <td>...</td>\n",
       "      <td>0</td>\n",
       "      <td>0</td>\n",
       "      <td>0</td>\n",
       "      <td>0</td>\n",
       "      <td>0</td>\n",
       "      <td>0</td>\n",
       "      <td>1</td>\n",
       "      <td>0</td>\n",
       "      <td>0</td>\n",
       "      <td>1</td>\n",
       "    </tr>\n",
       "    <tr>\n",
       "      <th>4</th>\n",
       "      <td>62</td>\n",
       "      <td>0</td>\n",
       "      <td>0</td>\n",
       "      <td>138</td>\n",
       "      <td>294</td>\n",
       "      <td>1</td>\n",
       "      <td>1</td>\n",
       "      <td>106</td>\n",
       "      <td>0</td>\n",
       "      <td>1.9</td>\n",
       "      <td>...</td>\n",
       "      <td>0</td>\n",
       "      <td>0</td>\n",
       "      <td>0</td>\n",
       "      <td>0</td>\n",
       "      <td>0</td>\n",
       "      <td>1</td>\n",
       "      <td>0</td>\n",
       "      <td>0</td>\n",
       "      <td>1</td>\n",
       "      <td>0</td>\n",
       "    </tr>\n",
       "  </tbody>\n",
       "</table>\n",
       "<p>5 rows × 25 columns</p>\n",
       "</div>"
      ],
      "text/plain": [
       "   age  sex  cp  trestbps  chol  fbs  restecg  thalach  exang  oldpeak  ...  \\\n",
       "0   52    1   0       125   212    0        1      168      0      1.0  ...   \n",
       "1   53    1   0       140   203    1        0      155      1      3.1  ...   \n",
       "2   70    1   0       145   174    0        1      125      1      2.6  ...   \n",
       "3   61    1   0       148   203    0        1      161      0      0.0  ...   \n",
       "4   62    0   0       138   294    1        1      106      0      1.9  ...   \n",
       "\n",
       "   cp_1  cp_2  cp_3  thal_0  thal_1  thal_2  thal_3  slope_0  slope_1  slope_2  \n",
       "0     0     0     0       0       0       0       1        0        0        1  \n",
       "1     0     0     0       0       0       0       1        1        0        0  \n",
       "2     0     0     0       0       0       0       1        1        0        0  \n",
       "3     0     0     0       0       0       0       1        0        0        1  \n",
       "4     0     0     0       0       0       1       0        0        1        0  \n",
       "\n",
       "[5 rows x 25 columns]"
      ]
     },
     "execution_count": 208,
     "metadata": {},
     "output_type": "execute_result"
    }
   ],
   "source": [
    "cp_dum = pd.get_dummies(df['cp'], prefix = \"cp\")\n",
    "thal_dum = pd.get_dummies(df['thal'], prefix = \"thal\")\n",
    "slope_dum = pd.get_dummies(df['slope'], prefix = \"slope\")\n",
    "\n",
    "frames = [df, cp_dum, thal_dum, slope_dum]\n",
    "df = pd.concat(frames, axis = 1)\n",
    "df.head()"
   ]
  },
  {
   "cell_type": "code",
   "execution_count": 209,
   "id": "super-mainland",
   "metadata": {},
   "outputs": [
    {
     "data": {
      "text/html": [
       "<div>\n",
       "<style scoped>\n",
       "    .dataframe tbody tr th:only-of-type {\n",
       "        vertical-align: middle;\n",
       "    }\n",
       "\n",
       "    .dataframe tbody tr th {\n",
       "        vertical-align: top;\n",
       "    }\n",
       "\n",
       "    .dataframe thead th {\n",
       "        text-align: right;\n",
       "    }\n",
       "</style>\n",
       "<table border=\"1\" class=\"dataframe\">\n",
       "  <thead>\n",
       "    <tr style=\"text-align: right;\">\n",
       "      <th></th>\n",
       "      <th>age</th>\n",
       "      <th>sex</th>\n",
       "      <th>trestbps</th>\n",
       "      <th>chol</th>\n",
       "      <th>fbs</th>\n",
       "      <th>restecg</th>\n",
       "      <th>thalach</th>\n",
       "      <th>exang</th>\n",
       "      <th>oldpeak</th>\n",
       "      <th>ca</th>\n",
       "      <th>...</th>\n",
       "      <th>cp_1</th>\n",
       "      <th>cp_2</th>\n",
       "      <th>cp_3</th>\n",
       "      <th>thal_0</th>\n",
       "      <th>thal_1</th>\n",
       "      <th>thal_2</th>\n",
       "      <th>thal_3</th>\n",
       "      <th>slope_0</th>\n",
       "      <th>slope_1</th>\n",
       "      <th>slope_2</th>\n",
       "    </tr>\n",
       "  </thead>\n",
       "  <tbody>\n",
       "    <tr>\n",
       "      <th>0</th>\n",
       "      <td>52</td>\n",
       "      <td>1</td>\n",
       "      <td>125</td>\n",
       "      <td>212</td>\n",
       "      <td>0</td>\n",
       "      <td>1</td>\n",
       "      <td>168</td>\n",
       "      <td>0</td>\n",
       "      <td>1.0</td>\n",
       "      <td>2</td>\n",
       "      <td>...</td>\n",
       "      <td>0</td>\n",
       "      <td>0</td>\n",
       "      <td>0</td>\n",
       "      <td>0</td>\n",
       "      <td>0</td>\n",
       "      <td>0</td>\n",
       "      <td>1</td>\n",
       "      <td>0</td>\n",
       "      <td>0</td>\n",
       "      <td>1</td>\n",
       "    </tr>\n",
       "    <tr>\n",
       "      <th>1</th>\n",
       "      <td>53</td>\n",
       "      <td>1</td>\n",
       "      <td>140</td>\n",
       "      <td>203</td>\n",
       "      <td>1</td>\n",
       "      <td>0</td>\n",
       "      <td>155</td>\n",
       "      <td>1</td>\n",
       "      <td>3.1</td>\n",
       "      <td>0</td>\n",
       "      <td>...</td>\n",
       "      <td>0</td>\n",
       "      <td>0</td>\n",
       "      <td>0</td>\n",
       "      <td>0</td>\n",
       "      <td>0</td>\n",
       "      <td>0</td>\n",
       "      <td>1</td>\n",
       "      <td>1</td>\n",
       "      <td>0</td>\n",
       "      <td>0</td>\n",
       "    </tr>\n",
       "    <tr>\n",
       "      <th>2</th>\n",
       "      <td>70</td>\n",
       "      <td>1</td>\n",
       "      <td>145</td>\n",
       "      <td>174</td>\n",
       "      <td>0</td>\n",
       "      <td>1</td>\n",
       "      <td>125</td>\n",
       "      <td>1</td>\n",
       "      <td>2.6</td>\n",
       "      <td>0</td>\n",
       "      <td>...</td>\n",
       "      <td>0</td>\n",
       "      <td>0</td>\n",
       "      <td>0</td>\n",
       "      <td>0</td>\n",
       "      <td>0</td>\n",
       "      <td>0</td>\n",
       "      <td>1</td>\n",
       "      <td>1</td>\n",
       "      <td>0</td>\n",
       "      <td>0</td>\n",
       "    </tr>\n",
       "    <tr>\n",
       "      <th>3</th>\n",
       "      <td>61</td>\n",
       "      <td>1</td>\n",
       "      <td>148</td>\n",
       "      <td>203</td>\n",
       "      <td>0</td>\n",
       "      <td>1</td>\n",
       "      <td>161</td>\n",
       "      <td>0</td>\n",
       "      <td>0.0</td>\n",
       "      <td>1</td>\n",
       "      <td>...</td>\n",
       "      <td>0</td>\n",
       "      <td>0</td>\n",
       "      <td>0</td>\n",
       "      <td>0</td>\n",
       "      <td>0</td>\n",
       "      <td>0</td>\n",
       "      <td>1</td>\n",
       "      <td>0</td>\n",
       "      <td>0</td>\n",
       "      <td>1</td>\n",
       "    </tr>\n",
       "    <tr>\n",
       "      <th>4</th>\n",
       "      <td>62</td>\n",
       "      <td>0</td>\n",
       "      <td>138</td>\n",
       "      <td>294</td>\n",
       "      <td>1</td>\n",
       "      <td>1</td>\n",
       "      <td>106</td>\n",
       "      <td>0</td>\n",
       "      <td>1.9</td>\n",
       "      <td>3</td>\n",
       "      <td>...</td>\n",
       "      <td>0</td>\n",
       "      <td>0</td>\n",
       "      <td>0</td>\n",
       "      <td>0</td>\n",
       "      <td>0</td>\n",
       "      <td>1</td>\n",
       "      <td>0</td>\n",
       "      <td>0</td>\n",
       "      <td>1</td>\n",
       "      <td>0</td>\n",
       "    </tr>\n",
       "  </tbody>\n",
       "</table>\n",
       "<p>5 rows × 22 columns</p>\n",
       "</div>"
      ],
      "text/plain": [
       "   age  sex  trestbps  chol  fbs  restecg  thalach  exang  oldpeak  ca  ...  \\\n",
       "0   52    1       125   212    0        1      168      0      1.0   2  ...   \n",
       "1   53    1       140   203    1        0      155      1      3.1   0  ...   \n",
       "2   70    1       145   174    0        1      125      1      2.6   0  ...   \n",
       "3   61    1       148   203    0        1      161      0      0.0   1  ...   \n",
       "4   62    0       138   294    1        1      106      0      1.9   3  ...   \n",
       "\n",
       "   cp_1  cp_2  cp_3  thal_0  thal_1  thal_2  thal_3  slope_0  slope_1  slope_2  \n",
       "0     0     0     0       0       0       0       1        0        0        1  \n",
       "1     0     0     0       0       0       0       1        1        0        0  \n",
       "2     0     0     0       0       0       0       1        1        0        0  \n",
       "3     0     0     0       0       0       0       1        0        0        1  \n",
       "4     0     0     0       0       0       1       0        0        1        0  \n",
       "\n",
       "[5 rows x 22 columns]"
      ]
     },
     "execution_count": 209,
     "metadata": {},
     "output_type": "execute_result"
    }
   ],
   "source": [
    "df = df.drop(columns = ['cp', 'thal', 'slope'])\n",
    "df.head()"
   ]
  },
  {
   "cell_type": "markdown",
   "id": "proper-valuation",
   "metadata": {},
   "source": [
    "### Распределение данных"
   ]
  },
  {
   "cell_type": "code",
   "execution_count": 210,
   "id": "voluntary-yahoo",
   "metadata": {},
   "outputs": [],
   "source": [
    "from sklearn.model_selection import train_test_split\n",
    "\n",
    "y = df[\"target\"]\n",
    "x = df.drop(columns=[\"target\"])\n",
    "\n",
    "x_train, x_test, y_train, y_test = train_test_split(x, y, test_size=0.33, random_state=42)"
   ]
  },
  {
   "cell_type": "markdown",
   "id": "dynamic-maine",
   "metadata": {},
   "source": [
    "### Масштабирование признаков"
   ]
  },
  {
   "cell_type": "code",
   "execution_count": 211,
   "id": "everyday-locator",
   "metadata": {
    "scrolled": true
   },
   "outputs": [
    {
     "data": {
      "text/html": [
       "<div>\n",
       "<style scoped>\n",
       "    .dataframe tbody tr th:only-of-type {\n",
       "        vertical-align: middle;\n",
       "    }\n",
       "\n",
       "    .dataframe tbody tr th {\n",
       "        vertical-align: top;\n",
       "    }\n",
       "\n",
       "    .dataframe thead th {\n",
       "        text-align: right;\n",
       "    }\n",
       "</style>\n",
       "<table border=\"1\" class=\"dataframe\">\n",
       "  <thead>\n",
       "    <tr style=\"text-align: right;\">\n",
       "      <th></th>\n",
       "      <th>age</th>\n",
       "      <th>sex</th>\n",
       "      <th>trestbps</th>\n",
       "      <th>chol</th>\n",
       "      <th>fbs</th>\n",
       "      <th>restecg</th>\n",
       "      <th>thalach</th>\n",
       "      <th>exang</th>\n",
       "      <th>oldpeak</th>\n",
       "      <th>ca</th>\n",
       "      <th>...</th>\n",
       "      <th>cp_1</th>\n",
       "      <th>cp_2</th>\n",
       "      <th>cp_3</th>\n",
       "      <th>thal_0</th>\n",
       "      <th>thal_1</th>\n",
       "      <th>thal_2</th>\n",
       "      <th>thal_3</th>\n",
       "      <th>slope_0</th>\n",
       "      <th>slope_1</th>\n",
       "      <th>slope_2</th>\n",
       "    </tr>\n",
       "  </thead>\n",
       "  <tbody>\n",
       "    <tr>\n",
       "      <th>0</th>\n",
       "      <td>-1.481117</td>\n",
       "      <td>0.650566</td>\n",
       "      <td>-1.117672</td>\n",
       "      <td>0.130907</td>\n",
       "      <td>-0.425115</td>\n",
       "      <td>0.931131</td>\n",
       "      <td>1.285426</td>\n",
       "      <td>-0.696311</td>\n",
       "      <td>-0.899374</td>\n",
       "      <td>-0.729676</td>\n",
       "      <td>...</td>\n",
       "      <td>-0.41792</td>\n",
       "      <td>1.586805</td>\n",
       "      <td>-0.301032</td>\n",
       "      <td>-0.054074</td>\n",
       "      <td>-0.27429</td>\n",
       "      <td>0.946059</td>\n",
       "      <td>-0.815505</td>\n",
       "      <td>-0.261793</td>\n",
       "      <td>-0.932314</td>\n",
       "      <td>1.060113</td>\n",
       "    </tr>\n",
       "    <tr>\n",
       "      <th>1</th>\n",
       "      <td>0.394729</td>\n",
       "      <td>0.650566</td>\n",
       "      <td>-0.378854</td>\n",
       "      <td>-0.501949</td>\n",
       "      <td>-0.425115</td>\n",
       "      <td>0.931131</td>\n",
       "      <td>-0.272293</td>\n",
       "      <td>-0.696311</td>\n",
       "      <td>-0.549171</td>\n",
       "      <td>3.041003</td>\n",
       "      <td>...</td>\n",
       "      <td>2.39280</td>\n",
       "      <td>-0.630197</td>\n",
       "      <td>-0.301032</td>\n",
       "      <td>-0.054074</td>\n",
       "      <td>-0.27429</td>\n",
       "      <td>-1.057017</td>\n",
       "      <td>1.226234</td>\n",
       "      <td>-0.261793</td>\n",
       "      <td>1.072600</td>\n",
       "      <td>-0.943296</td>\n",
       "    </tr>\n",
       "    <tr>\n",
       "      <th>2</th>\n",
       "      <td>-0.488022</td>\n",
       "      <td>0.650566</td>\n",
       "      <td>1.041951</td>\n",
       "      <td>-0.016759</td>\n",
       "      <td>-0.425115</td>\n",
       "      <td>-0.992832</td>\n",
       "      <td>-0.984393</td>\n",
       "      <td>-0.696311</td>\n",
       "      <td>1.376947</td>\n",
       "      <td>-0.729676</td>\n",
       "      <td>...</td>\n",
       "      <td>-0.41792</td>\n",
       "      <td>-0.630197</td>\n",
       "      <td>-0.301032</td>\n",
       "      <td>-0.054074</td>\n",
       "      <td>-0.27429</td>\n",
       "      <td>-1.057017</td>\n",
       "      <td>1.226234</td>\n",
       "      <td>-0.261793</td>\n",
       "      <td>1.072600</td>\n",
       "      <td>-0.943296</td>\n",
       "    </tr>\n",
       "    <tr>\n",
       "      <th>3</th>\n",
       "      <td>-0.267335</td>\n",
       "      <td>0.650566</td>\n",
       "      <td>0.132636</td>\n",
       "      <td>-0.902758</td>\n",
       "      <td>-0.425115</td>\n",
       "      <td>0.931131</td>\n",
       "      <td>0.350795</td>\n",
       "      <td>-0.696311</td>\n",
       "      <td>-0.198968</td>\n",
       "      <td>0.212994</td>\n",
       "      <td>...</td>\n",
       "      <td>2.39280</td>\n",
       "      <td>-0.630197</td>\n",
       "      <td>-0.301032</td>\n",
       "      <td>-0.054074</td>\n",
       "      <td>-0.27429</td>\n",
       "      <td>0.946059</td>\n",
       "      <td>-0.815505</td>\n",
       "      <td>-0.261793</td>\n",
       "      <td>-0.932314</td>\n",
       "      <td>1.060113</td>\n",
       "    </tr>\n",
       "    <tr>\n",
       "      <th>4</th>\n",
       "      <td>-0.267335</td>\n",
       "      <td>0.650566</td>\n",
       "      <td>1.155616</td>\n",
       "      <td>1.143477</td>\n",
       "      <td>2.352304</td>\n",
       "      <td>0.931131</td>\n",
       "      <td>1.240920</td>\n",
       "      <td>-0.696311</td>\n",
       "      <td>0.151236</td>\n",
       "      <td>-0.729676</td>\n",
       "      <td>...</td>\n",
       "      <td>-0.41792</td>\n",
       "      <td>-0.630197</td>\n",
       "      <td>3.321910</td>\n",
       "      <td>-0.054074</td>\n",
       "      <td>-0.27429</td>\n",
       "      <td>-1.057017</td>\n",
       "      <td>1.226234</td>\n",
       "      <td>-0.261793</td>\n",
       "      <td>1.072600</td>\n",
       "      <td>-0.943296</td>\n",
       "    </tr>\n",
       "  </tbody>\n",
       "</table>\n",
       "<p>5 rows × 21 columns</p>\n",
       "</div>"
      ],
      "text/plain": [
       "        age       sex  trestbps      chol       fbs   restecg   thalach  \\\n",
       "0 -1.481117  0.650566 -1.117672  0.130907 -0.425115  0.931131  1.285426   \n",
       "1  0.394729  0.650566 -0.378854 -0.501949 -0.425115  0.931131 -0.272293   \n",
       "2 -0.488022  0.650566  1.041951 -0.016759 -0.425115 -0.992832 -0.984393   \n",
       "3 -0.267335  0.650566  0.132636 -0.902758 -0.425115  0.931131  0.350795   \n",
       "4 -0.267335  0.650566  1.155616  1.143477  2.352304  0.931131  1.240920   \n",
       "\n",
       "      exang   oldpeak        ca  ...     cp_1      cp_2      cp_3    thal_0  \\\n",
       "0 -0.696311 -0.899374 -0.729676  ... -0.41792  1.586805 -0.301032 -0.054074   \n",
       "1 -0.696311 -0.549171  3.041003  ...  2.39280 -0.630197 -0.301032 -0.054074   \n",
       "2 -0.696311  1.376947 -0.729676  ... -0.41792 -0.630197 -0.301032 -0.054074   \n",
       "3 -0.696311 -0.198968  0.212994  ...  2.39280 -0.630197 -0.301032 -0.054074   \n",
       "4 -0.696311  0.151236 -0.729676  ... -0.41792 -0.630197  3.321910 -0.054074   \n",
       "\n",
       "    thal_1    thal_2    thal_3   slope_0   slope_1   slope_2  \n",
       "0 -0.27429  0.946059 -0.815505 -0.261793 -0.932314  1.060113  \n",
       "1 -0.27429 -1.057017  1.226234 -0.261793  1.072600 -0.943296  \n",
       "2 -0.27429 -1.057017  1.226234 -0.261793  1.072600 -0.943296  \n",
       "3 -0.27429  0.946059 -0.815505 -0.261793 -0.932314  1.060113  \n",
       "4 -0.27429 -1.057017  1.226234 -0.261793  1.072600 -0.943296  \n",
       "\n",
       "[5 rows x 21 columns]"
      ]
     },
     "execution_count": 211,
     "metadata": {},
     "output_type": "execute_result"
    }
   ],
   "source": [
    "from sklearn.preprocessing import StandardScaler\n",
    "\n",
    "scaler = StandardScaler()\n",
    "x_train = pd.DataFrame(scaler.fit_transform(x_train), columns=x.columns)\n",
    "x_test = pd.DataFrame(scaler.transform(x_test), columns=x.columns)\n",
    "x_train.head()"
   ]
  },
  {
   "cell_type": "markdown",
   "id": "unexpected-bookmark",
   "metadata": {},
   "source": [
    "### Подбор наилучших признаков"
   ]
  },
  {
   "cell_type": "code",
   "execution_count": 212,
   "id": "featured-inquiry",
   "metadata": {},
   "outputs": [
    {
     "name": "stdout",
     "output_type": "stream",
     "text": [
      "Наилучшее количество признаков - 20\n",
      "Наиболее подходящие признаки - Index(['age', 'sex', 'trestbps', 'fbs', 'restecg', 'thalach', 'exang',\n",
      "       'oldpeak', 'ca', 'cp_0', 'cp_1', 'cp_2', 'cp_3', 'thal_0', 'thal_1',\n",
      "       'thal_2', 'thal_3', 'slope_0', 'slope_1', 'slope_2'],\n",
      "      dtype='object')\n"
     ]
    }
   ],
   "source": [
    "from sklearn.feature_selection import RFECV\n",
    "from sklearn.linear_model import LinearRegression\n",
    "\n",
    "rfecv = RFECV(estimator=LinearRegression())\n",
    "rfecv.fit(x, y)\n",
    "\n",
    "print(\"Наилучшее количество признаков -\", rfecv.n_features_)\n",
    "print(\"Наиболее подходящие признаки -\", x_train.columns[rfecv.support_])"
   ]
  },
  {
   "cell_type": "code",
   "execution_count": 213,
   "id": "responsible-reservation",
   "metadata": {},
   "outputs": [
    {
     "name": "stdout",
     "output_type": "stream",
     "text": [
      "Index(['age', 'sex', 'trestbps', 'chol', 'fbs', 'restecg', 'thalach', 'exang',\n",
      "       'oldpeak', 'ca', 'target', 'cp_0', 'cp_1', 'cp_2', 'cp_3', 'thal_0',\n",
      "       'thal_1', 'thal_2', 'thal_3', 'slope_0', 'slope_1', 'slope_2'],\n",
      "      dtype='object')\n"
     ]
    }
   ],
   "source": [
    "print(df.columns)\n",
    "unsuitableParams = set(df.columns) - set(['age', 'sex', 'cp', 'trestbps', 'fbs', 'restecg', 'thalach', 'exang',\n",
    "       'oldpeak', 'slope', 'ca', 'thal', 'target'])\n",
    "\n",
    "x_train = x_train.drop(columns=unsuitableParams)\n",
    "x_test = x_test.drop(columns=unsuitableParams)\n",
    "y_train = y_train.drop(columns=unsuitableParams)\n",
    "y_test = y_test.drop(columns=unsuitableParams)"
   ]
  },
  {
   "cell_type": "markdown",
   "id": "civil-dispute",
   "metadata": {},
   "source": [
    "### Подбор гиперпараметров"
   ]
  },
  {
   "cell_type": "code",
   "execution_count": 214,
   "id": "mobile-spelling",
   "metadata": {},
   "outputs": [],
   "source": [
    "from sklearn.model_selection import GridSearchCV\n",
    "\n",
    "def print_bestParams(gscv):\n",
    "    print(\"best estimator: \" + str(gscv.best_estimator_))\n",
    "    print(\"best params: \" + str(gscv.best_params_))\n",
    "    print('best score:', gscv.best_score_)"
   ]
  },
  {
   "cell_type": "code",
   "execution_count": 215,
   "id": "secondary-swing",
   "metadata": {},
   "outputs": [],
   "source": [
    "from sklearn.model_selection import StratifiedKFold, RepeatedStratifiedKFold"
   ]
  },
  {
   "cell_type": "markdown",
   "id": "compressed-reminder",
   "metadata": {},
   "source": [
    "### К-ближайших соседей"
   ]
  },
  {
   "cell_type": "code",
   "execution_count": 216,
   "id": "taken-indicator",
   "metadata": {},
   "outputs": [],
   "source": [
    "from sklearn.base import BaseEstimator, ClassifierMixin\n",
    "from sklearn.utils.validation import check_X_y, check_array\n",
    "\n",
    "class KNNClassifier(BaseEstimator, ClassifierMixin):\n",
    "    def __init__(self, num_neighbors=3):\n",
    "        self._num_neighbors = num_neighbors\n",
    "\n",
    "    def fit(self, X_train, y_train):\n",
    "        X_train, y_train = check_X_y(X_train, y_train)\n",
    "        self._X_train = X_train\n",
    "        self._y_train = y_train\n",
    "        return self\n",
    "\n",
    "    def predict(self, X_test):\n",
    "        X_test = check_array(X_test)\n",
    "        predictions = []\n",
    "        for test_row in X_test:\n",
    "            neighbors_indexes = self._get_neighbors_indexes(test_row)\n",
    "            label = self._most_popular_label(neighbors_indexes)\n",
    "            predictions.append(label)\n",
    "        return predictions\n",
    "\n",
    "    def _get_neighbors_indexes(self, test_row):\n",
    "        distances = list()\n",
    "        for i, train_row in enumerate(self._X_train):\n",
    "            dist = self._euclidean_distance(test_row, train_row)\n",
    "            distances.append((i, dist))\n",
    "        distances.sort(key=lambda tupl: tupl[1])\n",
    "        neighbors_indexes = list()\n",
    "        for i in range(self._num_neighbors):\n",
    "            neighbors_indexes.append(distances[i][0])\n",
    "        return neighbors_indexes\n",
    "\n",
    "    def _most_popular_label(self, neighbors_indexes):\n",
    "        labels = []\n",
    "        for i in neighbors_indexes:\n",
    "            labels.append(self._y_train[i])\n",
    "        label = max(set(labels), key=labels.count)\n",
    "        return label\n",
    "\n",
    "    def _euclidean_distance(self, row1, row2):\n",
    "        distance = 0.0\n",
    "        for i in range(len(row1) - 1):\n",
    "            distance += (row1[i] - row2[i]) ** 2\n",
    "        return np.sqrt(distance)\n",
    "\n",
    "    def get_params(self, deep=True):\n",
    "        return {\"num_neighbors\": self._num_neighbors}\n",
    "\n",
    "    def set_params(self, **parameters):\n",
    "        for parameter, value in parameters.items():\n",
    "            setattr(self, parameter, value)\n",
    "        return self"
   ]
  },
  {
   "cell_type": "code",
   "execution_count": 217,
   "id": "resistant-kinase",
   "metadata": {},
   "outputs": [
    {
     "name": "stdout",
     "output_type": "stream",
     "text": [
      "Fitting 5 folds for each of 3 candidates, totalling 15 fits\n",
      "best estimator: KNNClassifier()\n",
      "best params: {'num_neighbors': 3}\n",
      "best score: 0.8833915159208718\n"
     ]
    }
   ],
   "source": [
    "param_grid = [{\"num_neighbors\": [3, 5, 7]}]\n",
    "\n",
    "gscv = GridSearchCV(estimator=KNNClassifier(), cv=StratifiedKFold(5),\n",
    "                       return_train_score=True, param_grid=param_grid,\n",
    "                       verbose=5, n_jobs=-1)\n",
    "\n",
    "gscv.fit(x_train, y_train)\n",
    "print_bestParams(gscv)"
   ]
  },
  {
   "cell_type": "markdown",
   "id": "japanese-cabin",
   "metadata": {},
   "source": [
    "### Logistic regression"
   ]
  },
  {
   "cell_type": "code",
   "execution_count": 218,
   "id": "sitting-practitioner",
   "metadata": {},
   "outputs": [
    {
     "name": "stdout",
     "output_type": "stream",
     "text": [
      "Fitting 5 folds for each of 50 candidates, totalling 250 fits\n",
      "best estimator: LogisticRegression(C=0.10001)\n",
      "best params: {'C': 0.10001}\n",
      "best score: 0.7755527345816142\n"
     ]
    }
   ],
   "source": [
    "from sklearn.linear_model import LogisticRegression\n",
    "\n",
    "param_grid = {'C': np.arange(1e-05, 5, 0.1)}\n",
    "scoring = {'Accuracy': 'accuracy', 'AUC': 'roc_auc', 'Log_loss': 'neg_log_loss'}\n",
    "\n",
    "gscv = GridSearchCV(LogisticRegression(), return_train_score=True,\n",
    "                  param_grid=param_grid, scoring=scoring, cv=StratifiedKFold(5), refit='Accuracy',\n",
    "                   verbose=5, n_jobs=-1)\n",
    "gscv.fit(x_train, y_train)\n",
    "print_bestParams(gscv)"
   ]
  },
  {
   "cell_type": "markdown",
   "id": "complicated-baptist",
   "metadata": {},
   "source": [
    "### SVM"
   ]
  },
  {
   "cell_type": "code",
   "execution_count": 219,
   "id": "typical-tract",
   "metadata": {},
   "outputs": [
    {
     "name": "stdout",
     "output_type": "stream",
     "text": [
      "Fitting 5 folds for each of 84 candidates, totalling 420 fits\n",
      "best estimator: SVC(C=2, gamma=1, random_state=11)\n",
      "best params: {'C': 2, 'gamma': 1, 'kernel': 'rbf'}\n",
      "best score: 0.9387813392573786\n"
     ]
    }
   ],
   "source": [
    "from sklearn.svm import SVC\n",
    "\n",
    "C = [0.1, 0.25, 0.5, 0.75, 1, 2]\n",
    "kernel = [\"linear\", \"rbf\"]\n",
    "gamma = [\"scale\", \"auto\", 0.0001, 0.001, 0.01, 0.1, 1]\n",
    "\n",
    "gscv = GridSearchCV(estimator=SVC(random_state=11), cv=StratifiedKFold(5),\n",
    "                        param_grid=dict(kernel=kernel,C=C, gamma=gamma),\n",
    "                       verbose=5, n_jobs=-1)\n",
    "gscv.fit(x_train, y_train)\n",
    "print_bestParams(gscv)"
   ]
  },
  {
   "cell_type": "markdown",
   "id": "deadly-hazard",
   "metadata": {},
   "source": [
    "### KNN"
   ]
  },
  {
   "cell_type": "code",
   "execution_count": 220,
   "id": "portuguese-society",
   "metadata": {},
   "outputs": [
    {
     "name": "stdout",
     "output_type": "stream",
     "text": [
      "Fitting 25 folds for each of 2 candidates, totalling 50 fits\n",
      "best estimator: KNeighborsClassifier(n_neighbors=3, weights='distance')\n",
      "best params: {'n_neighbors': 3, 'weights': 'distance'}\n",
      "best score: 0.9632518777107798\n"
     ]
    }
   ],
   "source": [
    "from sklearn.neighbors import KNeighborsClassifier\n",
    "\n",
    "n_neighbors = np.arange(3, 5, 7)\n",
    "weights = ['uniform', 'distance']\n",
    "scoring = {'Accuracy': 'accuracy', 'AUC': 'roc_auc', 'Log_loss': 'neg_log_loss'}\n",
    "\n",
    "gscv = GridSearchCV(estimator=KNeighborsClassifier(), cv=RepeatedStratifiedKFold(n_splits=5, n_repeats=5, random_state=12),\n",
    "                       scoring=scoring, return_train_score=True,\n",
    "                       param_grid=dict(n_neighbors=n_neighbors, weights=weights), refit='Accuracy',\n",
    "                       verbose=5, n_jobs=-1)\n",
    "\n",
    "gscv.fit(x_train, y_train)\n",
    "print_bestParams(gscv)"
   ]
  },
  {
   "cell_type": "markdown",
   "id": "australian-threshold",
   "metadata": {},
   "source": [
    "### Naive Bayes"
   ]
  },
  {
   "cell_type": "code",
   "execution_count": 221,
   "id": "organizational-clerk",
   "metadata": {},
   "outputs": [
    {
     "name": "stdout",
     "output_type": "stream",
     "text": [
      "best estimator: GaussianNB(priors=[0.5, 0.5], var_smoothing=1.0)\n",
      "best params: {'priors': [0.5, 0.5], 'var_smoothing': 1.0}\n",
      "best score: 0.7909594837617686\n"
     ]
    }
   ],
   "source": [
    "from sklearn.naive_bayes import GaussianNB\n",
    "\n",
    "priors = [None, [0.62, 0.38], [0.5, 0.5]]\n",
    "var_smoothing = np.logspace(0, -9, num=100)\n",
    "scoring = {'Accuracy': 'accuracy', 'AUC': 'roc_auc', 'Log_loss': 'neg_log_loss'}\n",
    "\n",
    "gscv = GridSearchCV(estimator=GaussianNB(), cv=RepeatedStratifiedKFold(n_splits=5, n_repeats=5, random_state=23),\n",
    "                      scoring=scoring, return_train_score=True,\n",
    "                      param_grid=dict(priors=priors, var_smoothing=var_smoothing), refit='Accuracy',\n",
    "                      n_jobs=-1)\n",
    "\n",
    "gscv.fit(x_train, y_train)\n",
    "print_bestParams(gscv)"
   ]
  },
  {
   "cell_type": "markdown",
   "id": "analyzed-laundry",
   "metadata": {},
   "source": [
    "### Decision Tree"
   ]
  },
  {
   "cell_type": "code",
   "execution_count": 222,
   "id": "guided-firmware",
   "metadata": {},
   "outputs": [
    {
     "name": "stdout",
     "output_type": "stream",
     "text": [
      "best estimator: DecisionTreeClassifier(max_depth=20, max_features=6, random_state=42,\n",
      "                       splitter='random')\n",
      "best params: {'criterion': 'gini', 'max_depth': 20, 'max_features': 6, 'min_samples_leaf': 1, 'min_samples_split': 2, 'splitter': 'random'}\n",
      "best score: 0.9708346556648684\n"
     ]
    }
   ],
   "source": [
    "from sklearn.tree import DecisionTreeClassifier\n",
    "\n",
    "criterion = [\"gini\", \"entropy\", \"log_loss\"]\n",
    "splitter = [\"best\", \"random\"]\n",
    "max_depth = [2, 3, 4, 5, 10, 20]\n",
    "min_samples_split = [2, 4, 5, 10]\n",
    "min_samples_leaf = [1, 2, 4, 6]\n",
    "max_features = [2, 4, 6, 8]\n",
    "\n",
    "gscv = GridSearchCV(estimator=DecisionTreeClassifier(random_state=42), cv=StratifiedKFold(5),\n",
    "                       param_grid=dict(criterion=criterion,splitter=splitter, max_depth=max_depth,\n",
    "                                       min_samples_split=min_samples_split, min_samples_leaf=min_samples_leaf,\n",
    "                                       max_features= max_features), n_jobs=-1)\n",
    "gscv.fit(x_train, y_train)\n",
    "print_bestParams(gscv)"
   ]
  },
  {
   "cell_type": "markdown",
   "id": "convertible-consultation",
   "metadata": {},
   "source": [
    "## Тесты"
   ]
  },
  {
   "cell_type": "code",
   "execution_count": 223,
   "id": "selective-pharmacy",
   "metadata": {},
   "outputs": [],
   "source": [
    "results = {}"
   ]
  },
  {
   "cell_type": "markdown",
   "id": "grateful-agreement",
   "metadata": {},
   "source": [
    "### К-ближайших соседей"
   ]
  },
  {
   "cell_type": "code",
   "execution_count": 224,
   "id": "accomplished-rubber",
   "metadata": {},
   "outputs": [
    {
     "name": "stdout",
     "output_type": "stream",
     "text": [
      "Accuracy of self_KNN - 0.8495575221238938\n"
     ]
    }
   ],
   "source": [
    "self_knn = KNNClassifier(num_neighbors=7)\n",
    "self_knn.fit(x_train, y_train)\n",
    "\n",
    "result = self_knn.score(x_test, y_test)\n",
    "results['Self KNN'] = result\n",
    "print(\"Accuracy of self_KNN -\", result)"
   ]
  },
  {
   "cell_type": "markdown",
   "id": "editorial-paragraph",
   "metadata": {},
   "source": [
    "### LogisticRegression"
   ]
  },
  {
   "cell_type": "code",
   "execution_count": 225,
   "id": "extraordinary-sullivan",
   "metadata": {},
   "outputs": [
    {
     "name": "stdout",
     "output_type": "stream",
     "text": [
      "Accuracy of Logistic Regression - 0.8023598820058997\n"
     ]
    }
   ],
   "source": [
    "lr = LogisticRegression(C=2.7)\n",
    "lr.fit(x_train, y_train)\n",
    "\n",
    "result = lr.score(x_test, y_test)\n",
    "results['Logistic Regression'] = result\n",
    "print(\"Accuracy of Logistic Regression -\", result)"
   ]
  },
  {
   "cell_type": "markdown",
   "id": "straight-stone",
   "metadata": {},
   "source": [
    "### SVM"
   ]
  },
  {
   "cell_type": "code",
   "execution_count": 226,
   "id": "preliminary-rendering",
   "metadata": {},
   "outputs": [
    {
     "name": "stdout",
     "output_type": "stream",
     "text": [
      "Accuracy of SVM - 0.9469026548672567\n"
     ]
    }
   ],
   "source": [
    "svm = SVC(C=0.75, gamma=1, kernel='rbf', random_state = 11)\n",
    "svm.fit(x_train, y_train)\n",
    "\n",
    "result = svm.score(x_test, y_test)\n",
    "results['SVM'] = result\n",
    "print(\"Accuracy of SVM -\", result)"
   ]
  },
  {
   "cell_type": "markdown",
   "id": "straight-pointer",
   "metadata": {},
   "source": [
    "### KNN"
   ]
  },
  {
   "cell_type": "code",
   "execution_count": 227,
   "id": "stopped-miami",
   "metadata": {},
   "outputs": [
    {
     "name": "stdout",
     "output_type": "stream",
     "text": [
      "Accuracy of KNN - 0.9911504424778761\n"
     ]
    }
   ],
   "source": [
    "knn = KNeighborsClassifier(n_neighbors=7, weights='distance')\n",
    "knn.fit(x_train, y_train)\n",
    "\n",
    "result = knn.score(x_test, y_test)\n",
    "results['KNN'] = result\n",
    "print(\"Accuracy of KNN -\", result)"
   ]
  },
  {
   "cell_type": "markdown",
   "id": "municipal-acoustic",
   "metadata": {},
   "source": [
    "### Naive Bayes"
   ]
  },
  {
   "cell_type": "code",
   "execution_count": 228,
   "id": "right-laser",
   "metadata": {},
   "outputs": [
    {
     "name": "stdout",
     "output_type": "stream",
     "text": [
      "Accuracy of Naive Bayes - 0.7787610619469026\n"
     ]
    }
   ],
   "source": [
    "nb = GaussianNB(priors=[0.62, 0.38], var_smoothing=0.657933224657568)\n",
    "nb.fit(x_train, y_train)\n",
    "\n",
    "result = nb.score(x_test, y_test)\n",
    "results['Naive Bayes'] = result\n",
    "print(\"Accuracy of Naive Bayes -\", result)"
   ]
  },
  {
   "cell_type": "markdown",
   "id": "forced-beginning",
   "metadata": {},
   "source": [
    "### Decision Tree"
   ]
  },
  {
   "cell_type": "code",
   "execution_count": 229,
   "id": "recognized-organizer",
   "metadata": {},
   "outputs": [
    {
     "name": "stdout",
     "output_type": "stream",
     "text": [
      "Accuracy of Decision Tree - 0.9734513274336283\n"
     ]
    }
   ],
   "source": [
    "dtc = DecisionTreeClassifier(criterion='entropy', max_depth=20, max_features=4, min_samples_leaf=1, min_samples_split=2, splitter='random')\n",
    "dtc.fit(x_train, y_train)\n",
    "\n",
    "result = dtc.score(x_test, y_test)\n",
    "results['Decision Tree'] = result\n",
    "print(\"Accuracy of Decision Tree -\", result)"
   ]
  },
  {
   "cell_type": "markdown",
   "id": "whole-found",
   "metadata": {},
   "source": [
    "## Сравнение моделей"
   ]
  },
  {
   "cell_type": "code",
   "execution_count": 230,
   "id": "thousand-poison",
   "metadata": {},
   "outputs": [
    {
     "data": {
      "image/png": "[encoded data removed]",
      "text/plain": [
       "<Figure size 1440x720 with 1 Axes>"
      ]
     },
     "metadata": {
      "needs_background": "light"
     },
     "output_type": "display_data"
    }
   ],
   "source": [
    "plt.figure(figsize=(20, 10))\n",
    "plt.xlabel(\"Models\")\n",
    "plt.ylabel(\"Results\")\n",
    "plt.yticks(np.arange(0, 1.1, 0.1))\n",
    "\n",
    "sns.barplot(x=list(results.keys()), y=list(results.values()))\n",
    "plt.show()"
   ]
  },
  {
   "cell_type": "markdown",
   "id": "honey-guinea",
   "metadata": {},
   "source": [
    "Наилучшие результаты получились с моделями SVM, KNN и Decision Tree"
   ]
  },
  {
   "cell_type": "markdown",
   "id": "moving-overhead",
   "metadata": {},
   "source": [
    "# Confusion Matrix"
   ]
  },
  {
   "cell_type": "code",
   "execution_count": 231,
   "id": "awful-attribute",
   "metadata": {
    "scrolled": true
   },
   "outputs": [
    {
     "data": {
      "image/png": "[encoded data removed]",
      "text/plain": [
       "<Figure size 2160x1080 with 6 Axes>"
      ]
     },
     "metadata": {
      "needs_background": "light"
     },
     "output_type": "display_data"
    }
   ],
   "source": [
    "from sklearn.metrics import confusion_matrix\n",
    "\n",
    "plt.figure(figsize=(30, 15))\n",
    "\n",
    "for i, (name, cm) in enumerate([\n",
    "    (\"Self KNN\", confusion_matrix(y_test, self_knn.predict(x_test))),\n",
    "    (\"LR\", confusion_matrix(y_test, lr.predict(x_test))),\n",
    "    (\"KNN\", confusion_matrix(y_test, knn.predict(x_test))),\n",
    "    (\"SVM\", confusion_matrix(y_test, svm.predict(x_test))),\n",
    "    (\"NB\", confusion_matrix(y_test, nb.predict(x_test))),\n",
    "    (\"DT\", confusion_matrix(y_test, dtc.predict(x_test)))\n",
    "]):\n",
    "    plt.subplot(2, 3, i + 1)\n",
    "    plt.title(name)\n",
    "    sns.heatmap(cm,annot=True,cmap=\"Reds\",fmt=\"d\",cbar=False, annot_kws={\"size\": 20})\n",
    "\n",
    "plt.show()"
   ]
  },
  {
   "cell_type": "markdown",
   "id": "chief-initial",
   "metadata": {},
   "source": [
    "## Новые данные"
   ]
  },
  {
   "cell_type": "markdown",
   "id": "agricultural-barbados",
   "metadata": {},
   "source": [
    "Описание датасета: \n",
    "\n",
    "- Gender: male or female\n",
    "- Customer type: regular or non-regular airline customer\n",
    "- Age: the actual age of the passenger\n",
    "- Type of travel: the purpose of the passenger's flight (personal or business travel)\n",
    "- Class: business, economy, economy plus\n",
    "- Flight distance\n",
    "- Inflight wifi service: satisfaction level with Wi-Fi service on board (0: not rated; 1-5)\n",
    "- Departure/Arrival time convenient: departure/arrival time satisfaction level (0: not rated; 1-5)\n",
    "- Ease of Online booking: online booking satisfaction rate (0: not rated; 1-5)\n",
    "- Gate location: level of satisfaction with the gate location (0: not rated; 1-5)\n",
    "- Food and drink: food and drink satisfaction level (0: not rated; 1-5)\n",
    "- Online boarding: satisfaction level with online boarding (0: not rated; 1-5)\n",
    "- Seat comfort: seat satisfaction level (0: not rated; 1-5)\n",
    "- Inflight entertainment: satisfaction with inflight entertainment (0: not rated; 1-5)\n",
    "- On-board service: level of satisfaction with on-board service (0: not rated; 1-5)\n",
    "- Leg room service: level of satisfaction with leg room service (0: not rated; 1-5)\n",
    "- Baggage handling: level of satisfaction with baggage handling (0: not rated; 1-5)\n",
    "- Checkin service: level of satisfaction with checkin service (0: not rated; 1-5)\n",
    "- Inflight service: level of satisfaction with inflight service (0: not rated; 1-5)\n",
    "- Cleanliness: level of satisfaction with cleanliness (0: not rated; 1-5)\n",
    "- Departure delay in minutes\n",
    "- Arrival delay in minutes"
   ]
  },
  {
   "cell_type": "markdown",
   "id": "caring-titanium",
   "metadata": {},
   "source": [
    "Необходимо решить задачу классификации и научиться предсказывать целовой признак satisfaction удовлетворен ли пассажир полетом."
   ]
  },
  {
   "cell_type": "code",
   "execution_count": 276,
   "id": "tender-upset",
   "metadata": {},
   "outputs": [
    {
     "data": {
      "text/html": [
       "<div>\n",
       "<style scoped>\n",
       "    .dataframe tbody tr th:only-of-type {\n",
       "        vertical-align: middle;\n",
       "    }\n",
       "\n",
       "    .dataframe tbody tr th {\n",
       "        vertical-align: top;\n",
       "    }\n",
       "\n",
       "    .dataframe thead th {\n",
       "        text-align: right;\n",
       "    }\n",
       "</style>\n",
       "<table border=\"1\" class=\"dataframe\">\n",
       "  <thead>\n",
       "    <tr style=\"text-align: right;\">\n",
       "      <th></th>\n",
       "      <th>Unnamed: 0</th>\n",
       "      <th>id</th>\n",
       "      <th>Gender</th>\n",
       "      <th>Customer Type</th>\n",
       "      <th>Age</th>\n",
       "      <th>Type of Travel</th>\n",
       "      <th>Class</th>\n",
       "      <th>Flight Distance</th>\n",
       "      <th>Inflight wifi service</th>\n",
       "      <th>Departure/Arrival time convenient</th>\n",
       "      <th>...</th>\n",
       "      <th>Inflight entertainment</th>\n",
       "      <th>On-board service</th>\n",
       "      <th>Leg room service</th>\n",
       "      <th>Baggage handling</th>\n",
       "      <th>Checkin service</th>\n",
       "      <th>Inflight service</th>\n",
       "      <th>Cleanliness</th>\n",
       "      <th>Departure Delay in Minutes</th>\n",
       "      <th>Arrival Delay in Minutes</th>\n",
       "      <th>satisfaction</th>\n",
       "    </tr>\n",
       "  </thead>\n",
       "  <tbody>\n",
       "    <tr>\n",
       "      <th>0</th>\n",
       "      <td>0</td>\n",
       "      <td>19556</td>\n",
       "      <td>Female</td>\n",
       "      <td>Loyal Customer</td>\n",
       "      <td>52</td>\n",
       "      <td>Business travel</td>\n",
       "      <td>Eco</td>\n",
       "      <td>160</td>\n",
       "      <td>5</td>\n",
       "      <td>4</td>\n",
       "      <td>...</td>\n",
       "      <td>5</td>\n",
       "      <td>5</td>\n",
       "      <td>5</td>\n",
       "      <td>5</td>\n",
       "      <td>2</td>\n",
       "      <td>5</td>\n",
       "      <td>5</td>\n",
       "      <td>50</td>\n",
       "      <td>44.0</td>\n",
       "      <td>satisfied</td>\n",
       "    </tr>\n",
       "    <tr>\n",
       "      <th>1</th>\n",
       "      <td>1</td>\n",
       "      <td>90035</td>\n",
       "      <td>Female</td>\n",
       "      <td>Loyal Customer</td>\n",
       "      <td>36</td>\n",
       "      <td>Business travel</td>\n",
       "      <td>Business</td>\n",
       "      <td>2863</td>\n",
       "      <td>1</td>\n",
       "      <td>1</td>\n",
       "      <td>...</td>\n",
       "      <td>4</td>\n",
       "      <td>4</td>\n",
       "      <td>4</td>\n",
       "      <td>4</td>\n",
       "      <td>3</td>\n",
       "      <td>4</td>\n",
       "      <td>5</td>\n",
       "      <td>0</td>\n",
       "      <td>0.0</td>\n",
       "      <td>satisfied</td>\n",
       "    </tr>\n",
       "    <tr>\n",
       "      <th>2</th>\n",
       "      <td>2</td>\n",
       "      <td>12360</td>\n",
       "      <td>Male</td>\n",
       "      <td>disloyal Customer</td>\n",
       "      <td>20</td>\n",
       "      <td>Business travel</td>\n",
       "      <td>Eco</td>\n",
       "      <td>192</td>\n",
       "      <td>2</td>\n",
       "      <td>0</td>\n",
       "      <td>...</td>\n",
       "      <td>2</td>\n",
       "      <td>4</td>\n",
       "      <td>1</td>\n",
       "      <td>3</td>\n",
       "      <td>2</td>\n",
       "      <td>2</td>\n",
       "      <td>2</td>\n",
       "      <td>0</td>\n",
       "      <td>0.0</td>\n",
       "      <td>neutral or dissatisfied</td>\n",
       "    </tr>\n",
       "    <tr>\n",
       "      <th>3</th>\n",
       "      <td>3</td>\n",
       "      <td>77959</td>\n",
       "      <td>Male</td>\n",
       "      <td>Loyal Customer</td>\n",
       "      <td>44</td>\n",
       "      <td>Business travel</td>\n",
       "      <td>Business</td>\n",
       "      <td>3377</td>\n",
       "      <td>0</td>\n",
       "      <td>0</td>\n",
       "      <td>...</td>\n",
       "      <td>1</td>\n",
       "      <td>1</td>\n",
       "      <td>1</td>\n",
       "      <td>1</td>\n",
       "      <td>3</td>\n",
       "      <td>1</td>\n",
       "      <td>4</td>\n",
       "      <td>0</td>\n",
       "      <td>6.0</td>\n",
       "      <td>satisfied</td>\n",
       "    </tr>\n",
       "    <tr>\n",
       "      <th>4</th>\n",
       "      <td>4</td>\n",
       "      <td>36875</td>\n",
       "      <td>Female</td>\n",
       "      <td>Loyal Customer</td>\n",
       "      <td>49</td>\n",
       "      <td>Business travel</td>\n",
       "      <td>Eco</td>\n",
       "      <td>1182</td>\n",
       "      <td>2</td>\n",
       "      <td>3</td>\n",
       "      <td>...</td>\n",
       "      <td>2</td>\n",
       "      <td>2</td>\n",
       "      <td>2</td>\n",
       "      <td>2</td>\n",
       "      <td>4</td>\n",
       "      <td>2</td>\n",
       "      <td>4</td>\n",
       "      <td>0</td>\n",
       "      <td>20.0</td>\n",
       "      <td>satisfied</td>\n",
       "    </tr>\n",
       "  </tbody>\n",
       "</table>\n",
       "<p>5 rows × 25 columns</p>\n",
       "</div>"
      ],
      "text/plain": [
       "   Unnamed: 0     id  Gender      Customer Type  Age   Type of Travel  \\\n",
       "0           0  19556  Female     Loyal Customer   52  Business travel   \n",
       "1           1  90035  Female     Loyal Customer   36  Business travel   \n",
       "2           2  12360    Male  disloyal Customer   20  Business travel   \n",
       "3           3  77959    Male     Loyal Customer   44  Business travel   \n",
       "4           4  36875  Female     Loyal Customer   49  Business travel   \n",
       "\n",
       "      Class  Flight Distance  Inflight wifi service  \\\n",
       "0       Eco              160                      5   \n",
       "1  Business             2863                      1   \n",
       "2       Eco              192                      2   \n",
       "3  Business             3377                      0   \n",
       "4       Eco             1182                      2   \n",
       "\n",
       "   Departure/Arrival time convenient  ...  Inflight entertainment  \\\n",
       "0                                  4  ...                       5   \n",
       "1                                  1  ...                       4   \n",
       "2                                  0  ...                       2   \n",
       "3                                  0  ...                       1   \n",
       "4                                  3  ...                       2   \n",
       "\n",
       "   On-board service  Leg room service  Baggage handling  Checkin service  \\\n",
       "0                 5                 5                 5                2   \n",
       "1                 4                 4                 4                3   \n",
       "2                 4                 1                 3                2   \n",
       "3                 1                 1                 1                3   \n",
       "4                 2                 2                 2                4   \n",
       "\n",
       "   Inflight service  Cleanliness  Departure Delay in Minutes  \\\n",
       "0                 5            5                          50   \n",
       "1                 4            5                           0   \n",
       "2                 2            2                           0   \n",
       "3                 1            4                           0   \n",
       "4                 2            4                           0   \n",
       "\n",
       "   Arrival Delay in Minutes             satisfaction  \n",
       "0                      44.0                satisfied  \n",
       "1                       0.0                satisfied  \n",
       "2                       0.0  neutral or dissatisfied  \n",
       "3                       6.0                satisfied  \n",
       "4                      20.0                satisfied  \n",
       "\n",
       "[5 rows x 25 columns]"
      ]
     },
     "execution_count": 276,
     "metadata": {},
     "output_type": "execute_result"
    }
   ],
   "source": [
    "df = pd.read_csv('/Users/sergioramos4/Downloads/flight.csv')\n",
    "df.head()"
   ]
  },
  {
   "cell_type": "markdown",
   "id": "living-working",
   "metadata": {},
   "source": [
    "## Первичный анализ признаков"
   ]
  },
  {
   "cell_type": "code",
   "execution_count": 233,
   "id": "present-jungle",
   "metadata": {},
   "outputs": [
    {
     "data": {
      "text/plain": [
       "Unnamed: 0                           0\n",
       "id                                   0\n",
       "Gender                               0\n",
       "Customer Type                        0\n",
       "Age                                  0\n",
       "Type of Travel                       0\n",
       "Class                                0\n",
       "Flight Distance                      0\n",
       "Inflight wifi service                0\n",
       "Departure/Arrival time convenient    0\n",
       "Ease of Online booking               0\n",
       "Gate location                        0\n",
       "Food and drink                       0\n",
       "Online boarding                      0\n",
       "Seat comfort                         0\n",
       "Inflight entertainment               0\n",
       "On-board service                     0\n",
       "Leg room service                     0\n",
       "Baggage handling                     0\n",
       "Checkin service                      0\n",
       "Inflight service                     0\n",
       "Cleanliness                          0\n",
       "Departure Delay in Minutes           0\n",
       "Arrival Delay in Minutes             7\n",
       "satisfaction                         0\n",
       "dtype: int64"
      ]
     },
     "execution_count": 233,
     "metadata": {},
     "output_type": "execute_result"
    }
   ],
   "source": [
    "df.isnull().sum()"
   ]
  },
  {
   "cell_type": "markdown",
   "id": "other-panel",
   "metadata": {},
   "source": [
    "Посмотрим статистику по целевому признаку"
   ]
  },
  {
   "cell_type": "code",
   "execution_count": 234,
   "id": "agreed-company",
   "metadata": {},
   "outputs": [
    {
     "data": {
      "text/plain": [
       "neutral or dissatisfied    1132\n",
       "satisfied                   894\n",
       "Name: satisfaction, dtype: int64"
      ]
     },
     "execution_count": 234,
     "metadata": {},
     "output_type": "execute_result"
    }
   ],
   "source": [
    "df['satisfaction'].value_counts()"
   ]
  },
  {
   "cell_type": "code",
   "execution_count": 235,
   "id": "found-support",
   "metadata": {},
   "outputs": [
    {
     "data": {
      "image/png": "[encoded data removed]",
      "text/plain": [
       "<Figure size 432x288 with 1 Axes>"
      ]
     },
     "metadata": {
      "needs_background": "light"
     },
     "output_type": "display_data"
    }
   ],
   "source": [
    "sns.countplot(df['satisfaction'])\n",
    "plt.show()"
   ]
  },
  {
   "cell_type": "code",
   "execution_count": 236,
   "id": "suspected-actress",
   "metadata": {},
   "outputs": [
    {
     "data": {
      "image/png": "[encoded data removed]",
      "text/plain": [
       "<Figure size 432x288 with 1 Axes>"
      ]
     },
     "metadata": {
      "needs_background": "light"
     },
     "output_type": "display_data"
    }
   ],
   "source": [
    "sns.countplot(x='Gender', data=df)\n",
    "plt.show()"
   ]
  },
  {
   "cell_type": "code",
   "execution_count": 237,
   "id": "verbal-requirement",
   "metadata": {},
   "outputs": [
    {
     "data": {
      "image/png": "[encoded data removed]",
      "text/plain": [
       "<Figure size 432x288 with 1 Axes>"
      ]
     },
     "metadata": {
      "needs_background": "light"
     },
     "output_type": "display_data"
    }
   ],
   "source": [
    "sns.countplot(x='Customer Type', data=df)\n",
    "plt.show()"
   ]
  },
  {
   "cell_type": "code",
   "execution_count": 238,
   "id": "sonic-hepatitis",
   "metadata": {},
   "outputs": [
    {
     "data": {
      "image/png": "[encoded data removed]",
      "text/plain": [
       "<Figure size 432x288 with 1 Axes>"
      ]
     },
     "metadata": {
      "needs_background": "light"
     },
     "output_type": "display_data"
    }
   ],
   "source": [
    "sns.countplot(x='Type of Travel', data=df)\n",
    "plt.show()"
   ]
  },
  {
   "cell_type": "code",
   "execution_count": 239,
   "id": "yellow-blues",
   "metadata": {
    "scrolled": true
   },
   "outputs": [
    {
     "data": {
      "image/png": "[encoded data removed]",
      "text/plain": [
       "<Figure size 432x288 with 1 Axes>"
      ]
     },
     "metadata": {
      "needs_background": "light"
     },
     "output_type": "display_data"
    }
   ],
   "source": [
    "sns.countplot(x='Class', data=df)\n",
    "plt.show()"
   ]
  },
  {
   "cell_type": "code",
   "execution_count": 240,
   "id": "seven-annotation",
   "metadata": {},
   "outputs": [
    {
     "data": {
      "text/html": [
       "<div>\n",
       "<style scoped>\n",
       "    .dataframe tbody tr th:only-of-type {\n",
       "        vertical-align: middle;\n",
       "    }\n",
       "\n",
       "    .dataframe tbody tr th {\n",
       "        vertical-align: top;\n",
       "    }\n",
       "\n",
       "    .dataframe thead th {\n",
       "        text-align: right;\n",
       "    }\n",
       "</style>\n",
       "<table border=\"1\" class=\"dataframe\">\n",
       "  <thead>\n",
       "    <tr style=\"text-align: right;\">\n",
       "      <th></th>\n",
       "      <th>Unnamed: 0</th>\n",
       "      <th>id</th>\n",
       "      <th>Age</th>\n",
       "      <th>Flight Distance</th>\n",
       "      <th>Inflight wifi service</th>\n",
       "      <th>Departure/Arrival time convenient</th>\n",
       "      <th>Ease of Online booking</th>\n",
       "      <th>Gate location</th>\n",
       "      <th>Food and drink</th>\n",
       "      <th>Online boarding</th>\n",
       "      <th>Seat comfort</th>\n",
       "      <th>Inflight entertainment</th>\n",
       "      <th>On-board service</th>\n",
       "      <th>Leg room service</th>\n",
       "      <th>Baggage handling</th>\n",
       "      <th>Checkin service</th>\n",
       "      <th>Inflight service</th>\n",
       "      <th>Cleanliness</th>\n",
       "      <th>Departure Delay in Minutes</th>\n",
       "      <th>Arrival Delay in Minutes</th>\n",
       "    </tr>\n",
       "    <tr>\n",
       "      <th>satisfaction</th>\n",
       "      <th></th>\n",
       "      <th></th>\n",
       "      <th></th>\n",
       "      <th></th>\n",
       "      <th></th>\n",
       "      <th></th>\n",
       "      <th></th>\n",
       "      <th></th>\n",
       "      <th></th>\n",
       "      <th></th>\n",
       "      <th></th>\n",
       "      <th></th>\n",
       "      <th></th>\n",
       "      <th></th>\n",
       "      <th></th>\n",
       "      <th></th>\n",
       "      <th></th>\n",
       "      <th></th>\n",
       "      <th></th>\n",
       "      <th></th>\n",
       "    </tr>\n",
       "  </thead>\n",
       "  <tbody>\n",
       "    <tr>\n",
       "      <th>neutral or dissatisfied</th>\n",
       "      <td>1036.710247</td>\n",
       "      <td>65262.756184</td>\n",
       "      <td>38.298587</td>\n",
       "      <td>938.195230</td>\n",
       "      <td>2.371025</td>\n",
       "      <td>3.106890</td>\n",
       "      <td>2.533569</td>\n",
       "      <td>2.954947</td>\n",
       "      <td>2.996466</td>\n",
       "      <td>2.622792</td>\n",
       "      <td>3.056537</td>\n",
       "      <td>2.946996</td>\n",
       "      <td>3.000000</td>\n",
       "      <td>3.041519</td>\n",
       "      <td>3.349823</td>\n",
       "      <td>3.040636</td>\n",
       "      <td>3.435512</td>\n",
       "      <td>2.939929</td>\n",
       "      <td>16.861307</td>\n",
       "      <td>17.352575</td>\n",
       "    </tr>\n",
       "    <tr>\n",
       "      <th>satisfied</th>\n",
       "      <td>981.844519</td>\n",
       "      <td>64452.686801</td>\n",
       "      <td>42.230425</td>\n",
       "      <td>1595.065996</td>\n",
       "      <td>3.183445</td>\n",
       "      <td>2.940716</td>\n",
       "      <td>2.978747</td>\n",
       "      <td>2.969799</td>\n",
       "      <td>3.534676</td>\n",
       "      <td>4.020134</td>\n",
       "      <td>3.976510</td>\n",
       "      <td>3.974273</td>\n",
       "      <td>3.848993</td>\n",
       "      <td>3.842282</td>\n",
       "      <td>3.963087</td>\n",
       "      <td>3.602908</td>\n",
       "      <td>3.987696</td>\n",
       "      <td>3.778523</td>\n",
       "      <td>14.927293</td>\n",
       "      <td>14.713326</td>\n",
       "    </tr>\n",
       "  </tbody>\n",
       "</table>\n",
       "</div>"
      ],
      "text/plain": [
       "                          Unnamed: 0            id        Age  \\\n",
       "satisfaction                                                    \n",
       "neutral or dissatisfied  1036.710247  65262.756184  38.298587   \n",
       "satisfied                 981.844519  64452.686801  42.230425   \n",
       "\n",
       "                         Flight Distance  Inflight wifi service  \\\n",
       "satisfaction                                                      \n",
       "neutral or dissatisfied       938.195230               2.371025   \n",
       "satisfied                    1595.065996               3.183445   \n",
       "\n",
       "                         Departure/Arrival time convenient  \\\n",
       "satisfaction                                                 \n",
       "neutral or dissatisfied                           3.106890   \n",
       "satisfied                                         2.940716   \n",
       "\n",
       "                         Ease of Online booking  Gate location  \\\n",
       "satisfaction                                                     \n",
       "neutral or dissatisfied                2.533569       2.954947   \n",
       "satisfied                              2.978747       2.969799   \n",
       "\n",
       "                         Food and drink  Online boarding  Seat comfort  \\\n",
       "satisfaction                                                             \n",
       "neutral or dissatisfied        2.996466         2.622792      3.056537   \n",
       "satisfied                      3.534676         4.020134      3.976510   \n",
       "\n",
       "                         Inflight entertainment  On-board service  \\\n",
       "satisfaction                                                        \n",
       "neutral or dissatisfied                2.946996          3.000000   \n",
       "satisfied                              3.974273          3.848993   \n",
       "\n",
       "                         Leg room service  Baggage handling  Checkin service  \\\n",
       "satisfaction                                                                   \n",
       "neutral or dissatisfied          3.041519          3.349823         3.040636   \n",
       "satisfied                        3.842282          3.963087         3.602908   \n",
       "\n",
       "                         Inflight service  Cleanliness  \\\n",
       "satisfaction                                             \n",
       "neutral or dissatisfied          3.435512     2.939929   \n",
       "satisfied                        3.987696     3.778523   \n",
       "\n",
       "                         Departure Delay in Minutes  Arrival Delay in Minutes  \n",
       "satisfaction                                                                   \n",
       "neutral or dissatisfied                   16.861307                 17.352575  \n",
       "satisfied                                 14.927293                 14.713326  "
      ]
     },
     "execution_count": 240,
     "metadata": {},
     "output_type": "execute_result"
    }
   ],
   "source": [
    "df.groupby('satisfaction').mean()"
   ]
  },
  {
   "cell_type": "code",
   "execution_count": 241,
   "id": "studied-bennett",
   "metadata": {},
   "outputs": [
    {
     "data": {
      "image/png": "[encoded data removed]",
      "text/plain": [
       "<Figure size 1440x432 with 1 Axes>"
      ]
     },
     "metadata": {
      "needs_background": "light"
     },
     "output_type": "display_data"
    }
   ],
   "source": [
    "pd.crosstab(df.Age,df.satisfaction).plot(kind=\"bar\", figsize=(20, 6))\n",
    "plt.title('Satisfaction Frequency for Ages')\n",
    "plt.xlabel('Age')\n",
    "plt.ylabel('Frequency')\n",
    "plt.show()"
   ]
  },
  {
   "cell_type": "code",
   "execution_count": 242,
   "id": "indirect-edward",
   "metadata": {},
   "outputs": [
    {
     "data": {
      "image/png": "[encoded data removed]",
      "text/plain": [
       "<Figure size 1080x432 with 1 Axes>"
      ]
     },
     "metadata": {
      "needs_background": "light"
     },
     "output_type": "display_data"
    }
   ],
   "source": [
    "pd.crosstab(df.Gender,df.satisfaction).plot(kind=\"bar\", figsize=(15, 6))\n",
    "plt.title('Satisfaction Frequency for Sex')\n",
    "plt.xticks(rotation=0)\n",
    "plt.legend([\"Satisfied\", \"Not satisfied\"])\n",
    "plt.ylabel('Frequency')\n",
    "plt.show()"
   ]
  },
  {
   "cell_type": "code",
   "execution_count": 243,
   "id": "authorized-style",
   "metadata": {},
   "outputs": [
    {
     "data": {
      "image/png": "[encoded data removed]",
      "text/plain": [
       "<Figure size 432x288 with 1 Axes>"
      ]
     },
     "metadata": {
      "needs_background": "light"
     },
     "output_type": "display_data"
    }
   ],
   "source": [
    "plt.scatter(x=df.Age[df.satisfaction=='satisfied'], y=df['Flight Distance'][(df.satisfaction=='satisfied')], c=\"red\")\n",
    "plt.scatter(x=df.Age[df.satisfaction=='neutral or dissatisfied'], y=df['Flight Distance'][(df.satisfaction=='neutral or dissatisfied')])\n",
    "plt.legend([\"satisfied\", \"Not satisfied\"])\n",
    "plt.xlabel(\"Age\")\n",
    "plt.ylabel(\"Distance\")\n",
    "plt.show()"
   ]
  },
  {
   "cell_type": "code",
   "execution_count": 277,
   "id": "facial-filling",
   "metadata": {
    "scrolled": true
   },
   "outputs": [
    {
     "data": {
      "image/png": "[encoded data removed]",
      "text/plain": [
       "<Figure size 1080x432 with 1 Axes>"
      ]
     },
     "metadata": {
      "needs_background": "light"
     },
     "output_type": "display_data"
    }
   ],
   "source": [
    "pd.crosstab(df['Food and drink'],df.satisfaction).plot(kind=\"bar\", figsize=(15, 6))\n",
    "plt.title('Satisfaction Frequency for Food and drink')\n",
    "plt.xlabel('Food and drink')\n",
    "plt.xticks(rotation = 0)\n",
    "plt.show()"
   ]
  },
  {
   "cell_type": "markdown",
   "id": "smart-parent",
   "metadata": {},
   "source": [
    "Чем лучше кормят, тем приятнее впечатление от полета"
   ]
  },
  {
   "cell_type": "code",
   "execution_count": 278,
   "id": "cardiovascular-understanding",
   "metadata": {
    "scrolled": true
   },
   "outputs": [
    {
     "data": {
      "image/png": "[encoded data removed]",
      "text/plain": [
       "<Figure size 1080x432 with 1 Axes>"
      ]
     },
     "metadata": {
      "needs_background": "light"
     },
     "output_type": "display_data"
    }
   ],
   "source": [
    "pd.crosstab(df.Class,df.satisfaction).plot(kind=\"bar\", figsize=(15, 6))\n",
    "plt.title('Satisfaction Frequency According To Class')\n",
    "plt.xlabel('Class')\n",
    "plt.xticks(rotation = 0)\n",
    "plt.show()"
   ]
  },
  {
   "cell_type": "markdown",
   "id": "exotic-yesterday",
   "metadata": {},
   "source": [
    "Забота о пассажирах бизнес класса сильнее"
   ]
  },
  {
   "cell_type": "code",
   "execution_count": 249,
   "id": "sixth-belly",
   "metadata": {
    "scrolled": true
   },
   "outputs": [
    {
     "data": {
      "image/png": "[encoded data removed]",
      "text/plain": [
       "<Figure size 1080x432 with 1 Axes>"
      ]
     },
     "metadata": {
      "needs_background": "light"
     },
     "output_type": "display_data"
    }
   ],
   "source": [
    "pd.crosstab(df['Checkin service'],df.satisfaction).plot(kind=\"bar\",figsize=(15, 6))\n",
    "plt.title('Satisfaction Frequency According To Checkin service')\n",
    "plt.xlabel('Checkin service')\n",
    "plt.xticks(rotation = 0)\n",
    "plt.show()"
   ]
  },
  {
   "cell_type": "code",
   "execution_count": 251,
   "id": "possible-strike",
   "metadata": {
    "scrolled": true
   },
   "outputs": [
    {
     "data": {
      "image/png": "[encoded data removed]",
      "text/plain": [
       "<Figure size 1080x432 with 1 Axes>"
      ]
     },
     "metadata": {
      "needs_background": "light"
     },
     "output_type": "display_data"
    }
   ],
   "source": [
    "pd.crosstab(df['Inflight service'],df.satisfaction).plot(kind=\"bar\",figsize=(15, 6))\n",
    "plt.title('Satisfaction Frequency According To Inflight service')\n",
    "plt.xlabel('Inflight service')\n",
    "plt.xticks(rotation = 0)\n",
    "plt.show()"
   ]
  },
  {
   "cell_type": "markdown",
   "id": "cubic-handle",
   "metadata": {},
   "source": [
    "### Трансформация строк в числа"
   ]
  },
  {
   "cell_type": "code",
   "execution_count": 252,
   "id": "ceramic-directory",
   "metadata": {},
   "outputs": [],
   "source": [
    "df['Gender'].replace(['Male', 'Female'], [0, 1], inplace=True)\n",
    "df['satisfaction'].replace(['neutral or dissatisfied', 'satisfied'], [0, 1], inplace=True)\n",
    "df['Customer Type'].replace(['Loyal Customer', 'disloyal Customer'], [0, 1], inplace=True)\n",
    "df['Type of Travel'].replace(['Business travel', 'Personal Travel'], [0, 1], inplace=True)"
   ]
  },
  {
   "cell_type": "markdown",
   "id": "supreme-reset",
   "metadata": {},
   "source": [
    "### Преобразование категориальных признаков"
   ]
  },
  {
   "cell_type": "code",
   "execution_count": 253,
   "id": "ongoing-craft",
   "metadata": {},
   "outputs": [
    {
     "data": {
      "text/html": [
       "<div>\n",
       "<style scoped>\n",
       "    .dataframe tbody tr th:only-of-type {\n",
       "        vertical-align: middle;\n",
       "    }\n",
       "\n",
       "    .dataframe tbody tr th {\n",
       "        vertical-align: top;\n",
       "    }\n",
       "\n",
       "    .dataframe thead th {\n",
       "        text-align: right;\n",
       "    }\n",
       "</style>\n",
       "<table border=\"1\" class=\"dataframe\">\n",
       "  <thead>\n",
       "    <tr style=\"text-align: right;\">\n",
       "      <th></th>\n",
       "      <th>Unnamed: 0</th>\n",
       "      <th>id</th>\n",
       "      <th>Gender</th>\n",
       "      <th>Customer Type</th>\n",
       "      <th>Age</th>\n",
       "      <th>Type of Travel</th>\n",
       "      <th>Class</th>\n",
       "      <th>Flight Distance</th>\n",
       "      <th>Inflight wifi service</th>\n",
       "      <th>Departure/Arrival time convenient</th>\n",
       "      <th>...</th>\n",
       "      <th>Baggage handling</th>\n",
       "      <th>Checkin service</th>\n",
       "      <th>Inflight service</th>\n",
       "      <th>Cleanliness</th>\n",
       "      <th>Departure Delay in Minutes</th>\n",
       "      <th>Arrival Delay in Minutes</th>\n",
       "      <th>satisfaction</th>\n",
       "      <th>Class_Business</th>\n",
       "      <th>Class_Eco</th>\n",
       "      <th>Class_Eco Plus</th>\n",
       "    </tr>\n",
       "  </thead>\n",
       "  <tbody>\n",
       "    <tr>\n",
       "      <th>0</th>\n",
       "      <td>0</td>\n",
       "      <td>19556</td>\n",
       "      <td>1</td>\n",
       "      <td>0</td>\n",
       "      <td>52</td>\n",
       "      <td>0</td>\n",
       "      <td>Eco</td>\n",
       "      <td>160</td>\n",
       "      <td>5</td>\n",
       "      <td>4</td>\n",
       "      <td>...</td>\n",
       "      <td>5</td>\n",
       "      <td>2</td>\n",
       "      <td>5</td>\n",
       "      <td>5</td>\n",
       "      <td>50</td>\n",
       "      <td>44.0</td>\n",
       "      <td>1</td>\n",
       "      <td>0</td>\n",
       "      <td>1</td>\n",
       "      <td>0</td>\n",
       "    </tr>\n",
       "    <tr>\n",
       "      <th>1</th>\n",
       "      <td>1</td>\n",
       "      <td>90035</td>\n",
       "      <td>1</td>\n",
       "      <td>0</td>\n",
       "      <td>36</td>\n",
       "      <td>0</td>\n",
       "      <td>Business</td>\n",
       "      <td>2863</td>\n",
       "      <td>1</td>\n",
       "      <td>1</td>\n",
       "      <td>...</td>\n",
       "      <td>4</td>\n",
       "      <td>3</td>\n",
       "      <td>4</td>\n",
       "      <td>5</td>\n",
       "      <td>0</td>\n",
       "      <td>0.0</td>\n",
       "      <td>1</td>\n",
       "      <td>1</td>\n",
       "      <td>0</td>\n",
       "      <td>0</td>\n",
       "    </tr>\n",
       "    <tr>\n",
       "      <th>2</th>\n",
       "      <td>2</td>\n",
       "      <td>12360</td>\n",
       "      <td>0</td>\n",
       "      <td>1</td>\n",
       "      <td>20</td>\n",
       "      <td>0</td>\n",
       "      <td>Eco</td>\n",
       "      <td>192</td>\n",
       "      <td>2</td>\n",
       "      <td>0</td>\n",
       "      <td>...</td>\n",
       "      <td>3</td>\n",
       "      <td>2</td>\n",
       "      <td>2</td>\n",
       "      <td>2</td>\n",
       "      <td>0</td>\n",
       "      <td>0.0</td>\n",
       "      <td>0</td>\n",
       "      <td>0</td>\n",
       "      <td>1</td>\n",
       "      <td>0</td>\n",
       "    </tr>\n",
       "    <tr>\n",
       "      <th>3</th>\n",
       "      <td>3</td>\n",
       "      <td>77959</td>\n",
       "      <td>0</td>\n",
       "      <td>0</td>\n",
       "      <td>44</td>\n",
       "      <td>0</td>\n",
       "      <td>Business</td>\n",
       "      <td>3377</td>\n",
       "      <td>0</td>\n",
       "      <td>0</td>\n",
       "      <td>...</td>\n",
       "      <td>1</td>\n",
       "      <td>3</td>\n",
       "      <td>1</td>\n",
       "      <td>4</td>\n",
       "      <td>0</td>\n",
       "      <td>6.0</td>\n",
       "      <td>1</td>\n",
       "      <td>1</td>\n",
       "      <td>0</td>\n",
       "      <td>0</td>\n",
       "    </tr>\n",
       "    <tr>\n",
       "      <th>4</th>\n",
       "      <td>4</td>\n",
       "      <td>36875</td>\n",
       "      <td>1</td>\n",
       "      <td>0</td>\n",
       "      <td>49</td>\n",
       "      <td>0</td>\n",
       "      <td>Eco</td>\n",
       "      <td>1182</td>\n",
       "      <td>2</td>\n",
       "      <td>3</td>\n",
       "      <td>...</td>\n",
       "      <td>2</td>\n",
       "      <td>4</td>\n",
       "      <td>2</td>\n",
       "      <td>4</td>\n",
       "      <td>0</td>\n",
       "      <td>20.0</td>\n",
       "      <td>1</td>\n",
       "      <td>0</td>\n",
       "      <td>1</td>\n",
       "      <td>0</td>\n",
       "    </tr>\n",
       "  </tbody>\n",
       "</table>\n",
       "<p>5 rows × 28 columns</p>\n",
       "</div>"
      ],
      "text/plain": [
       "   Unnamed: 0     id  Gender  Customer Type  Age  Type of Travel     Class  \\\n",
       "0           0  19556       1              0   52               0       Eco   \n",
       "1           1  90035       1              0   36               0  Business   \n",
       "2           2  12360       0              1   20               0       Eco   \n",
       "3           3  77959       0              0   44               0  Business   \n",
       "4           4  36875       1              0   49               0       Eco   \n",
       "\n",
       "   Flight Distance  Inflight wifi service  Departure/Arrival time convenient  \\\n",
       "0              160                      5                                  4   \n",
       "1             2863                      1                                  1   \n",
       "2              192                      2                                  0   \n",
       "3             3377                      0                                  0   \n",
       "4             1182                      2                                  3   \n",
       "\n",
       "   ...  Baggage handling  Checkin service  Inflight service  Cleanliness  \\\n",
       "0  ...                 5                2                 5            5   \n",
       "1  ...                 4                3                 4            5   \n",
       "2  ...                 3                2                 2            2   \n",
       "3  ...                 1                3                 1            4   \n",
       "4  ...                 2                4                 2            4   \n",
       "\n",
       "   Departure Delay in Minutes  Arrival Delay in Minutes  satisfaction  \\\n",
       "0                          50                      44.0             1   \n",
       "1                           0                       0.0             1   \n",
       "2                           0                       0.0             0   \n",
       "3                           0                       6.0             1   \n",
       "4                           0                      20.0             1   \n",
       "\n",
       "   Class_Business  Class_Eco  Class_Eco Plus  \n",
       "0               0          1               0  \n",
       "1               1          0               0  \n",
       "2               0          1               0  \n",
       "3               1          0               0  \n",
       "4               0          1               0  \n",
       "\n",
       "[5 rows x 28 columns]"
      ]
     },
     "execution_count": 253,
     "metadata": {},
     "output_type": "execute_result"
    }
   ],
   "source": [
    "class_dum = pd.get_dummies(df['Class'], prefix = \"Class\")\n",
    "\n",
    "frames = [df, class_dum]\n",
    "df = pd.concat(frames, axis = 1)\n",
    "df.head()"
   ]
  },
  {
   "cell_type": "code",
   "execution_count": 254,
   "id": "super-mainland",
   "metadata": {},
   "outputs": [
    {
     "data": {
      "text/html": [
       "<div>\n",
       "<style scoped>\n",
       "    .dataframe tbody tr th:only-of-type {\n",
       "        vertical-align: middle;\n",
       "    }\n",
       "\n",
       "    .dataframe tbody tr th {\n",
       "        vertical-align: top;\n",
       "    }\n",
       "\n",
       "    .dataframe thead th {\n",
       "        text-align: right;\n",
       "    }\n",
       "</style>\n",
       "<table border=\"1\" class=\"dataframe\">\n",
       "  <thead>\n",
       "    <tr style=\"text-align: right;\">\n",
       "      <th></th>\n",
       "      <th>Gender</th>\n",
       "      <th>Customer Type</th>\n",
       "      <th>Age</th>\n",
       "      <th>Type of Travel</th>\n",
       "      <th>Flight Distance</th>\n",
       "      <th>Inflight wifi service</th>\n",
       "      <th>Departure/Arrival time convenient</th>\n",
       "      <th>Ease of Online booking</th>\n",
       "      <th>Gate location</th>\n",
       "      <th>Food and drink</th>\n",
       "      <th>...</th>\n",
       "      <th>Baggage handling</th>\n",
       "      <th>Checkin service</th>\n",
       "      <th>Inflight service</th>\n",
       "      <th>Cleanliness</th>\n",
       "      <th>Departure Delay in Minutes</th>\n",
       "      <th>Arrival Delay in Minutes</th>\n",
       "      <th>satisfaction</th>\n",
       "      <th>Class_Business</th>\n",
       "      <th>Class_Eco</th>\n",
       "      <th>Class_Eco Plus</th>\n",
       "    </tr>\n",
       "  </thead>\n",
       "  <tbody>\n",
       "    <tr>\n",
       "      <th>0</th>\n",
       "      <td>1</td>\n",
       "      <td>0</td>\n",
       "      <td>52</td>\n",
       "      <td>0</td>\n",
       "      <td>160</td>\n",
       "      <td>5</td>\n",
       "      <td>4</td>\n",
       "      <td>3</td>\n",
       "      <td>4</td>\n",
       "      <td>3</td>\n",
       "      <td>...</td>\n",
       "      <td>5</td>\n",
       "      <td>2</td>\n",
       "      <td>5</td>\n",
       "      <td>5</td>\n",
       "      <td>50</td>\n",
       "      <td>44.0</td>\n",
       "      <td>1</td>\n",
       "      <td>0</td>\n",
       "      <td>1</td>\n",
       "      <td>0</td>\n",
       "    </tr>\n",
       "    <tr>\n",
       "      <th>1</th>\n",
       "      <td>1</td>\n",
       "      <td>0</td>\n",
       "      <td>36</td>\n",
       "      <td>0</td>\n",
       "      <td>2863</td>\n",
       "      <td>1</td>\n",
       "      <td>1</td>\n",
       "      <td>3</td>\n",
       "      <td>1</td>\n",
       "      <td>5</td>\n",
       "      <td>...</td>\n",
       "      <td>4</td>\n",
       "      <td>3</td>\n",
       "      <td>4</td>\n",
       "      <td>5</td>\n",
       "      <td>0</td>\n",
       "      <td>0.0</td>\n",
       "      <td>1</td>\n",
       "      <td>1</td>\n",
       "      <td>0</td>\n",
       "      <td>0</td>\n",
       "    </tr>\n",
       "    <tr>\n",
       "      <th>2</th>\n",
       "      <td>0</td>\n",
       "      <td>1</td>\n",
       "      <td>20</td>\n",
       "      <td>0</td>\n",
       "      <td>192</td>\n",
       "      <td>2</td>\n",
       "      <td>0</td>\n",
       "      <td>2</td>\n",
       "      <td>4</td>\n",
       "      <td>2</td>\n",
       "      <td>...</td>\n",
       "      <td>3</td>\n",
       "      <td>2</td>\n",
       "      <td>2</td>\n",
       "      <td>2</td>\n",
       "      <td>0</td>\n",
       "      <td>0.0</td>\n",
       "      <td>0</td>\n",
       "      <td>0</td>\n",
       "      <td>1</td>\n",
       "      <td>0</td>\n",
       "    </tr>\n",
       "    <tr>\n",
       "      <th>3</th>\n",
       "      <td>0</td>\n",
       "      <td>0</td>\n",
       "      <td>44</td>\n",
       "      <td>0</td>\n",
       "      <td>3377</td>\n",
       "      <td>0</td>\n",
       "      <td>0</td>\n",
       "      <td>0</td>\n",
       "      <td>2</td>\n",
       "      <td>3</td>\n",
       "      <td>...</td>\n",
       "      <td>1</td>\n",
       "      <td>3</td>\n",
       "      <td>1</td>\n",
       "      <td>4</td>\n",
       "      <td>0</td>\n",
       "      <td>6.0</td>\n",
       "      <td>1</td>\n",
       "      <td>1</td>\n",
       "      <td>0</td>\n",
       "      <td>0</td>\n",
       "    </tr>\n",
       "    <tr>\n",
       "      <th>4</th>\n",
       "      <td>1</td>\n",
       "      <td>0</td>\n",
       "      <td>49</td>\n",
       "      <td>0</td>\n",
       "      <td>1182</td>\n",
       "      <td>2</td>\n",
       "      <td>3</td>\n",
       "      <td>4</td>\n",
       "      <td>3</td>\n",
       "      <td>4</td>\n",
       "      <td>...</td>\n",
       "      <td>2</td>\n",
       "      <td>4</td>\n",
       "      <td>2</td>\n",
       "      <td>4</td>\n",
       "      <td>0</td>\n",
       "      <td>20.0</td>\n",
       "      <td>1</td>\n",
       "      <td>0</td>\n",
       "      <td>1</td>\n",
       "      <td>0</td>\n",
       "    </tr>\n",
       "  </tbody>\n",
       "</table>\n",
       "<p>5 rows × 25 columns</p>\n",
       "</div>"
      ],
      "text/plain": [
       "   Gender  Customer Type  Age  Type of Travel  Flight Distance  \\\n",
       "0       1              0   52               0              160   \n",
       "1       1              0   36               0             2863   \n",
       "2       0              1   20               0              192   \n",
       "3       0              0   44               0             3377   \n",
       "4       1              0   49               0             1182   \n",
       "\n",
       "   Inflight wifi service  Departure/Arrival time convenient  \\\n",
       "0                      5                                  4   \n",
       "1                      1                                  1   \n",
       "2                      2                                  0   \n",
       "3                      0                                  0   \n",
       "4                      2                                  3   \n",
       "\n",
       "   Ease of Online booking  Gate location  Food and drink  ...  \\\n",
       "0                       3              4               3  ...   \n",
       "1                       3              1               5  ...   \n",
       "2                       2              4               2  ...   \n",
       "3                       0              2               3  ...   \n",
       "4                       4              3               4  ...   \n",
       "\n",
       "   Baggage handling  Checkin service  Inflight service  Cleanliness  \\\n",
       "0                 5                2                 5            5   \n",
       "1                 4                3                 4            5   \n",
       "2                 3                2                 2            2   \n",
       "3                 1                3                 1            4   \n",
       "4                 2                4                 2            4   \n",
       "\n",
       "   Departure Delay in Minutes  Arrival Delay in Minutes  satisfaction  \\\n",
       "0                          50                      44.0             1   \n",
       "1                           0                       0.0             1   \n",
       "2                           0                       0.0             0   \n",
       "3                           0                       6.0             1   \n",
       "4                           0                      20.0             1   \n",
       "\n",
       "   Class_Business  Class_Eco  Class_Eco Plus  \n",
       "0               0          1               0  \n",
       "1               1          0               0  \n",
       "2               0          1               0  \n",
       "3               1          0               0  \n",
       "4               0          1               0  \n",
       "\n",
       "[5 rows x 25 columns]"
      ]
     },
     "execution_count": 254,
     "metadata": {},
     "output_type": "execute_result"
    }
   ],
   "source": [
    "df = df.drop(columns = ['Class', 'id', 'Unnamed: 0'])\n",
    "df = df.dropna()\n",
    "df.head()"
   ]
  },
  {
   "cell_type": "markdown",
   "id": "proper-valuation",
   "metadata": {},
   "source": [
    "### Распределение данных"
   ]
  },
  {
   "cell_type": "code",
   "execution_count": 255,
   "id": "voluntary-yahoo",
   "metadata": {},
   "outputs": [],
   "source": [
    "from sklearn.model_selection import train_test_split\n",
    "\n",
    "y = df[\"satisfaction\"]\n",
    "x = df.drop(columns=[\"satisfaction\"])\n",
    "\n",
    "x_train, x_test, y_train, y_test = train_test_split(x, y, test_size=0.33, random_state=42)"
   ]
  },
  {
   "cell_type": "markdown",
   "id": "dynamic-maine",
   "metadata": {},
   "source": [
    "### Масштабирование признаков"
   ]
  },
  {
   "cell_type": "code",
   "execution_count": 256,
   "id": "everyday-locator",
   "metadata": {
    "scrolled": true
   },
   "outputs": [
    {
     "data": {
      "text/html": [
       "<div>\n",
       "<style scoped>\n",
       "    .dataframe tbody tr th:only-of-type {\n",
       "        vertical-align: middle;\n",
       "    }\n",
       "\n",
       "    .dataframe tbody tr th {\n",
       "        vertical-align: top;\n",
       "    }\n",
       "\n",
       "    .dataframe thead th {\n",
       "        text-align: right;\n",
       "    }\n",
       "</style>\n",
       "<table border=\"1\" class=\"dataframe\">\n",
       "  <thead>\n",
       "    <tr style=\"text-align: right;\">\n",
       "      <th></th>\n",
       "      <th>Gender</th>\n",
       "      <th>Customer Type</th>\n",
       "      <th>Age</th>\n",
       "      <th>Type of Travel</th>\n",
       "      <th>Flight Distance</th>\n",
       "      <th>Inflight wifi service</th>\n",
       "      <th>Departure/Arrival time convenient</th>\n",
       "      <th>Ease of Online booking</th>\n",
       "      <th>Gate location</th>\n",
       "      <th>Food and drink</th>\n",
       "      <th>...</th>\n",
       "      <th>Leg room service</th>\n",
       "      <th>Baggage handling</th>\n",
       "      <th>Checkin service</th>\n",
       "      <th>Inflight service</th>\n",
       "      <th>Cleanliness</th>\n",
       "      <th>Departure Delay in Minutes</th>\n",
       "      <th>Arrival Delay in Minutes</th>\n",
       "      <th>Class_Business</th>\n",
       "      <th>Class_Eco</th>\n",
       "      <th>Class_Eco Plus</th>\n",
       "    </tr>\n",
       "  </thead>\n",
       "  <tbody>\n",
       "    <tr>\n",
       "      <th>0</th>\n",
       "      <td>-1.007424</td>\n",
       "      <td>-0.476298</td>\n",
       "      <td>-0.775734</td>\n",
       "      <td>-0.634421</td>\n",
       "      <td>-0.401534</td>\n",
       "      <td>0.175907</td>\n",
       "      <td>-0.033050</td>\n",
       "      <td>0.173879</td>\n",
       "      <td>0.034926</td>\n",
       "      <td>-0.938951</td>\n",
       "      <td>...</td>\n",
       "      <td>-1.880118</td>\n",
       "      <td>-0.543424</td>\n",
       "      <td>0.535754</td>\n",
       "      <td>-2.389773</td>\n",
       "      <td>-0.996935</td>\n",
       "      <td>-0.420563</td>\n",
       "      <td>-0.425484</td>\n",
       "      <td>1.033092</td>\n",
       "      <td>-0.895917</td>\n",
       "      <td>-0.276465</td>\n",
       "    </tr>\n",
       "    <tr>\n",
       "      <th>1</th>\n",
       "      <td>-1.007424</td>\n",
       "      <td>2.099524</td>\n",
       "      <td>-1.556522</td>\n",
       "      <td>-0.634421</td>\n",
       "      <td>0.369215</td>\n",
       "      <td>-0.571973</td>\n",
       "      <td>-0.699971</td>\n",
       "      <td>-0.545035</td>\n",
       "      <td>0.034926</td>\n",
       "      <td>1.309210</td>\n",
       "      <td>...</td>\n",
       "      <td>-1.103485</td>\n",
       "      <td>-0.543424</td>\n",
       "      <td>-0.252428</td>\n",
       "      <td>0.266549</td>\n",
       "      <td>1.248245</td>\n",
       "      <td>-0.420563</td>\n",
       "      <td>-0.425484</td>\n",
       "      <td>-0.967968</td>\n",
       "      <td>1.116175</td>\n",
       "      <td>-0.276465</td>\n",
       "    </tr>\n",
       "    <tr>\n",
       "      <th>2</th>\n",
       "      <td>-1.007424</td>\n",
       "      <td>-0.476298</td>\n",
       "      <td>-0.385341</td>\n",
       "      <td>-0.634421</td>\n",
       "      <td>-0.718495</td>\n",
       "      <td>-0.571973</td>\n",
       "      <td>-0.699971</td>\n",
       "      <td>-0.545035</td>\n",
       "      <td>-0.739170</td>\n",
       "      <td>-0.938951</td>\n",
       "      <td>...</td>\n",
       "      <td>1.226414</td>\n",
       "      <td>1.185303</td>\n",
       "      <td>0.535754</td>\n",
       "      <td>1.151990</td>\n",
       "      <td>0.499851</td>\n",
       "      <td>-0.099682</td>\n",
       "      <td>-0.129599</td>\n",
       "      <td>1.033092</td>\n",
       "      <td>-0.895917</td>\n",
       "      <td>-0.276465</td>\n",
       "    </tr>\n",
       "    <tr>\n",
       "      <th>3</th>\n",
       "      <td>-1.007424</td>\n",
       "      <td>2.099524</td>\n",
       "      <td>-1.231194</td>\n",
       "      <td>-0.634421</td>\n",
       "      <td>-0.781494</td>\n",
       "      <td>-0.571973</td>\n",
       "      <td>-0.699971</td>\n",
       "      <td>-1.263949</td>\n",
       "      <td>0.809022</td>\n",
       "      <td>-1.688338</td>\n",
       "      <td>...</td>\n",
       "      <td>0.449781</td>\n",
       "      <td>-0.543424</td>\n",
       "      <td>0.535754</td>\n",
       "      <td>-0.618892</td>\n",
       "      <td>-1.745328</td>\n",
       "      <td>-0.233382</td>\n",
       "      <td>-0.425484</td>\n",
       "      <td>-0.967968</td>\n",
       "      <td>1.116175</td>\n",
       "      <td>-0.276465</td>\n",
       "    </tr>\n",
       "    <tr>\n",
       "      <th>4</th>\n",
       "      <td>0.992631</td>\n",
       "      <td>-0.476298</td>\n",
       "      <td>0.655709</td>\n",
       "      <td>1.576241</td>\n",
       "      <td>-0.057995</td>\n",
       "      <td>-1.319853</td>\n",
       "      <td>-0.033050</td>\n",
       "      <td>-1.263949</td>\n",
       "      <td>0.809022</td>\n",
       "      <td>-0.938951</td>\n",
       "      <td>...</td>\n",
       "      <td>-1.880118</td>\n",
       "      <td>-0.543424</td>\n",
       "      <td>-0.252428</td>\n",
       "      <td>-0.618892</td>\n",
       "      <td>-0.996935</td>\n",
       "      <td>1.397763</td>\n",
       "      <td>1.780205</td>\n",
       "      <td>-0.967968</td>\n",
       "      <td>1.116175</td>\n",
       "      <td>-0.276465</td>\n",
       "    </tr>\n",
       "  </tbody>\n",
       "</table>\n",
       "<p>5 rows × 24 columns</p>\n",
       "</div>"
      ],
      "text/plain": [
       "     Gender  Customer Type       Age  Type of Travel  Flight Distance  \\\n",
       "0 -1.007424      -0.476298 -0.775734       -0.634421        -0.401534   \n",
       "1 -1.007424       2.099524 -1.556522       -0.634421         0.369215   \n",
       "2 -1.007424      -0.476298 -0.385341       -0.634421        -0.718495   \n",
       "3 -1.007424       2.099524 -1.231194       -0.634421        -0.781494   \n",
       "4  0.992631      -0.476298  0.655709        1.576241        -0.057995   \n",
       "\n",
       "   Inflight wifi service  Departure/Arrival time convenient  \\\n",
       "0               0.175907                          -0.033050   \n",
       "1              -0.571973                          -0.699971   \n",
       "2              -0.571973                          -0.699971   \n",
       "3              -0.571973                          -0.699971   \n",
       "4              -1.319853                          -0.033050   \n",
       "\n",
       "   Ease of Online booking  Gate location  Food and drink  ...  \\\n",
       "0                0.173879       0.034926       -0.938951  ...   \n",
       "1               -0.545035       0.034926        1.309210  ...   \n",
       "2               -0.545035      -0.739170       -0.938951  ...   \n",
       "3               -1.263949       0.809022       -1.688338  ...   \n",
       "4               -1.263949       0.809022       -0.938951  ...   \n",
       "\n",
       "   Leg room service  Baggage handling  Checkin service  Inflight service  \\\n",
       "0         -1.880118         -0.543424         0.535754         -2.389773   \n",
       "1         -1.103485         -0.543424        -0.252428          0.266549   \n",
       "2          1.226414          1.185303         0.535754          1.151990   \n",
       "3          0.449781         -0.543424         0.535754         -0.618892   \n",
       "4         -1.880118         -0.543424        -0.252428         -0.618892   \n",
       "\n",
       "   Cleanliness  Departure Delay in Minutes  Arrival Delay in Minutes  \\\n",
       "0    -0.996935                   -0.420563                 -0.425484   \n",
       "1     1.248245                   -0.420563                 -0.425484   \n",
       "2     0.499851                   -0.099682                 -0.129599   \n",
       "3    -1.745328                   -0.233382                 -0.425484   \n",
       "4    -0.996935                    1.397763                  1.780205   \n",
       "\n",
       "   Class_Business  Class_Eco  Class_Eco Plus  \n",
       "0        1.033092  -0.895917       -0.276465  \n",
       "1       -0.967968   1.116175       -0.276465  \n",
       "2        1.033092  -0.895917       -0.276465  \n",
       "3       -0.967968   1.116175       -0.276465  \n",
       "4       -0.967968   1.116175       -0.276465  \n",
       "\n",
       "[5 rows x 24 columns]"
      ]
     },
     "execution_count": 256,
     "metadata": {},
     "output_type": "execute_result"
    }
   ],
   "source": [
    "from sklearn.preprocessing import StandardScaler\n",
    "\n",
    "scaler = StandardScaler()\n",
    "x_train = pd.DataFrame(scaler.fit_transform(x_train), columns=x.columns)\n",
    "x_test = pd.DataFrame(scaler.transform(x_test), columns=x.columns)\n",
    "x_train.head()"
   ]
  },
  {
   "cell_type": "markdown",
   "id": "unexpected-bookmark",
   "metadata": {},
   "source": [
    "### Подбор наилучших признаков"
   ]
  },
  {
   "cell_type": "code",
   "execution_count": 257,
   "id": "featured-inquiry",
   "metadata": {},
   "outputs": [
    {
     "name": "stdout",
     "output_type": "stream",
     "text": [
      "Наилучшее количество признаков - 24\n",
      "Наиболее подходящие признаки - Index(['Gender', 'Customer Type', 'Age', 'Type of Travel', 'Flight Distance',\n",
      "       'Inflight wifi service', 'Departure/Arrival time convenient',\n",
      "       'Ease of Online booking', 'Gate location', 'Food and drink',\n",
      "       'Online boarding', 'Seat comfort', 'Inflight entertainment',\n",
      "       'On-board service', 'Leg room service', 'Baggage handling',\n",
      "       'Checkin service', 'Inflight service', 'Cleanliness',\n",
      "       'Departure Delay in Minutes', 'Arrival Delay in Minutes',\n",
      "       'Class_Business', 'Class_Eco', 'Class_Eco Plus'],\n",
      "      dtype='object')\n"
     ]
    }
   ],
   "source": [
    "from sklearn.feature_selection import RFECV\n",
    "from sklearn.linear_model import LinearRegression\n",
    "\n",
    "rfecv = RFECV(estimator=LinearRegression())\n",
    "rfecv.fit(x, y)\n",
    "\n",
    "print(\"Наилучшее количество признаков -\", rfecv.n_features_)\n",
    "print(\"Наиболее подходящие признаки -\", x_train.columns[rfecv.support_])"
   ]
  },
  {
   "cell_type": "code",
   "execution_count": 258,
   "id": "responsible-reservation",
   "metadata": {},
   "outputs": [
    {
     "name": "stdout",
     "output_type": "stream",
     "text": [
      "Index(['Gender', 'Customer Type', 'Age', 'Type of Travel', 'Flight Distance',\n",
      "       'Inflight wifi service', 'Departure/Arrival time convenient',\n",
      "       'Ease of Online booking', 'Gate location', 'Food and drink',\n",
      "       'Online boarding', 'Seat comfort', 'Inflight entertainment',\n",
      "       'On-board service', 'Leg room service', 'Baggage handling',\n",
      "       'Checkin service', 'Inflight service', 'Cleanliness',\n",
      "       'Departure Delay in Minutes', 'Arrival Delay in Minutes',\n",
      "       'satisfaction', 'Class_Business', 'Class_Eco', 'Class_Eco Plus'],\n",
      "      dtype='object')\n"
     ]
    }
   ],
   "source": [
    "print(df.columns)\n",
    "unsuitableParams = set(df.columns) - set(['Gender', 'Customer Type', 'Age', 'Type of Travel', 'Flight Distance',\n",
    "       'Inflight wifi service', 'Departure/Arrival time convenient',\n",
    "       'Ease of Online booking', 'Gate location', 'Food and drink',\n",
    "       'Online boarding', 'Seat comfort', 'Inflight entertainment',\n",
    "       'On-board service', 'Leg room service', 'Baggage handling',\n",
    "       'Checkin service', 'Inflight service', 'Cleanliness',\n",
    "       'Departure Delay in Minutes', 'Arrival Delay in Minutes',\n",
    "       'Class_Business', 'Class_Eco', 'Class_Eco Plus', 'satisfaction'])\n",
    "\n",
    "x_train = x_train.drop(columns=unsuitableParams)\n",
    "x_test = x_test.drop(columns=unsuitableParams)\n",
    "y_train = y_train.drop(columns=unsuitableParams)\n",
    "y_test = y_test.drop(columns=unsuitableParams)"
   ]
  },
  {
   "cell_type": "markdown",
   "id": "compressed-reminder",
   "metadata": {},
   "source": [
    "### К-ближайших соседей"
   ]
  },
  {
   "cell_type": "code",
   "execution_count": 259,
   "id": "resistant-kinase",
   "metadata": {},
   "outputs": [
    {
     "name": "stdout",
     "output_type": "stream",
     "text": [
      "Fitting 5 folds for each of 3 candidates, totalling 15 fits\n",
      "best estimator: KNNClassifier()\n",
      "best params: {'num_neighbors': 3}\n",
      "best score: 0.8779445127784611\n"
     ]
    }
   ],
   "source": [
    "param_grid = [{\"num_neighbors\": [3, 5, 7]}]\n",
    "\n",
    "gscv = GridSearchCV(estimator=KNNClassifier(), cv=StratifiedKFold(5),\n",
    "                       return_train_score=True, param_grid=param_grid,\n",
    "                       verbose=5, n_jobs=-1)\n",
    "\n",
    "gscv.fit(x_train, y_train)\n",
    "print_bestParams(gscv)"
   ]
  },
  {
   "cell_type": "markdown",
   "id": "japanese-cabin",
   "metadata": {},
   "source": [
    "### Logistic regression"
   ]
  },
  {
   "cell_type": "code",
   "execution_count": 260,
   "id": "sitting-practitioner",
   "metadata": {},
   "outputs": [
    {
     "name": "stdout",
     "output_type": "stream",
     "text": [
      "Fitting 5 folds for each of 50 candidates, totalling 250 fits\n",
      "best estimator: LogisticRegression(C=0.10001)\n",
      "best params: {'C': 0.10001}\n",
      "best score: 0.869069290692907\n"
     ]
    }
   ],
   "source": [
    "from sklearn.linear_model import LogisticRegression\n",
    "\n",
    "param_grid = {'C': np.arange(1e-05, 5, 0.1)}\n",
    "scoring = {'Accuracy': 'accuracy', 'AUC': 'roc_auc', 'Log_loss': 'neg_log_loss'}\n",
    "\n",
    "gscv = GridSearchCV(LogisticRegression(), return_train_score=True,\n",
    "                  param_grid=param_grid, scoring=scoring, cv=StratifiedKFold(5), refit='Accuracy',\n",
    "                   verbose=5, n_jobs=-1)\n",
    "gscv.fit(x_train, y_train)\n",
    "print_bestParams(gscv)"
   ]
  },
  {
   "cell_type": "markdown",
   "id": "complicated-baptist",
   "metadata": {},
   "source": [
    "### SVM"
   ]
  },
  {
   "cell_type": "code",
   "execution_count": 261,
   "id": "typical-tract",
   "metadata": {},
   "outputs": [
    {
     "name": "stdout",
     "output_type": "stream",
     "text": [
      "Fitting 5 folds for each of 84 candidates, totalling 420 fits\n",
      "best estimator: SVC(C=2, random_state=11)\n",
      "best params: {'C': 2, 'gamma': 'scale', 'kernel': 'rbf'}\n",
      "best score: 0.9260489271559382\n"
     ]
    }
   ],
   "source": [
    "from sklearn.svm import SVC\n",
    "\n",
    "C = [0.1, 0.25, 0.5, 0.75, 1, 2]\n",
    "kernel = [\"linear\", \"rbf\"]\n",
    "gamma = [\"scale\", \"auto\", 0.0001, 0.001, 0.01, 0.1, 1]\n",
    "\n",
    "gscv = GridSearchCV(estimator=SVC(random_state=11), cv=StratifiedKFold(5),\n",
    "                        param_grid=dict(kernel=kernel,C=C, gamma=gamma),\n",
    "                       verbose=5, n_jobs=-1)\n",
    "gscv.fit(x_train, y_train)\n",
    "print_bestParams(gscv)"
   ]
  },
  {
   "cell_type": "markdown",
   "id": "deadly-hazard",
   "metadata": {},
   "source": [
    "### KNN"
   ]
  },
  {
   "cell_type": "code",
   "execution_count": 262,
   "id": "final-springfield",
   "metadata": {},
   "outputs": [
    {
     "name": "stdout",
     "output_type": "stream",
     "text": [
      "Fitting 25 folds for each of 2 candidates, totalling 50 fits\n",
      "best estimator: KNeighborsClassifier(n_neighbors=3)\n",
      "best params: {'n_neighbors': 3, 'weights': 'uniform'}\n",
      "best score: 0.8754451277846111\n"
     ]
    }
   ],
   "source": [
    "from sklearn.neighbors import KNeighborsClassifier\n",
    "\n",
    "n_neighbors = np.arange(3, 5, 7)\n",
    "weights = ['uniform', 'distance']\n",
    "scoring = {'Accuracy': 'accuracy', 'AUC': 'roc_auc', 'Log_loss': 'neg_log_loss'}\n",
    "\n",
    "gscv = GridSearchCV(estimator=KNeighborsClassifier(), cv=RepeatedStratifiedKFold(n_splits=5, n_repeats=5, random_state=12),\n",
    "                       scoring=scoring, return_train_score=True,\n",
    "                       param_grid=dict(n_neighbors=n_neighbors, weights=weights), refit='Accuracy',\n",
    "                       verbose=5, n_jobs=-1)\n",
    "\n",
    "gscv.fit(x_train, y_train)\n",
    "print_bestParams(gscv)"
   ]
  },
  {
   "cell_type": "markdown",
   "id": "australian-threshold",
   "metadata": {},
   "source": [
    "### Naive Bayes"
   ]
  },
  {
   "cell_type": "code",
   "execution_count": 263,
   "id": "organizational-clerk",
   "metadata": {},
   "outputs": [
    {
     "name": "stdout",
     "output_type": "stream",
     "text": [
      "best estimator: GaussianNB(priors=[0.5, 0.5], var_smoothing=0.006579332246575682)\n",
      "best params: {'priors': [0.5, 0.5], 'var_smoothing': 0.006579332246575682}\n",
      "best score: 0.8430558972256388\n"
     ]
    }
   ],
   "source": [
    "from sklearn.naive_bayes import GaussianNB\n",
    "\n",
    "priors = [None, [0.62, 0.38], [0.5, 0.5]]\n",
    "var_smoothing = np.logspace(0, -9, num=100)\n",
    "scoring = {'Accuracy': 'accuracy', 'AUC': 'roc_auc', 'Log_loss': 'neg_log_loss'}\n",
    "\n",
    "gscv = GridSearchCV(estimator=GaussianNB(), cv=RepeatedStratifiedKFold(n_splits=5, n_repeats=5, random_state=23),\n",
    "                      scoring=scoring, return_train_score=True,\n",
    "                      param_grid=dict(priors=priors, var_smoothing=var_smoothing), refit='Accuracy',\n",
    "                      n_jobs=-1)\n",
    "\n",
    "gscv.fit(x_train, y_train)\n",
    "print_bestParams(gscv)"
   ]
  },
  {
   "cell_type": "markdown",
   "id": "analyzed-laundry",
   "metadata": {},
   "source": [
    "### Decision Tree"
   ]
  },
  {
   "cell_type": "code",
   "execution_count": 264,
   "id": "guided-firmware",
   "metadata": {},
   "outputs": [
    {
     "name": "stdout",
     "output_type": "stream",
     "text": [
      "best estimator: DecisionTreeClassifier(criterion='entropy', max_depth=20, max_features=8,\n",
      "                       min_samples_leaf=2, min_samples_split=10,\n",
      "                       random_state=42, splitter='random')\n",
      "best params: {'criterion': 'entropy', 'max_depth': 20, 'max_features': 8, 'min_samples_leaf': 2, 'min_samples_split': 10, 'splitter': 'random'}\n",
      "best score: 0.8979363126964603\n"
     ]
    }
   ],
   "source": [
    "from sklearn.tree import DecisionTreeClassifier\n",
    "\n",
    "criterion = [\"gini\", \"entropy\", \"log_loss\"]\n",
    "splitter = [\"best\", \"random\"]\n",
    "max_depth = [2, 3, 4, 5, 10, 20]\n",
    "min_samples_split = [2, 4, 5, 10]\n",
    "min_samples_leaf = [1, 2, 4, 6]\n",
    "max_features = [2, 4, 6, 8]\n",
    "\n",
    "gscv = GridSearchCV(estimator=DecisionTreeClassifier(random_state=42), cv=StratifiedKFold(5),\n",
    "                       param_grid=dict(criterion=criterion,splitter=splitter, max_depth=max_depth,\n",
    "                                       min_samples_split=min_samples_split, min_samples_leaf=min_samples_leaf,\n",
    "                                       max_features= max_features), n_jobs=-1)\n",
    "gscv.fit(x_train, y_train)\n",
    "print_bestParams(gscv)"
   ]
  },
  {
   "cell_type": "markdown",
   "id": "convertible-consultation",
   "metadata": {},
   "source": [
    "## Тесты"
   ]
  },
  {
   "cell_type": "code",
   "execution_count": 265,
   "id": "selective-pharmacy",
   "metadata": {},
   "outputs": [],
   "source": [
    "results = {}"
   ]
  },
  {
   "cell_type": "markdown",
   "id": "grateful-agreement",
   "metadata": {},
   "source": [
    "### К-ближайших соседей"
   ]
  },
  {
   "cell_type": "code",
   "execution_count": 266,
   "id": "accomplished-rubber",
   "metadata": {},
   "outputs": [
    {
     "name": "stdout",
     "output_type": "stream",
     "text": [
      "Accuracy of self_KNN - 0.896551724137931\n"
     ]
    }
   ],
   "source": [
    "self_knn = KNNClassifier(num_neighbors=7)\n",
    "self_knn.fit(x_train, y_train)\n",
    "\n",
    "result = self_knn.score(x_test, y_test)\n",
    "results['Self KNN'] = result\n",
    "print(\"Accuracy of self_KNN -\", result)"
   ]
  },
  {
   "cell_type": "markdown",
   "id": "editorial-paragraph",
   "metadata": {},
   "source": [
    "### LogisticRegression"
   ]
  },
  {
   "cell_type": "code",
   "execution_count": 267,
   "id": "extraordinary-sullivan",
   "metadata": {},
   "outputs": [
    {
     "name": "stdout",
     "output_type": "stream",
     "text": [
      "Accuracy of Logistic Regression - 0.8725637181409296\n"
     ]
    }
   ],
   "source": [
    "lr = LogisticRegression(C=2.7)\n",
    "lr.fit(x_train, y_train)\n",
    "\n",
    "result = lr.score(x_test, y_test)\n",
    "results['Logistic Regression'] = result\n",
    "print(\"Accuracy of Logistic Regression -\", result)"
   ]
  },
  {
   "cell_type": "markdown",
   "id": "straight-stone",
   "metadata": {},
   "source": [
    "### SVM"
   ]
  },
  {
   "cell_type": "code",
   "execution_count": 268,
   "id": "preliminary-rendering",
   "metadata": {},
   "outputs": [
    {
     "name": "stdout",
     "output_type": "stream",
     "text": [
      "Accuracy of SVM - 0.5892053973013494\n"
     ]
    }
   ],
   "source": [
    "svm = SVC(C=0.75, gamma=1, kernel='rbf', random_state = 11)\n",
    "svm.fit(x_train, y_train)\n",
    "\n",
    "result = svm.score(x_test, y_test)\n",
    "results['SVM'] = result\n",
    "print(\"Accuracy of SVM -\", result)"
   ]
  },
  {
   "cell_type": "markdown",
   "id": "straight-pointer",
   "metadata": {},
   "source": [
    "### KNN"
   ]
  },
  {
   "cell_type": "code",
   "execution_count": 269,
   "id": "stopped-miami",
   "metadata": {},
   "outputs": [
    {
     "name": "stdout",
     "output_type": "stream",
     "text": [
      "Accuracy of KNN - 0.8935532233883059\n"
     ]
    }
   ],
   "source": [
    "knn = KNeighborsClassifier(n_neighbors=7, weights='distance')\n",
    "knn.fit(x_train, y_train)\n",
    "\n",
    "result = knn.score(x_test, y_test)\n",
    "results['KNN'] = result\n",
    "print(\"Accuracy of KNN -\", result)"
   ]
  },
  {
   "cell_type": "markdown",
   "id": "municipal-acoustic",
   "metadata": {},
   "source": [
    "### Naive Bayes"
   ]
  },
  {
   "cell_type": "code",
   "execution_count": 270,
   "id": "right-laser",
   "metadata": {},
   "outputs": [
    {
     "name": "stdout",
     "output_type": "stream",
     "text": [
      "Accuracy of Naive Bayes - 0.8470764617691154\n"
     ]
    }
   ],
   "source": [
    "nb = GaussianNB(priors=[0.62, 0.38], var_smoothing=0.657933224657568)\n",
    "nb.fit(x_train, y_train)\n",
    "\n",
    "result = nb.score(x_test, y_test)\n",
    "results['Naive Bayes'] = result\n",
    "print(\"Accuracy of Naive Bayes -\", result)"
   ]
  },
  {
   "cell_type": "markdown",
   "id": "forced-beginning",
   "metadata": {},
   "source": [
    "### Decision Tree"
   ]
  },
  {
   "cell_type": "code",
   "execution_count": 271,
   "id": "recognized-organizer",
   "metadata": {},
   "outputs": [
    {
     "name": "stdout",
     "output_type": "stream",
     "text": [
      "Accuracy of Decision Tree - 0.8260869565217391\n"
     ]
    }
   ],
   "source": [
    "dtc = DecisionTreeClassifier(criterion='entropy', max_depth=20, max_features=4, min_samples_leaf=1, min_samples_split=2, splitter='random')\n",
    "dtc.fit(x_train, y_train)\n",
    "\n",
    "result = dtc.score(x_test, y_test)\n",
    "results['Decision Tree'] = result\n",
    "print(\"Accuracy of Decision Tree -\", result)"
   ]
  },
  {
   "cell_type": "markdown",
   "id": "whole-found",
   "metadata": {},
   "source": [
    "## Сравнение моделей"
   ]
  },
  {
   "cell_type": "code",
   "execution_count": 272,
   "id": "thousand-poison",
   "metadata": {},
   "outputs": [
    {
     "data": {
      "image/png": "[encoded data removed]",
      "text/plain": [
       "<Figure size 1440x720 with 1 Axes>"
      ]
     },
     "metadata": {
      "needs_background": "light"
     },
     "output_type": "display_data"
    }
   ],
   "source": [
    "plt.figure(figsize=(20, 10))\n",
    "plt.xlabel(\"Models\")\n",
    "plt.ylabel(\"Results\")\n",
    "plt.yticks(np.arange(0, 1.1, 0.1))\n",
    "\n",
    "sns.barplot(x=list(results.keys()), y=list(results.values()))\n",
    "plt.show()"
   ]
  },
  {
   "cell_type": "markdown",
   "id": "honey-guinea",
   "metadata": {},
   "source": [
    "Собственная и библиотечная реализация KNN лидируют, но очень просел SVM"
   ]
  },
  {
   "cell_type": "markdown",
   "id": "moving-overhead",
   "metadata": {},
   "source": [
    "# Confusion Matrix"
   ]
  },
  {
   "cell_type": "code",
   "execution_count": 273,
   "id": "awful-attribute",
   "metadata": {
    "scrolled": false
   },
   "outputs": [
    {
     "data": {
      "image/png": "[encoded data removed]",
      "text/plain": [
       "<Figure size 2160x1080 with 6 Axes>"
      ]
     },
     "metadata": {
      "needs_background": "light"
     },
     "output_type": "display_data"
    }
   ],
   "source": [
    "from sklearn.metrics import confusion_matrix\n",
    "\n",
    "plt.figure(figsize=(30, 15))\n",
    "\n",
    "for i, (name, cm) in enumerate([\n",
    "    (\"Self KNN\", confusion_matrix(y_test, self_knn.predict(x_test))),\n",
    "    (\"LR\", confusion_matrix(y_test, lr.predict(x_test))),\n",
    "    (\"KNN\", confusion_matrix(y_test, knn.predict(x_test))),\n",
    "    (\"SVM\", confusion_matrix(y_test, svm.predict(x_test))),\n",
    "    (\"NB\", confusion_matrix(y_test, nb.predict(x_test))),\n",
    "    (\"DT\", confusion_matrix(y_test, dtc.predict(x_test)))\n",
    "]):\n",
    "    plt.subplot(2, 3, i + 1)\n",
    "    plt.title(name)\n",
    "    sns.heatmap(cm,annot=True,cmap=\"Reds\",fmt=\"d\",cbar=False, annot_kws={\"size\": 20})\n",
    "\n",
    "plt.show()"
   ]
  },
  {
   "cell_type": "code",
   "execution_count": null,
   "id": "happy-collapse",
   "metadata": {},
   "outputs": [],
   "source": []
  }
 ],
 "metadata": {
  "kernelspec": {
   "display_name": "Python 3",
   "language": "python",
   "name": "python3"
  },
  "language_info": {
   "codemirror_mode": {
    "name": "ipython",
    "version": 3
   },
   "file_extension": ".py",
   "mimetype": "text/x-python",
   "name": "python",
   "nbconvert_exporter": "python",
   "pygments_lexer": "ipython3",
   "version": "3.9.1"
  }
 },
 "nbformat": 4,
 "nbformat_minor": 5
}
