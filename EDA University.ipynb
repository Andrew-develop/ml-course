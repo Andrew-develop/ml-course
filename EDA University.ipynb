{
 "cells": [
  {
   "cell_type": "markdown",
   "id": "universal-tracker",
   "metadata": {},
   "source": [
    "## Разведочный анализ данных – Exploratory Data Analysis (EDA)\n",
    "\n",
    "Описание датасета:\n",
    "\n",
    "- **studyName** --- название исследования\n",
    "- **Sample Number** --- номер образца\n",
    "- **Species** --- разновидность\n",
    "- **Region** --- регион обитания\n",
    "- **Island** --- остров обитания\n",
    "- **Stage** --- стадия репродукции\n",
    "- **Clutch Completion** --- наблюдалось гнездо с полной кладкой (2 яйца)\n",
    "- **Date Egg** --- дата исследования гнезда (с 1 яйцом)\n",
    "- **Culmen Length** --- длина верхней части клюва (мм)\n",
    "- **Culmen Depth** --- глубина верхней части клюва (мм)\n",
    "- **Flipper Length** --- длина ласт (мм)\n",
    "- **Body Mass** --- масса тела (г)\n",
    "- **Sex** (целевой признак) --- пол\n",
    "- **Delta 15 N** --- изотопная сигнатура. Одно из применений δ15N в качестве трассировщика для определения пути, пройденного удобрениями.\n",
    "- **Delta 13 С** ---  изотопная сигнатура. Массовые вымирания часто отмечаются отрицательными аномалиями δ13C, так как сопровождаются падением первичной продуктивности и высвобождением связанного в растениях углерода.\n",
    "- **Comments** --- комментарий\n",
    "\n",
    "Было бы интересно научится предсказывать целевой признак **Sex** (пол) по его нецелевым признакам.\n",
    "\n",
    "Подключение библиотек"
   ]
  },
  {
   "cell_type": "code",
   "execution_count": 520,
   "id": "occupied-transformation",
   "metadata": {},
   "outputs": [],
   "source": [
    "import numpy as np \n",
    "import pandas as pd\n",
    "import matplotlib.pyplot as plt\n",
    "%matplotlib inline\n",
    "import seaborn as sns\n",
    "from datetime import datetime\n",
    "\n",
    "# устанавливаем точность чисел с плавающей точкой\n",
    "%precision %.4f\n",
    "\n",
    "import warnings\n",
    "warnings.filterwarnings('ignore')  # отключаем предупреждения"
   ]
  },
  {
   "cell_type": "markdown",
   "id": "realistic-tourism",
   "metadata": {},
   "source": [
    "Считываем данные"
   ]
  },
  {
   "cell_type": "code",
   "execution_count": 521,
   "id": "damaged-miami",
   "metadata": {},
   "outputs": [],
   "source": [
    "df = pd.read_csv('/Users/sergioramos4/Downloads/penguins_lter.csv')"
   ]
  },
  {
   "cell_type": "code",
   "execution_count": 522,
   "id": "ecological-jacket",
   "metadata": {
    "scrolled": true
   },
   "outputs": [
    {
     "data": {
      "text/html": [
       "<div>\n",
       "<style scoped>\n",
       "    .dataframe tbody tr th:only-of-type {\n",
       "        vertical-align: middle;\n",
       "    }\n",
       "\n",
       "    .dataframe tbody tr th {\n",
       "        vertical-align: top;\n",
       "    }\n",
       "\n",
       "    .dataframe thead th {\n",
       "        text-align: right;\n",
       "    }\n",
       "</style>\n",
       "<table border=\"1\" class=\"dataframe\">\n",
       "  <thead>\n",
       "    <tr style=\"text-align: right;\">\n",
       "      <th></th>\n",
       "      <th>studyName</th>\n",
       "      <th>Sample Number</th>\n",
       "      <th>Species</th>\n",
       "      <th>Region</th>\n",
       "      <th>Island</th>\n",
       "      <th>Stage</th>\n",
       "      <th>Individual ID</th>\n",
       "      <th>Clutch Completion</th>\n",
       "      <th>Date Egg</th>\n",
       "      <th>Culmen Length (mm)</th>\n",
       "      <th>Culmen Depth (mm)</th>\n",
       "      <th>Flipper Length (mm)</th>\n",
       "      <th>Body Mass (g)</th>\n",
       "      <th>Sex</th>\n",
       "      <th>Delta 15 N (o/oo)</th>\n",
       "      <th>Delta 13 C (o/oo)</th>\n",
       "      <th>Comments</th>\n",
       "    </tr>\n",
       "  </thead>\n",
       "  <tbody>\n",
       "    <tr>\n",
       "      <th>0</th>\n",
       "      <td>PAL0708</td>\n",
       "      <td>1</td>\n",
       "      <td>Adelie Penguin (Pygoscelis adeliae)</td>\n",
       "      <td>Anvers</td>\n",
       "      <td>Torgersen</td>\n",
       "      <td>Adult, 1 Egg Stage</td>\n",
       "      <td>N1A1</td>\n",
       "      <td>Yes</td>\n",
       "      <td>11/11/07</td>\n",
       "      <td>39.1</td>\n",
       "      <td>18.7</td>\n",
       "      <td>181.0</td>\n",
       "      <td>3750.0</td>\n",
       "      <td>MALE</td>\n",
       "      <td>NaN</td>\n",
       "      <td>NaN</td>\n",
       "      <td>Not enough blood for isotopes.</td>\n",
       "    </tr>\n",
       "    <tr>\n",
       "      <th>1</th>\n",
       "      <td>PAL0708</td>\n",
       "      <td>2</td>\n",
       "      <td>Adelie Penguin (Pygoscelis adeliae)</td>\n",
       "      <td>Anvers</td>\n",
       "      <td>Torgersen</td>\n",
       "      <td>Adult, 1 Egg Stage</td>\n",
       "      <td>N1A2</td>\n",
       "      <td>Yes</td>\n",
       "      <td>11/11/07</td>\n",
       "      <td>39.5</td>\n",
       "      <td>17.4</td>\n",
       "      <td>186.0</td>\n",
       "      <td>3800.0</td>\n",
       "      <td>FEMALE</td>\n",
       "      <td>8.94956</td>\n",
       "      <td>-24.69454</td>\n",
       "      <td>NaN</td>\n",
       "    </tr>\n",
       "    <tr>\n",
       "      <th>2</th>\n",
       "      <td>PAL0708</td>\n",
       "      <td>3</td>\n",
       "      <td>Adelie Penguin (Pygoscelis adeliae)</td>\n",
       "      <td>Anvers</td>\n",
       "      <td>Torgersen</td>\n",
       "      <td>Adult, 1 Egg Stage</td>\n",
       "      <td>N2A1</td>\n",
       "      <td>Yes</td>\n",
       "      <td>11/16/07</td>\n",
       "      <td>40.3</td>\n",
       "      <td>18.0</td>\n",
       "      <td>195.0</td>\n",
       "      <td>3250.0</td>\n",
       "      <td>FEMALE</td>\n",
       "      <td>8.36821</td>\n",
       "      <td>-25.33302</td>\n",
       "      <td>NaN</td>\n",
       "    </tr>\n",
       "    <tr>\n",
       "      <th>3</th>\n",
       "      <td>PAL0708</td>\n",
       "      <td>4</td>\n",
       "      <td>Adelie Penguin (Pygoscelis adeliae)</td>\n",
       "      <td>Anvers</td>\n",
       "      <td>Torgersen</td>\n",
       "      <td>Adult, 1 Egg Stage</td>\n",
       "      <td>N2A2</td>\n",
       "      <td>Yes</td>\n",
       "      <td>11/16/07</td>\n",
       "      <td>NaN</td>\n",
       "      <td>NaN</td>\n",
       "      <td>NaN</td>\n",
       "      <td>NaN</td>\n",
       "      <td>NaN</td>\n",
       "      <td>NaN</td>\n",
       "      <td>NaN</td>\n",
       "      <td>Adult not sampled.</td>\n",
       "    </tr>\n",
       "    <tr>\n",
       "      <th>4</th>\n",
       "      <td>PAL0708</td>\n",
       "      <td>5</td>\n",
       "      <td>Adelie Penguin (Pygoscelis adeliae)</td>\n",
       "      <td>Anvers</td>\n",
       "      <td>Torgersen</td>\n",
       "      <td>Adult, 1 Egg Stage</td>\n",
       "      <td>N3A1</td>\n",
       "      <td>Yes</td>\n",
       "      <td>11/16/07</td>\n",
       "      <td>36.7</td>\n",
       "      <td>19.3</td>\n",
       "      <td>193.0</td>\n",
       "      <td>3450.0</td>\n",
       "      <td>FEMALE</td>\n",
       "      <td>8.76651</td>\n",
       "      <td>-25.32426</td>\n",
       "      <td>NaN</td>\n",
       "    </tr>\n",
       "  </tbody>\n",
       "</table>\n",
       "</div>"
      ],
      "text/plain": [
       "  studyName  Sample Number                              Species  Region  \\\n",
       "0   PAL0708              1  Adelie Penguin (Pygoscelis adeliae)  Anvers   \n",
       "1   PAL0708              2  Adelie Penguin (Pygoscelis adeliae)  Anvers   \n",
       "2   PAL0708              3  Adelie Penguin (Pygoscelis adeliae)  Anvers   \n",
       "3   PAL0708              4  Adelie Penguin (Pygoscelis adeliae)  Anvers   \n",
       "4   PAL0708              5  Adelie Penguin (Pygoscelis adeliae)  Anvers   \n",
       "\n",
       "      Island               Stage Individual ID Clutch Completion  Date Egg  \\\n",
       "0  Torgersen  Adult, 1 Egg Stage          N1A1               Yes  11/11/07   \n",
       "1  Torgersen  Adult, 1 Egg Stage          N1A2               Yes  11/11/07   \n",
       "2  Torgersen  Adult, 1 Egg Stage          N2A1               Yes  11/16/07   \n",
       "3  Torgersen  Adult, 1 Egg Stage          N2A2               Yes  11/16/07   \n",
       "4  Torgersen  Adult, 1 Egg Stage          N3A1               Yes  11/16/07   \n",
       "\n",
       "   Culmen Length (mm)  Culmen Depth (mm)  Flipper Length (mm)  Body Mass (g)  \\\n",
       "0                39.1               18.7                181.0         3750.0   \n",
       "1                39.5               17.4                186.0         3800.0   \n",
       "2                40.3               18.0                195.0         3250.0   \n",
       "3                 NaN                NaN                  NaN            NaN   \n",
       "4                36.7               19.3                193.0         3450.0   \n",
       "\n",
       "      Sex  Delta 15 N (o/oo)  Delta 13 C (o/oo)  \\\n",
       "0    MALE                NaN                NaN   \n",
       "1  FEMALE            8.94956          -24.69454   \n",
       "2  FEMALE            8.36821          -25.33302   \n",
       "3     NaN                NaN                NaN   \n",
       "4  FEMALE            8.76651          -25.32426   \n",
       "\n",
       "                         Comments  \n",
       "0  Not enough blood for isotopes.  \n",
       "1                             NaN  \n",
       "2                             NaN  \n",
       "3              Adult not sampled.  \n",
       "4                             NaN  "
      ]
     },
     "execution_count": 522,
     "metadata": {},
     "output_type": "execute_result"
    }
   ],
   "source": [
    "df.head()"
   ]
  },
  {
   "cell_type": "markdown",
   "id": "considered-symbol",
   "metadata": {},
   "source": [
    "Общее количество пропущенных значений"
   ]
  },
  {
   "cell_type": "code",
   "execution_count": 523,
   "id": "chief-niagara",
   "metadata": {},
   "outputs": [
    {
     "data": {
      "text/plain": [
       "studyName                0\n",
       "Sample Number            0\n",
       "Species                  0\n",
       "Region                   0\n",
       "Island                   0\n",
       "Stage                    0\n",
       "Individual ID            0\n",
       "Clutch Completion        0\n",
       "Date Egg                 0\n",
       "Culmen Length (mm)       2\n",
       "Culmen Depth (mm)        2\n",
       "Flipper Length (mm)      2\n",
       "Body Mass (g)            2\n",
       "Sex                     10\n",
       "Delta 15 N (o/oo)       14\n",
       "Delta 13 C (o/oo)       13\n",
       "Comments               318\n",
       "dtype: int64"
      ]
     },
     "execution_count": 523,
     "metadata": {},
     "output_type": "execute_result"
    }
   ],
   "source": [
    "df.isnull().sum()"
   ]
  },
  {
   "cell_type": "markdown",
   "id": "upset-blink",
   "metadata": {},
   "source": [
    "Некоторые признаки имеют пропущенные значения, особенно **sex, Delta (15, 13)**. Будем это учитывать в дальнейшем при очистке данных. Признак **Comments** следует убрать, предварительно проверив на предмет полезной информации."
   ]
  },
  {
   "cell_type": "markdown",
   "id": "active-worker",
   "metadata": {},
   "source": [
    "Посмотрим статистику по целевому признаку"
   ]
  },
  {
   "cell_type": "code",
   "execution_count": 524,
   "id": "monthly-dispute",
   "metadata": {},
   "outputs": [
    {
     "data": {
      "text/plain": [
       "Sex     Species                                  \n",
       ".       Gentoo penguin (Pygoscelis papua)             1\n",
       "FEMALE  Adelie Penguin (Pygoscelis adeliae)          73\n",
       "        Chinstrap penguin (Pygoscelis antarctica)    34\n",
       "        Gentoo penguin (Pygoscelis papua)            58\n",
       "MALE    Adelie Penguin (Pygoscelis adeliae)          73\n",
       "        Chinstrap penguin (Pygoscelis antarctica)    34\n",
       "        Gentoo penguin (Pygoscelis papua)            61\n",
       "Name: Species, dtype: int64"
      ]
     },
     "execution_count": 524,
     "metadata": {},
     "output_type": "execute_result"
    }
   ],
   "source": [
    "df.groupby(['Sex', 'Species'])['Species'].count()"
   ]
  },
  {
   "cell_type": "code",
   "execution_count": 525,
   "id": "related-sterling",
   "metadata": {
    "scrolled": false
   },
   "outputs": [
    {
     "data": {
      "image/png": "[encoded data removed]",
      "text/plain": [
       "<Figure size 432x288 with 1 Axes>"
      ]
     },
     "metadata": {
      "needs_background": "light"
     },
     "output_type": "display_data"
    }
   ],
   "source": [
    "sns.countplot('Sex',hue='Species',data=df);"
   ]
  },
  {
   "cell_type": "markdown",
   "id": "continent-carry",
   "metadata": {},
   "source": [
    "Практически идеальное равное распределение признака. Замечено некорректное заполнение - подумать, как исправить."
   ]
  },
  {
   "cell_type": "markdown",
   "id": "beautiful-latvia",
   "metadata": {},
   "source": [
    "## Первичный анализ признаков"
   ]
  },
  {
   "cell_type": "markdown",
   "id": "opposite-calendar",
   "metadata": {},
   "source": [
    "### Категориальный признак Species"
   ]
  },
  {
   "cell_type": "code",
   "execution_count": 529,
   "id": "coupled-struggle",
   "metadata": {},
   "outputs": [
    {
     "data": {
      "text/plain": [
       "Adelie       152\n",
       "Gentoo       124\n",
       "Chinstrap     68\n",
       "Name: Species, dtype: int64"
      ]
     },
     "execution_count": 529,
     "metadata": {},
     "output_type": "execute_result"
    }
   ],
   "source": [
    "df['Species'].value_counts()"
   ]
  },
  {
   "cell_type": "code",
   "execution_count": 530,
   "id": "moderate-crack",
   "metadata": {},
   "outputs": [],
   "source": [
    "df['Species'].replace(['Adelie Penguin (Pygoscelis adeliae)',\n",
    "                       'Gentoo penguin (Pygoscelis papua)',\n",
    "                      'Chinstrap penguin (Pygoscelis antarctica)'], ['Adelie', 'Gentoo', 'Chinstrap'], inplace=True)"
   ]
  },
  {
   "cell_type": "code",
   "execution_count": 531,
   "id": "mighty-exhibit",
   "metadata": {
    "scrolled": true
   },
   "outputs": [
    {
     "data": {
      "text/plain": [
       "<Axes: xlabel='Species', ylabel='count'>"
      ]
     },
     "execution_count": 531,
     "metadata": {},
     "output_type": "execute_result"
    },
    {
     "data": {
      "image/png": "[encoded data removed]",
      "text/plain": [
       "<Figure size 432x288 with 1 Axes>"
      ]
     },
     "metadata": {
      "needs_background": "light"
     },
     "output_type": "display_data"
    }
   ],
   "source": [
    "sns.countplot('Species', data=df)"
   ]
  },
  {
   "cell_type": "markdown",
   "id": "simple-scholar",
   "metadata": {},
   "source": [
    "Рассматриваются 3 разновидности пингвинов, причем Chinstrap встречается в 2 раза реже остальных."
   ]
  },
  {
   "cell_type": "markdown",
   "id": "roman-ordinance",
   "metadata": {},
   "source": [
    "### Категориальный признак Region"
   ]
  },
  {
   "cell_type": "code",
   "execution_count": 532,
   "id": "reported-arcade",
   "metadata": {},
   "outputs": [
    {
     "data": {
      "text/plain": [
       "Region  Species  \n",
       "Anvers  Adelie       152\n",
       "        Chinstrap     68\n",
       "        Gentoo       124\n",
       "Name: Species, dtype: int64"
      ]
     },
     "execution_count": 532,
     "metadata": {},
     "output_type": "execute_result"
    }
   ],
   "source": [
    "df.groupby(['Region', 'Species'])['Species'].count()"
   ]
  },
  {
   "cell_type": "code",
   "execution_count": 533,
   "id": "behavioral-albania",
   "metadata": {},
   "outputs": [
    {
     "data": {
      "text/plain": [
       "Anvers    344\n",
       "Name: Region, dtype: int64"
      ]
     },
     "execution_count": 533,
     "metadata": {},
     "output_type": "execute_result"
    }
   ],
   "source": [
    "df['Region'].value_counts()"
   ]
  },
  {
   "cell_type": "markdown",
   "id": "fiscal-salem",
   "metadata": {},
   "source": [
    "Рассматривается только один регион проживания - **Anvers**, поэтому данный признак не влияет на положение дел и учитываться не будет."
   ]
  },
  {
   "cell_type": "markdown",
   "id": "welcome-packaging",
   "metadata": {},
   "source": [
    "### Категориальный признак Island"
   ]
  },
  {
   "cell_type": "code",
   "execution_count": 534,
   "id": "stuffed-marsh",
   "metadata": {},
   "outputs": [
    {
     "data": {
      "text/plain": [
       "Island     Species  \n",
       "Biscoe     Adelie        44\n",
       "           Gentoo       124\n",
       "Dream      Adelie        56\n",
       "           Chinstrap     68\n",
       "Torgersen  Adelie        52\n",
       "Name: Species, dtype: int64"
      ]
     },
     "execution_count": 534,
     "metadata": {},
     "output_type": "execute_result"
    }
   ],
   "source": [
    "df.groupby(['Island', 'Species'])['Species'].count()"
   ]
  },
  {
   "cell_type": "code",
   "execution_count": 535,
   "id": "domestic-enforcement",
   "metadata": {},
   "outputs": [
    {
     "data": {
      "image/png": "[encoded data removed]",
      "text/plain": [
       "<Figure size 432x288 with 1 Axes>"
      ]
     },
     "metadata": {
      "needs_background": "light"
     },
     "output_type": "display_data"
    }
   ],
   "source": [
    "sns.countplot('Island',hue='Species',data=df);"
   ]
  },
  {
   "cell_type": "markdown",
   "id": "accompanied-mixture",
   "metadata": {},
   "source": [
    "**Adelie** встречаются на всех островах, причем достаточно равномерно, чего не скажешь про **Chinstrap и Gentoo**. Таким образом, данный признак будет очень сильно влиять на модель."
   ]
  },
  {
   "cell_type": "markdown",
   "id": "explicit-observer",
   "metadata": {},
   "source": [
    "### Порядковый признак Stage"
   ]
  },
  {
   "cell_type": "code",
   "execution_count": 536,
   "id": "cultural-announcement",
   "metadata": {},
   "outputs": [
    {
     "data": {
      "text/plain": [
       "Stage               Species  \n",
       "Adult, 1 Egg Stage  Adelie       152\n",
       "                    Chinstrap     68\n",
       "                    Gentoo       124\n",
       "Name: Species, dtype: int64"
      ]
     },
     "execution_count": 536,
     "metadata": {},
     "output_type": "execute_result"
    }
   ],
   "source": [
    "df.groupby(['Stage', 'Species'])['Species'].count()"
   ]
  },
  {
   "cell_type": "code",
   "execution_count": 537,
   "id": "municipal-collar",
   "metadata": {},
   "outputs": [
    {
     "data": {
      "text/plain": [
       "Adult, 1 Egg Stage    344\n",
       "Name: Stage, dtype: int64"
      ]
     },
     "execution_count": 537,
     "metadata": {},
     "output_type": "execute_result"
    }
   ],
   "source": [
    "df['Stage'].value_counts()"
   ]
  },
  {
   "cell_type": "markdown",
   "id": "illegal-festival",
   "metadata": {},
   "source": [
    "Рассматриваются только взрослые особи с одинаковой стадией репродукции, способные отложить 1 яйцо. Данный признак не влияет на положение дел и учитываться не будет."
   ]
  },
  {
   "cell_type": "markdown",
   "id": "ceramic-checklist",
   "metadata": {},
   "source": [
    "### Категориальный бинарный признак Clutch Completion"
   ]
  },
  {
   "cell_type": "code",
   "execution_count": 538,
   "id": "confidential-valuable",
   "metadata": {},
   "outputs": [],
   "source": [
    "df['Clutch Completion'].replace(['Yes', 'No'], [1, 0], inplace=True)"
   ]
  },
  {
   "cell_type": "code",
   "execution_count": 539,
   "id": "active-bronze",
   "metadata": {},
   "outputs": [
    {
     "data": {
      "text/plain": [
       "0.8953488372093024"
      ]
     },
     "execution_count": 539,
     "metadata": {},
     "output_type": "execute_result"
    }
   ],
   "source": [
    "df['Clutch Completion'].mean()"
   ]
  },
  {
   "cell_type": "markdown",
   "id": "acceptable-immigration",
   "metadata": {},
   "source": [
    "В 90% случаев наблюдалась полная кладка гнезда"
   ]
  },
  {
   "cell_type": "code",
   "execution_count": 540,
   "id": "central-suggestion",
   "metadata": {},
   "outputs": [
    {
     "data": {
      "text/html": [
       "<style  type=\"text/css\" >\n",
       "#T_3606f_row0_col0,#T_3606f_row1_col0{\n",
       "            background-color:  #d9d8ea;\n",
       "            color:  #000000;\n",
       "        }#T_3606f_row0_col1{\n",
       "            background-color:  #b5c4df;\n",
       "            color:  #000000;\n",
       "        }#T_3606f_row0_col2{\n",
       "            background-color:  #bfc9e1;\n",
       "            color:  #000000;\n",
       "        }#T_3606f_row1_col1,#T_3606f_row1_col2,#T_3606f_row2_col0{\n",
       "            background-color:  #fff7fb;\n",
       "            color:  #000000;\n",
       "        }#T_3606f_row2_col1{\n",
       "            background-color:  #d2d2e7;\n",
       "            color:  #000000;\n",
       "        }#T_3606f_row2_col2{\n",
       "            background-color:  #dbdaeb;\n",
       "            color:  #000000;\n",
       "        }#T_3606f_row3_col0,#T_3606f_row3_col1,#T_3606f_row3_col2{\n",
       "            background-color:  #023858;\n",
       "            color:  #f1f1f1;\n",
       "        }</style><table id=\"T_3606f_\" ><thead>    <tr>        <th class=\"index_name level0\" >Clutch Completion</th>        <th class=\"col_heading level0 col0\" >0</th>        <th class=\"col_heading level0 col1\" >1</th>        <th class=\"col_heading level0 col2\" >All</th>    </tr>    <tr>        <th class=\"index_name level0\" >Species</th>        <th class=\"blank\" ></th>        <th class=\"blank\" ></th>        <th class=\"blank\" ></th>    </tr></thead><tbody>\n",
       "                <tr>\n",
       "                        <th id=\"T_3606f_level0_row0\" class=\"row_heading level0 row0\" >Adelie</th>\n",
       "                        <td id=\"T_3606f_row0_col0\" class=\"data row0 col0\" >14</td>\n",
       "                        <td id=\"T_3606f_row0_col1\" class=\"data row0 col1\" >138</td>\n",
       "                        <td id=\"T_3606f_row0_col2\" class=\"data row0 col2\" >152</td>\n",
       "            </tr>\n",
       "            <tr>\n",
       "                        <th id=\"T_3606f_level0_row1\" class=\"row_heading level0 row1\" >Chinstrap</th>\n",
       "                        <td id=\"T_3606f_row1_col0\" class=\"data row1 col0\" >14</td>\n",
       "                        <td id=\"T_3606f_row1_col1\" class=\"data row1 col1\" >54</td>\n",
       "                        <td id=\"T_3606f_row1_col2\" class=\"data row1 col2\" >68</td>\n",
       "            </tr>\n",
       "            <tr>\n",
       "                        <th id=\"T_3606f_level0_row2\" class=\"row_heading level0 row2\" >Gentoo</th>\n",
       "                        <td id=\"T_3606f_row2_col0\" class=\"data row2 col0\" >8</td>\n",
       "                        <td id=\"T_3606f_row2_col1\" class=\"data row2 col1\" >116</td>\n",
       "                        <td id=\"T_3606f_row2_col2\" class=\"data row2 col2\" >124</td>\n",
       "            </tr>\n",
       "            <tr>\n",
       "                        <th id=\"T_3606f_level0_row3\" class=\"row_heading level0 row3\" >All</th>\n",
       "                        <td id=\"T_3606f_row3_col0\" class=\"data row3 col0\" >36</td>\n",
       "                        <td id=\"T_3606f_row3_col1\" class=\"data row3 col1\" >308</td>\n",
       "                        <td id=\"T_3606f_row3_col2\" class=\"data row3 col2\" >344</td>\n",
       "            </tr>\n",
       "    </tbody></table>"
      ],
      "text/plain": [
       "<pandas.io.formats.style.Styler at 0x7f9d1c6a6ee0>"
      ]
     },
     "execution_count": 540,
     "metadata": {},
     "output_type": "execute_result"
    }
   ],
   "source": [
    "pd.crosstab(df['Species'], df['Clutch Completion'], margins=True).style.background_gradient()"
   ]
  },
  {
   "cell_type": "code",
   "execution_count": 541,
   "id": "atomic-fifteen",
   "metadata": {},
   "outputs": [
    {
     "data": {
      "image/png": "[encoded data removed]",
      "text/plain": [
       "<Figure size 432x288 with 1 Axes>"
      ]
     },
     "metadata": {
      "needs_background": "light"
     },
     "output_type": "display_data"
    }
   ],
   "source": [
    "sns.barplot(x = \"Species\", y = \"Clutch Completion\", data = df);"
   ]
  },
  {
   "cell_type": "code",
   "execution_count": 542,
   "id": "naval-majority",
   "metadata": {},
   "outputs": [
    {
     "data": {
      "image/png": "[encoded data removed]",
      "text/plain": [
       "<Figure size 432x288 with 1 Axes>"
      ]
     },
     "metadata": {
      "needs_background": "light"
     },
     "output_type": "display_data"
    }
   ],
   "source": [
    "sns.countplot('Clutch Completion',hue='Species',data=df);"
   ]
  },
  {
   "cell_type": "markdown",
   "id": "perceived-certificate",
   "metadata": {},
   "source": [
    "Пингвины **Chinstrap** значительно реже своих сорожичей осуществляют полную кладку гнезда. Возможно, отчасти с этим связана их низкая численность. "
   ]
  },
  {
   "cell_type": "code",
   "execution_count": 543,
   "id": "revised-wrong",
   "metadata": {},
   "outputs": [
    {
     "data": {
      "text/html": [
       "<style  type=\"text/css\" >\n",
       "#T_0acbc_row0_col0,#T_0acbc_row0_col1,#T_0acbc_row0_col2,#T_0acbc_row0_col3{\n",
       "            background-color:  #fff7fb;\n",
       "            color:  #000000;\n",
       "        }#T_0acbc_row1_col0,#T_0acbc_row3_col0,#T_0acbc_row3_col3{\n",
       "            background-color:  #f8f1f8;\n",
       "            color:  #000000;\n",
       "        }#T_0acbc_row1_col1,#T_0acbc_row3_col1{\n",
       "            background-color:  #f0eaf4;\n",
       "            color:  #000000;\n",
       "        }#T_0acbc_row1_col2{\n",
       "            background-color:  #fbf4f9;\n",
       "            color:  #000000;\n",
       "        }#T_0acbc_row1_col3{\n",
       "            background-color:  #f7f0f7;\n",
       "            color:  #000000;\n",
       "        }#T_0acbc_row2_col0,#T_0acbc_row4_col0,#T_0acbc_row4_col3{\n",
       "            background-color:  #88b1d4;\n",
       "            color:  #000000;\n",
       "        }#T_0acbc_row2_col1,#T_0acbc_row4_col1{\n",
       "            background-color:  #9ebad9;\n",
       "            color:  #000000;\n",
       "        }#T_0acbc_row2_col2{\n",
       "            background-color:  #89b1d4;\n",
       "            color:  #000000;\n",
       "        }#T_0acbc_row2_col3{\n",
       "            background-color:  #8cb3d5;\n",
       "            color:  #000000;\n",
       "        }#T_0acbc_row3_col2{\n",
       "            background-color:  #fdf5fa;\n",
       "            color:  #000000;\n",
       "        }#T_0acbc_row4_col2{\n",
       "            background-color:  #7dacd1;\n",
       "            color:  #000000;\n",
       "        }#T_0acbc_row5_col0,#T_0acbc_row5_col1,#T_0acbc_row5_col2,#T_0acbc_row5_col3{\n",
       "            background-color:  #023858;\n",
       "            color:  #f1f1f1;\n",
       "        }</style><table id=\"T_0acbc_\" ><thead>    <tr>        <th class=\"blank\" ></th>        <th class=\"index_name level0\" >Species</th>        <th class=\"col_heading level0 col0\" >Adelie</th>        <th class=\"col_heading level0 col1\" >Chinstrap</th>        <th class=\"col_heading level0 col2\" >Gentoo</th>        <th class=\"col_heading level0 col3\" >All</th>    </tr>    <tr>        <th class=\"index_name level0\" >Sex</th>        <th class=\"index_name level1\" >Clutch Completion</th>        <th class=\"blank\" ></th>        <th class=\"blank\" ></th>        <th class=\"blank\" ></th>        <th class=\"blank\" ></th>    </tr></thead><tbody>\n",
       "                <tr>\n",
       "                        <th id=\"T_0acbc_level0_row0\" class=\"row_heading level0 row0\" >.</th>\n",
       "                        <th id=\"T_0acbc_level1_row0\" class=\"row_heading level1 row0\" >1</th>\n",
       "                        <td id=\"T_0acbc_row0_col0\" class=\"data row0 col0\" >0</td>\n",
       "                        <td id=\"T_0acbc_row0_col1\" class=\"data row0 col1\" >0</td>\n",
       "                        <td id=\"T_0acbc_row0_col2\" class=\"data row0 col2\" >1</td>\n",
       "                        <td id=\"T_0acbc_row0_col3\" class=\"data row0 col3\" >1</td>\n",
       "            </tr>\n",
       "            <tr>\n",
       "                        <th id=\"T_0acbc_level0_row1\" class=\"row_heading level0 row1\" rowspan=\"2\">FEMALE</th>\n",
       "                        <th id=\"T_0acbc_level1_row1\" class=\"row_heading level1 row1\" >0</th>\n",
       "                        <td id=\"T_0acbc_row1_col0\" class=\"data row1 col0\" >7</td>\n",
       "                        <td id=\"T_0acbc_row1_col1\" class=\"data row1 col1\" >7</td>\n",
       "                        <td id=\"T_0acbc_row1_col2\" class=\"data row1 col2\" >4</td>\n",
       "                        <td id=\"T_0acbc_row1_col3\" class=\"data row1 col3\" >18</td>\n",
       "            </tr>\n",
       "            <tr>\n",
       "                                <th id=\"T_0acbc_level1_row2\" class=\"row_heading level1 row2\" >1</th>\n",
       "                        <td id=\"T_0acbc_row2_col0\" class=\"data row2 col0\" >66</td>\n",
       "                        <td id=\"T_0acbc_row2_col1\" class=\"data row2 col1\" >27</td>\n",
       "                        <td id=\"T_0acbc_row2_col2\" class=\"data row2 col2\" >54</td>\n",
       "                        <td id=\"T_0acbc_row2_col3\" class=\"data row2 col3\" >147</td>\n",
       "            </tr>\n",
       "            <tr>\n",
       "                        <th id=\"T_0acbc_level0_row3\" class=\"row_heading level0 row3\" rowspan=\"2\">MALE</th>\n",
       "                        <th id=\"T_0acbc_level1_row3\" class=\"row_heading level1 row3\" >0</th>\n",
       "                        <td id=\"T_0acbc_row3_col0\" class=\"data row3 col0\" >7</td>\n",
       "                        <td id=\"T_0acbc_row3_col1\" class=\"data row3 col1\" >7</td>\n",
       "                        <td id=\"T_0acbc_row3_col2\" class=\"data row3 col2\" >3</td>\n",
       "                        <td id=\"T_0acbc_row3_col3\" class=\"data row3 col3\" >17</td>\n",
       "            </tr>\n",
       "            <tr>\n",
       "                                <th id=\"T_0acbc_level1_row4\" class=\"row_heading level1 row4\" >1</th>\n",
       "                        <td id=\"T_0acbc_row4_col0\" class=\"data row4 col0\" >66</td>\n",
       "                        <td id=\"T_0acbc_row4_col1\" class=\"data row4 col1\" >27</td>\n",
       "                        <td id=\"T_0acbc_row4_col2\" class=\"data row4 col2\" >58</td>\n",
       "                        <td id=\"T_0acbc_row4_col3\" class=\"data row4 col3\" >151</td>\n",
       "            </tr>\n",
       "            <tr>\n",
       "                        <th id=\"T_0acbc_level0_row5\" class=\"row_heading level0 row5\" >All</th>\n",
       "                        <th id=\"T_0acbc_level1_row5\" class=\"row_heading level1 row5\" ></th>\n",
       "                        <td id=\"T_0acbc_row5_col0\" class=\"data row5 col0\" >146</td>\n",
       "                        <td id=\"T_0acbc_row5_col1\" class=\"data row5 col1\" >68</td>\n",
       "                        <td id=\"T_0acbc_row5_col2\" class=\"data row5 col2\" >120</td>\n",
       "                        <td id=\"T_0acbc_row5_col3\" class=\"data row5 col3\" >334</td>\n",
       "            </tr>\n",
       "    </tbody></table>"
      ],
      "text/plain": [
       "<pandas.io.formats.style.Styler at 0x7f9d19381160>"
      ]
     },
     "execution_count": 543,
     "metadata": {},
     "output_type": "execute_result"
    }
   ],
   "source": [
    "pd.crosstab([df['Sex'], df['Clutch Completion']], df['Species'], margins=True).style.background_gradient()"
   ]
  },
  {
   "cell_type": "markdown",
   "id": "contemporary-spare",
   "metadata": {},
   "source": [
    "Данная таблица хорошо иллюстрирует способность пингвинов образовывать пары, поэтому предположим, что некорректное значение пола есть самец пингвина, у которого не наблюдалось полной кладки гнезда. P.S. по антропометрическим признакам, визуализированным violinplot'ом достоверно определить пол невозможно. "
   ]
  },
  {
   "cell_type": "code",
   "execution_count": 544,
   "id": "gross-roller",
   "metadata": {},
   "outputs": [],
   "source": [
    "df['Sex'].replace(['.'], ['MALE'], inplace=True)"
   ]
  },
  {
   "cell_type": "markdown",
   "id": "electrical-disaster",
   "metadata": {},
   "source": [
    "### Порядковый признак Date Egg"
   ]
  },
  {
   "cell_type": "code",
   "execution_count": 545,
   "id": "buried-freedom",
   "metadata": {},
   "outputs": [],
   "source": [
    "df['Date Egg'] = pd.to_datetime(df['Date Egg'],format= '%m/%d/%y')"
   ]
  },
  {
   "cell_type": "code",
   "execution_count": 546,
   "id": "tutorial-botswana",
   "metadata": {},
   "outputs": [
    {
     "data": {
      "text/plain": [
       "11    330\n",
       "12     14\n",
       "Name: Date Egg, dtype: int64"
      ]
     },
     "execution_count": 546,
     "metadata": {},
     "output_type": "execute_result"
    }
   ],
   "source": [
    "df['Date Egg'].dt.month.value_counts()"
   ]
  },
  {
   "cell_type": "markdown",
   "id": "brave-growth",
   "metadata": {},
   "source": [
    "Пингвины откладывают яйца в ноябре, изредка в начале декабря, поэтому интересно рассмотреть статистику по годам. "
   ]
  },
  {
   "cell_type": "code",
   "execution_count": 547,
   "id": "composed-disclaimer",
   "metadata": {},
   "outputs": [],
   "source": [
    "df['Date Egg'] = pd.to_datetime(df['Date Egg'],format= '%m/%d/%y').dt.year"
   ]
  },
  {
   "cell_type": "code",
   "execution_count": 548,
   "id": "distinct-letter",
   "metadata": {
    "scrolled": true
   },
   "outputs": [
    {
     "data": {
      "image/png": "[encoded data removed]",
      "text/plain": [
       "<Figure size 444.125x360 with 1 Axes>"
      ]
     },
     "metadata": {
      "needs_background": "light"
     },
     "output_type": "display_data"
    }
   ],
   "source": [
    "sns.factorplot('Date Egg', 'Clutch Completion', hue='Species', data=df);"
   ]
  },
  {
   "cell_type": "markdown",
   "id": "executed-solomon",
   "metadata": {},
   "source": [
    "В процессе наблюдения у пингвинов **Chinstrap** сложилась положительная динамика в окладке полного гнезда."
   ]
  },
  {
   "cell_type": "markdown",
   "id": "through-evidence",
   "metadata": {},
   "source": [
    "### Количественные признаки Culmen Length и Depth"
   ]
  },
  {
   "cell_type": "code",
   "execution_count": 549,
   "id": "vietnamese-tokyo",
   "metadata": {
    "scrolled": false
   },
   "outputs": [
    {
     "data": {
      "text/plain": [
       "count    342.000000\n",
       "mean      43.921930\n",
       "std        5.459584\n",
       "min       32.100000\n",
       "25%       39.225000\n",
       "50%       44.450000\n",
       "75%       48.500000\n",
       "max       59.600000\n",
       "Name: Culmen Length (mm), dtype: float64"
      ]
     },
     "execution_count": 549,
     "metadata": {},
     "output_type": "execute_result"
    }
   ],
   "source": [
    "df['Culmen Length (mm)'].describe()"
   ]
  },
  {
   "cell_type": "code",
   "execution_count": 550,
   "id": "vital-usage",
   "metadata": {},
   "outputs": [
    {
     "data": {
      "text/plain": [
       "count    342.000000\n",
       "mean      17.151170\n",
       "std        1.974793\n",
       "min       13.100000\n",
       "25%       15.600000\n",
       "50%       17.300000\n",
       "75%       18.700000\n",
       "max       21.500000\n",
       "Name: Culmen Depth (mm), dtype: float64"
      ]
     },
     "execution_count": 550,
     "metadata": {},
     "output_type": "execute_result"
    }
   ],
   "source": [
    "df['Culmen Depth (mm)'].describe()"
   ]
  },
  {
   "cell_type": "code",
   "execution_count": 551,
   "id": "creative-samuel",
   "metadata": {},
   "outputs": [
    {
     "data": {
      "image/png": "[encoded data removed]",
      "text/plain": [
       "<Figure size 1080x360 with 2 Axes>"
      ]
     },
     "metadata": {
      "needs_background": "light"
     },
     "output_type": "display_data"
    }
   ],
   "source": [
    "_, ax = plt.subplots(1, 2, figsize=(15, 5))\n",
    "sns.violinplot(\"Species\", \"Culmen Length (mm)\", hue=\"Sex\", data=df, ax=ax[0])\n",
    "ax[0].set_title('Species vs Culmen Length')\n",
    "ax[0].set_yticks(range(20, 80, 10))\n",
    "sns.violinplot(\"Species\", \"Culmen Depth (mm)\", hue=\"Sex\", data=df, ax=ax[1])\n",
    "ax[1].set_title('Species vs Culmen Depth')\n",
    "ax[1].set_yticks(range(10, 30, 5))\n",
    "plt.show()"
   ]
  },
  {
   "cell_type": "markdown",
   "id": "level-security",
   "metadata": {},
   "source": [
    "### Количественные признаки Flipper Length и Body Mass"
   ]
  },
  {
   "cell_type": "code",
   "execution_count": 552,
   "id": "minimal-envelope",
   "metadata": {
    "scrolled": false
   },
   "outputs": [
    {
     "data": {
      "text/plain": [
       "count    342.000000\n",
       "mean     200.915205\n",
       "std       14.061714\n",
       "min      172.000000\n",
       "25%      190.000000\n",
       "50%      197.000000\n",
       "75%      213.000000\n",
       "max      231.000000\n",
       "Name: Flipper Length (mm), dtype: float64"
      ]
     },
     "execution_count": 552,
     "metadata": {},
     "output_type": "execute_result"
    }
   ],
   "source": [
    "df['Flipper Length (mm)'].describe()"
   ]
  },
  {
   "cell_type": "code",
   "execution_count": 553,
   "id": "suffering-amateur",
   "metadata": {},
   "outputs": [
    {
     "data": {
      "text/plain": [
       "count     342.000000\n",
       "mean     4201.754386\n",
       "std       801.954536\n",
       "min      2700.000000\n",
       "25%      3550.000000\n",
       "50%      4050.000000\n",
       "75%      4750.000000\n",
       "max      6300.000000\n",
       "Name: Body Mass (g), dtype: float64"
      ]
     },
     "execution_count": 553,
     "metadata": {},
     "output_type": "execute_result"
    }
   ],
   "source": [
    "df['Body Mass (g)'].describe()"
   ]
  },
  {
   "cell_type": "code",
   "execution_count": 554,
   "id": "manufactured-phenomenon",
   "metadata": {},
   "outputs": [
    {
     "data": {
      "image/png": "[encoded data removed]",
      "text/plain": [
       "<Figure size 1080x360 with 2 Axes>"
      ]
     },
     "metadata": {
      "needs_background": "light"
     },
     "output_type": "display_data"
    }
   ],
   "source": [
    "_, ax = plt.subplots(1, 2, figsize=(15, 5))\n",
    "sns.violinplot(\"Species\", \"Flipper Length (mm)\", hue=\"Sex\", data=df, ax=ax[0])\n",
    "ax[0].set_title('Species vs Flipper Length')\n",
    "ax[0].set_yticks(range(160, 250, 10))\n",
    "sns.violinplot(\"Species\", \"Body Mass (g)\", hue=\"Sex\", data=df, ax=ax[1])\n",
    "ax[1].set_title('Species vs Body Mass')\n",
    "ax[1].set_yticks(range(2700, 6300, 500))\n",
    "plt.show()"
   ]
  },
  {
   "cell_type": "markdown",
   "id": "motivated-pursuit",
   "metadata": {},
   "source": [
    "Стоит обратить внимание на превосходящую антропометрию и более тонкий клюв пингвинов **Gentoo**."
   ]
  },
  {
   "cell_type": "markdown",
   "id": "automated-locking",
   "metadata": {},
   "source": [
    "### Количественные признаки Delta 15 N и Delta 13 C"
   ]
  },
  {
   "cell_type": "code",
   "execution_count": 555,
   "id": "annual-happening",
   "metadata": {},
   "outputs": [
    {
     "data": {
      "text/plain": [
       "count    330.000000\n",
       "mean       8.733382\n",
       "std        0.551770\n",
       "min        7.632200\n",
       "25%        8.299890\n",
       "50%        8.652405\n",
       "75%        9.172123\n",
       "max       10.025440\n",
       "Name: Delta 15 N (o/oo), dtype: float64"
      ]
     },
     "execution_count": 555,
     "metadata": {},
     "output_type": "execute_result"
    }
   ],
   "source": [
    "df['Delta 15 N (o/oo)'].describe()"
   ]
  },
  {
   "cell_type": "code",
   "execution_count": 556,
   "id": "extraordinary-cinema",
   "metadata": {},
   "outputs": [
    {
     "data": {
      "text/plain": [
       "count    331.000000\n",
       "mean     -25.686292\n",
       "std        0.793961\n",
       "min      -27.018540\n",
       "25%      -26.320305\n",
       "50%      -25.833520\n",
       "75%      -25.062050\n",
       "max      -23.787670\n",
       "Name: Delta 13 C (o/oo), dtype: float64"
      ]
     },
     "execution_count": 556,
     "metadata": {},
     "output_type": "execute_result"
    }
   ],
   "source": [
    "df['Delta 13 C (o/oo)'].describe()"
   ]
  },
  {
   "cell_type": "code",
   "execution_count": 557,
   "id": "clean-examination",
   "metadata": {},
   "outputs": [
    {
     "data": {
      "image/png": "[encoded data removed]",
      "text/plain": [
       "<Figure size 1440x360 with 2 Axes>"
      ]
     },
     "metadata": {
      "needs_background": "light"
     },
     "output_type": "display_data"
    }
   ],
   "source": [
    "_, ax = plt.subplots(1, 2, figsize=(20, 5))\n",
    "sns.violinplot(\"Date Egg\", \"Delta 15 N (o/oo)\", hue=\"Species\", data=df, ax=ax[0])\n",
    "ax[0].set_title('Year vs Delta 15 N')\n",
    "ax[0].set_yticks(range(7, 11, 1))\n",
    "sns.violinplot(\"Date Egg\", \"Delta 13 C (o/oo)\", hue=\"Species\", data=df, ax=ax[1])\n",
    "ax[1].set_title('Year vs Delta 13 C')\n",
    "ax[1].set_yticks(range(-28, -23, 1))\n",
    "plt.show()"
   ]
  },
  {
   "cell_type": "markdown",
   "id": "promising-thumbnail",
   "metadata": {},
   "source": [
    "За 3 года наблюдений, нельзя сказать, о существенном влиянии **Delta 15 N** на пингвинов. При этом **Delta 13 C** оказал серьезный эффект на некоторые виды."
   ]
  },
  {
   "cell_type": "markdown",
   "id": "massive-looking",
   "metadata": {},
   "source": [
    "## Feature Engineering and Data Cleaning"
   ]
  },
  {
   "cell_type": "code",
   "execution_count": 558,
   "id": "studied-condition",
   "metadata": {
    "scrolled": true
   },
   "outputs": [
    {
     "data": {
      "text/html": [
       "<div>\n",
       "<style scoped>\n",
       "    .dataframe tbody tr th:only-of-type {\n",
       "        vertical-align: middle;\n",
       "    }\n",
       "\n",
       "    .dataframe tbody tr th {\n",
       "        vertical-align: top;\n",
       "    }\n",
       "\n",
       "    .dataframe thead th {\n",
       "        text-align: right;\n",
       "    }\n",
       "</style>\n",
       "<table border=\"1\" class=\"dataframe\">\n",
       "  <thead>\n",
       "    <tr style=\"text-align: right;\">\n",
       "      <th></th>\n",
       "      <th>studyName</th>\n",
       "      <th>Sample Number</th>\n",
       "      <th>Species</th>\n",
       "      <th>Region</th>\n",
       "      <th>Island</th>\n",
       "      <th>Stage</th>\n",
       "      <th>Individual ID</th>\n",
       "      <th>Clutch Completion</th>\n",
       "      <th>Date Egg</th>\n",
       "      <th>Culmen Length (mm)</th>\n",
       "      <th>Culmen Depth (mm)</th>\n",
       "      <th>Flipper Length (mm)</th>\n",
       "      <th>Body Mass (g)</th>\n",
       "      <th>Sex</th>\n",
       "      <th>Delta 15 N (o/oo)</th>\n",
       "      <th>Delta 13 C (o/oo)</th>\n",
       "      <th>Comments</th>\n",
       "    </tr>\n",
       "  </thead>\n",
       "  <tbody>\n",
       "    <tr>\n",
       "      <th>0</th>\n",
       "      <td>PAL0708</td>\n",
       "      <td>1</td>\n",
       "      <td>Adelie</td>\n",
       "      <td>Anvers</td>\n",
       "      <td>Torgersen</td>\n",
       "      <td>Adult, 1 Egg Stage</td>\n",
       "      <td>N1A1</td>\n",
       "      <td>1</td>\n",
       "      <td>2007</td>\n",
       "      <td>39.1</td>\n",
       "      <td>18.7</td>\n",
       "      <td>181.0</td>\n",
       "      <td>3750.0</td>\n",
       "      <td>MALE</td>\n",
       "      <td>NaN</td>\n",
       "      <td>NaN</td>\n",
       "      <td>Not enough blood for isotopes.</td>\n",
       "    </tr>\n",
       "    <tr>\n",
       "      <th>3</th>\n",
       "      <td>PAL0708</td>\n",
       "      <td>4</td>\n",
       "      <td>Adelie</td>\n",
       "      <td>Anvers</td>\n",
       "      <td>Torgersen</td>\n",
       "      <td>Adult, 1 Egg Stage</td>\n",
       "      <td>N2A2</td>\n",
       "      <td>1</td>\n",
       "      <td>2007</td>\n",
       "      <td>NaN</td>\n",
       "      <td>NaN</td>\n",
       "      <td>NaN</td>\n",
       "      <td>NaN</td>\n",
       "      <td>NaN</td>\n",
       "      <td>NaN</td>\n",
       "      <td>NaN</td>\n",
       "      <td>Adult not sampled.</td>\n",
       "    </tr>\n",
       "    <tr>\n",
       "      <th>8</th>\n",
       "      <td>PAL0708</td>\n",
       "      <td>9</td>\n",
       "      <td>Adelie</td>\n",
       "      <td>Anvers</td>\n",
       "      <td>Torgersen</td>\n",
       "      <td>Adult, 1 Egg Stage</td>\n",
       "      <td>N5A1</td>\n",
       "      <td>1</td>\n",
       "      <td>2007</td>\n",
       "      <td>34.1</td>\n",
       "      <td>18.1</td>\n",
       "      <td>193.0</td>\n",
       "      <td>3475.0</td>\n",
       "      <td>NaN</td>\n",
       "      <td>NaN</td>\n",
       "      <td>NaN</td>\n",
       "      <td>No blood sample obtained.</td>\n",
       "    </tr>\n",
       "    <tr>\n",
       "      <th>11</th>\n",
       "      <td>PAL0708</td>\n",
       "      <td>12</td>\n",
       "      <td>Adelie</td>\n",
       "      <td>Anvers</td>\n",
       "      <td>Torgersen</td>\n",
       "      <td>Adult, 1 Egg Stage</td>\n",
       "      <td>N6A2</td>\n",
       "      <td>1</td>\n",
       "      <td>2007</td>\n",
       "      <td>37.8</td>\n",
       "      <td>17.3</td>\n",
       "      <td>180.0</td>\n",
       "      <td>3700.0</td>\n",
       "      <td>NaN</td>\n",
       "      <td>NaN</td>\n",
       "      <td>NaN</td>\n",
       "      <td>No blood sample obtained.</td>\n",
       "    </tr>\n",
       "    <tr>\n",
       "      <th>12</th>\n",
       "      <td>PAL0708</td>\n",
       "      <td>13</td>\n",
       "      <td>Adelie</td>\n",
       "      <td>Anvers</td>\n",
       "      <td>Torgersen</td>\n",
       "      <td>Adult, 1 Egg Stage</td>\n",
       "      <td>N7A1</td>\n",
       "      <td>1</td>\n",
       "      <td>2007</td>\n",
       "      <td>41.1</td>\n",
       "      <td>17.6</td>\n",
       "      <td>182.0</td>\n",
       "      <td>3200.0</td>\n",
       "      <td>FEMALE</td>\n",
       "      <td>NaN</td>\n",
       "      <td>NaN</td>\n",
       "      <td>Not enough blood for isotopes.</td>\n",
       "    </tr>\n",
       "    <tr>\n",
       "      <th>13</th>\n",
       "      <td>PAL0708</td>\n",
       "      <td>14</td>\n",
       "      <td>Adelie</td>\n",
       "      <td>Anvers</td>\n",
       "      <td>Torgersen</td>\n",
       "      <td>Adult, 1 Egg Stage</td>\n",
       "      <td>N7A2</td>\n",
       "      <td>1</td>\n",
       "      <td>2007</td>\n",
       "      <td>38.6</td>\n",
       "      <td>21.2</td>\n",
       "      <td>191.0</td>\n",
       "      <td>3800.0</td>\n",
       "      <td>MALE</td>\n",
       "      <td>NaN</td>\n",
       "      <td>NaN</td>\n",
       "      <td>Not enough blood for isotopes.</td>\n",
       "    </tr>\n",
       "    <tr>\n",
       "      <th>15</th>\n",
       "      <td>PAL0708</td>\n",
       "      <td>16</td>\n",
       "      <td>Adelie</td>\n",
       "      <td>Anvers</td>\n",
       "      <td>Torgersen</td>\n",
       "      <td>Adult, 1 Egg Stage</td>\n",
       "      <td>N8A2</td>\n",
       "      <td>1</td>\n",
       "      <td>2007</td>\n",
       "      <td>36.6</td>\n",
       "      <td>17.8</td>\n",
       "      <td>185.0</td>\n",
       "      <td>3700.0</td>\n",
       "      <td>FEMALE</td>\n",
       "      <td>NaN</td>\n",
       "      <td>NaN</td>\n",
       "      <td>Not enough blood for isotopes.</td>\n",
       "    </tr>\n",
       "    <tr>\n",
       "      <th>39</th>\n",
       "      <td>PAL0708</td>\n",
       "      <td>40</td>\n",
       "      <td>Adelie</td>\n",
       "      <td>Anvers</td>\n",
       "      <td>Dream</td>\n",
       "      <td>Adult, 1 Egg Stage</td>\n",
       "      <td>N25A2</td>\n",
       "      <td>0</td>\n",
       "      <td>2007</td>\n",
       "      <td>39.8</td>\n",
       "      <td>19.1</td>\n",
       "      <td>184.0</td>\n",
       "      <td>4650.0</td>\n",
       "      <td>MALE</td>\n",
       "      <td>NaN</td>\n",
       "      <td>NaN</td>\n",
       "      <td>Nest never observed with full clutch. Not enou...</td>\n",
       "    </tr>\n",
       "    <tr>\n",
       "      <th>41</th>\n",
       "      <td>PAL0708</td>\n",
       "      <td>42</td>\n",
       "      <td>Adelie</td>\n",
       "      <td>Anvers</td>\n",
       "      <td>Dream</td>\n",
       "      <td>Adult, 1 Egg Stage</td>\n",
       "      <td>N26A2</td>\n",
       "      <td>1</td>\n",
       "      <td>2007</td>\n",
       "      <td>40.8</td>\n",
       "      <td>18.4</td>\n",
       "      <td>195.0</td>\n",
       "      <td>3900.0</td>\n",
       "      <td>MALE</td>\n",
       "      <td>NaN</td>\n",
       "      <td>NaN</td>\n",
       "      <td>Not enough blood for isotopes.</td>\n",
       "    </tr>\n",
       "    <tr>\n",
       "      <th>46</th>\n",
       "      <td>PAL0708</td>\n",
       "      <td>47</td>\n",
       "      <td>Adelie</td>\n",
       "      <td>Anvers</td>\n",
       "      <td>Dream</td>\n",
       "      <td>Adult, 1 Egg Stage</td>\n",
       "      <td>N29A1</td>\n",
       "      <td>1</td>\n",
       "      <td>2007</td>\n",
       "      <td>41.1</td>\n",
       "      <td>19.0</td>\n",
       "      <td>182.0</td>\n",
       "      <td>3425.0</td>\n",
       "      <td>MALE</td>\n",
       "      <td>NaN</td>\n",
       "      <td>NaN</td>\n",
       "      <td>Not enough blood for isotopes.</td>\n",
       "    </tr>\n",
       "    <tr>\n",
       "      <th>47</th>\n",
       "      <td>PAL0708</td>\n",
       "      <td>48</td>\n",
       "      <td>Adelie</td>\n",
       "      <td>Anvers</td>\n",
       "      <td>Dream</td>\n",
       "      <td>Adult, 1 Egg Stage</td>\n",
       "      <td>N29A2</td>\n",
       "      <td>1</td>\n",
       "      <td>2007</td>\n",
       "      <td>37.5</td>\n",
       "      <td>18.9</td>\n",
       "      <td>179.0</td>\n",
       "      <td>2975.0</td>\n",
       "      <td>NaN</td>\n",
       "      <td>NaN</td>\n",
       "      <td>NaN</td>\n",
       "      <td>Sexing primers did not amplify. Not enough blo...</td>\n",
       "    </tr>\n",
       "    <tr>\n",
       "      <th>212</th>\n",
       "      <td>PAL0910</td>\n",
       "      <td>61</td>\n",
       "      <td>Chinstrap</td>\n",
       "      <td>Anvers</td>\n",
       "      <td>Dream</td>\n",
       "      <td>Adult, 1 Egg Stage</td>\n",
       "      <td>N96A1</td>\n",
       "      <td>1</td>\n",
       "      <td>2009</td>\n",
       "      <td>51.9</td>\n",
       "      <td>19.5</td>\n",
       "      <td>206.0</td>\n",
       "      <td>3950.0</td>\n",
       "      <td>MALE</td>\n",
       "      <td>NaN</td>\n",
       "      <td>-23.78767</td>\n",
       "      <td>NaN</td>\n",
       "    </tr>\n",
       "    <tr>\n",
       "      <th>250</th>\n",
       "      <td>PAL0708</td>\n",
       "      <td>31</td>\n",
       "      <td>Gentoo</td>\n",
       "      <td>Anvers</td>\n",
       "      <td>Biscoe</td>\n",
       "      <td>Adult, 1 Egg Stage</td>\n",
       "      <td>N50A1</td>\n",
       "      <td>1</td>\n",
       "      <td>2007</td>\n",
       "      <td>47.3</td>\n",
       "      <td>15.3</td>\n",
       "      <td>222.0</td>\n",
       "      <td>5250.0</td>\n",
       "      <td>MALE</td>\n",
       "      <td>NaN</td>\n",
       "      <td>NaN</td>\n",
       "      <td>NaN</td>\n",
       "    </tr>\n",
       "    <tr>\n",
       "      <th>339</th>\n",
       "      <td>PAL0910</td>\n",
       "      <td>120</td>\n",
       "      <td>Gentoo</td>\n",
       "      <td>Anvers</td>\n",
       "      <td>Biscoe</td>\n",
       "      <td>Adult, 1 Egg Stage</td>\n",
       "      <td>N38A2</td>\n",
       "      <td>0</td>\n",
       "      <td>2009</td>\n",
       "      <td>NaN</td>\n",
       "      <td>NaN</td>\n",
       "      <td>NaN</td>\n",
       "      <td>NaN</td>\n",
       "      <td>NaN</td>\n",
       "      <td>NaN</td>\n",
       "      <td>NaN</td>\n",
       "      <td>NaN</td>\n",
       "    </tr>\n",
       "  </tbody>\n",
       "</table>\n",
       "</div>"
      ],
      "text/plain": [
       "    studyName  Sample Number    Species  Region     Island  \\\n",
       "0     PAL0708              1     Adelie  Anvers  Torgersen   \n",
       "3     PAL0708              4     Adelie  Anvers  Torgersen   \n",
       "8     PAL0708              9     Adelie  Anvers  Torgersen   \n",
       "11    PAL0708             12     Adelie  Anvers  Torgersen   \n",
       "12    PAL0708             13     Adelie  Anvers  Torgersen   \n",
       "13    PAL0708             14     Adelie  Anvers  Torgersen   \n",
       "15    PAL0708             16     Adelie  Anvers  Torgersen   \n",
       "39    PAL0708             40     Adelie  Anvers      Dream   \n",
       "41    PAL0708             42     Adelie  Anvers      Dream   \n",
       "46    PAL0708             47     Adelie  Anvers      Dream   \n",
       "47    PAL0708             48     Adelie  Anvers      Dream   \n",
       "212   PAL0910             61  Chinstrap  Anvers      Dream   \n",
       "250   PAL0708             31     Gentoo  Anvers     Biscoe   \n",
       "339   PAL0910            120     Gentoo  Anvers     Biscoe   \n",
       "\n",
       "                  Stage Individual ID  Clutch Completion  Date Egg  \\\n",
       "0    Adult, 1 Egg Stage          N1A1                  1      2007   \n",
       "3    Adult, 1 Egg Stage          N2A2                  1      2007   \n",
       "8    Adult, 1 Egg Stage          N5A1                  1      2007   \n",
       "11   Adult, 1 Egg Stage          N6A2                  1      2007   \n",
       "12   Adult, 1 Egg Stage          N7A1                  1      2007   \n",
       "13   Adult, 1 Egg Stage          N7A2                  1      2007   \n",
       "15   Adult, 1 Egg Stage          N8A2                  1      2007   \n",
       "39   Adult, 1 Egg Stage         N25A2                  0      2007   \n",
       "41   Adult, 1 Egg Stage         N26A2                  1      2007   \n",
       "46   Adult, 1 Egg Stage         N29A1                  1      2007   \n",
       "47   Adult, 1 Egg Stage         N29A2                  1      2007   \n",
       "212  Adult, 1 Egg Stage         N96A1                  1      2009   \n",
       "250  Adult, 1 Egg Stage         N50A1                  1      2007   \n",
       "339  Adult, 1 Egg Stage         N38A2                  0      2009   \n",
       "\n",
       "     Culmen Length (mm)  Culmen Depth (mm)  Flipper Length (mm)  \\\n",
       "0                  39.1               18.7                181.0   \n",
       "3                   NaN                NaN                  NaN   \n",
       "8                  34.1               18.1                193.0   \n",
       "11                 37.8               17.3                180.0   \n",
       "12                 41.1               17.6                182.0   \n",
       "13                 38.6               21.2                191.0   \n",
       "15                 36.6               17.8                185.0   \n",
       "39                 39.8               19.1                184.0   \n",
       "41                 40.8               18.4                195.0   \n",
       "46                 41.1               19.0                182.0   \n",
       "47                 37.5               18.9                179.0   \n",
       "212                51.9               19.5                206.0   \n",
       "250                47.3               15.3                222.0   \n",
       "339                 NaN                NaN                  NaN   \n",
       "\n",
       "     Body Mass (g)     Sex  Delta 15 N (o/oo)  Delta 13 C (o/oo)  \\\n",
       "0           3750.0    MALE                NaN                NaN   \n",
       "3              NaN     NaN                NaN                NaN   \n",
       "8           3475.0     NaN                NaN                NaN   \n",
       "11          3700.0     NaN                NaN                NaN   \n",
       "12          3200.0  FEMALE                NaN                NaN   \n",
       "13          3800.0    MALE                NaN                NaN   \n",
       "15          3700.0  FEMALE                NaN                NaN   \n",
       "39          4650.0    MALE                NaN                NaN   \n",
       "41          3900.0    MALE                NaN                NaN   \n",
       "46          3425.0    MALE                NaN                NaN   \n",
       "47          2975.0     NaN                NaN                NaN   \n",
       "212         3950.0    MALE                NaN          -23.78767   \n",
       "250         5250.0    MALE                NaN                NaN   \n",
       "339            NaN     NaN                NaN                NaN   \n",
       "\n",
       "                                              Comments  \n",
       "0                       Not enough blood for isotopes.  \n",
       "3                                   Adult not sampled.  \n",
       "8                            No blood sample obtained.  \n",
       "11                           No blood sample obtained.  \n",
       "12                      Not enough blood for isotopes.  \n",
       "13                      Not enough blood for isotopes.  \n",
       "15                      Not enough blood for isotopes.  \n",
       "39   Nest never observed with full clutch. Not enou...  \n",
       "41                      Not enough blood for isotopes.  \n",
       "46                      Not enough blood for isotopes.  \n",
       "47   Sexing primers did not amplify. Not enough blo...  \n",
       "212                                                NaN  \n",
       "250                                                NaN  \n",
       "339                                                NaN  "
      ]
     },
     "execution_count": 558,
     "metadata": {},
     "output_type": "execute_result"
    }
   ],
   "source": [
    "df[df['Delta 15 N (o/oo)'].isna()]"
   ]
  },
  {
   "cell_type": "code",
   "execution_count": 559,
   "id": "dutch-valuation",
   "metadata": {},
   "outputs": [],
   "source": [
    "adelieMale = df.loc[(df['Species'] == 'Adelie') & (df['Sex'] == 'MALE')]\n",
    "adelieFemale = df.loc[(df['Species'] == 'Adelie') & (df['Sex'] == 'FEMALE')]\n",
    "chinstrapMale = df.loc[(df['Species'] == 'Chinstrap') & (df['Sex'] == 'MALE')]\n",
    "gentooMale = df.loc[(df['Species'] == 'Gentoo') & (df['Sex'] == 'MALE')]"
   ]
  },
  {
   "cell_type": "code",
   "execution_count": 560,
   "id": "documentary-melbourne",
   "metadata": {},
   "outputs": [],
   "source": [
    "df.loc[(df['Delta 15 N (o/oo)'].isnull()) &\n",
    "       (df['Sex'] == 'MALE') &\n",
    "       (df['Species'] == 'Adelie'), 'Delta 15 N (o/oo)'] = adelieMale['Delta 15 N (o/oo)'].mean()\n",
    "\n",
    "df.loc[(df['Delta 15 N (o/oo)'].isnull()) &\n",
    "       (df['Sex'] == 'FEMALE') &\n",
    "       (df['Species'] == 'Adelie'), 'Delta 15 N (o/oo)'] = adelieFemale['Delta 15 N (o/oo)'].mean()\n",
    "\n",
    "df.loc[(df['Delta 15 N (o/oo)'].isnull()) &\n",
    "       (df['Sex'] == 'MALE') &\n",
    "       (df['Species'] == 'Chinstrap'), 'Delta 15 N (o/oo)'] = chinstrapMale['Delta 15 N (o/oo)'].mean()\n",
    "\n",
    "df.loc[(df['Delta 15 N (o/oo)'].isnull()) &\n",
    "       (df['Sex'] == 'MALE') &\n",
    "       (df['Species'] == 'Gentoo'), 'Delta 15 N (o/oo)'] = gentooMale['Delta 15 N (o/oo)'].mean()"
   ]
  },
  {
   "cell_type": "markdown",
   "id": "handmade-processing",
   "metadata": {},
   "source": [
    "Замена признака **Delta 15 N** усредненным значением относительно разновидности и пола"
   ]
  },
  {
   "cell_type": "code",
   "execution_count": 561,
   "id": "owned-bosnia",
   "metadata": {},
   "outputs": [
    {
     "data": {
      "text/html": [
       "<div>\n",
       "<style scoped>\n",
       "    .dataframe tbody tr th:only-of-type {\n",
       "        vertical-align: middle;\n",
       "    }\n",
       "\n",
       "    .dataframe tbody tr th {\n",
       "        vertical-align: top;\n",
       "    }\n",
       "\n",
       "    .dataframe thead th {\n",
       "        text-align: right;\n",
       "    }\n",
       "</style>\n",
       "<table border=\"1\" class=\"dataframe\">\n",
       "  <thead>\n",
       "    <tr style=\"text-align: right;\">\n",
       "      <th></th>\n",
       "      <th>studyName</th>\n",
       "      <th>Sample Number</th>\n",
       "      <th>Species</th>\n",
       "      <th>Region</th>\n",
       "      <th>Island</th>\n",
       "      <th>Stage</th>\n",
       "      <th>Individual ID</th>\n",
       "      <th>Clutch Completion</th>\n",
       "      <th>Date Egg</th>\n",
       "      <th>Culmen Length (mm)</th>\n",
       "      <th>Culmen Depth (mm)</th>\n",
       "      <th>Flipper Length (mm)</th>\n",
       "      <th>Body Mass (g)</th>\n",
       "      <th>Sex</th>\n",
       "      <th>Delta 15 N (o/oo)</th>\n",
       "      <th>Delta 13 C (o/oo)</th>\n",
       "      <th>Comments</th>\n",
       "    </tr>\n",
       "  </thead>\n",
       "  <tbody>\n",
       "    <tr>\n",
       "      <th>0</th>\n",
       "      <td>PAL0708</td>\n",
       "      <td>1</td>\n",
       "      <td>Adelie</td>\n",
       "      <td>Anvers</td>\n",
       "      <td>Torgersen</td>\n",
       "      <td>Adult, 1 Egg Stage</td>\n",
       "      <td>N1A1</td>\n",
       "      <td>1</td>\n",
       "      <td>2007</td>\n",
       "      <td>39.1</td>\n",
       "      <td>18.7</td>\n",
       "      <td>181.0</td>\n",
       "      <td>3750.0</td>\n",
       "      <td>MALE</td>\n",
       "      <td>8.928437</td>\n",
       "      <td>NaN</td>\n",
       "      <td>Not enough blood for isotopes.</td>\n",
       "    </tr>\n",
       "    <tr>\n",
       "      <th>3</th>\n",
       "      <td>PAL0708</td>\n",
       "      <td>4</td>\n",
       "      <td>Adelie</td>\n",
       "      <td>Anvers</td>\n",
       "      <td>Torgersen</td>\n",
       "      <td>Adult, 1 Egg Stage</td>\n",
       "      <td>N2A2</td>\n",
       "      <td>1</td>\n",
       "      <td>2007</td>\n",
       "      <td>NaN</td>\n",
       "      <td>NaN</td>\n",
       "      <td>NaN</td>\n",
       "      <td>NaN</td>\n",
       "      <td>NaN</td>\n",
       "      <td>NaN</td>\n",
       "      <td>NaN</td>\n",
       "      <td>Adult not sampled.</td>\n",
       "    </tr>\n",
       "    <tr>\n",
       "      <th>8</th>\n",
       "      <td>PAL0708</td>\n",
       "      <td>9</td>\n",
       "      <td>Adelie</td>\n",
       "      <td>Anvers</td>\n",
       "      <td>Torgersen</td>\n",
       "      <td>Adult, 1 Egg Stage</td>\n",
       "      <td>N5A1</td>\n",
       "      <td>1</td>\n",
       "      <td>2007</td>\n",
       "      <td>34.1</td>\n",
       "      <td>18.1</td>\n",
       "      <td>193.0</td>\n",
       "      <td>3475.0</td>\n",
       "      <td>NaN</td>\n",
       "      <td>NaN</td>\n",
       "      <td>NaN</td>\n",
       "      <td>No blood sample obtained.</td>\n",
       "    </tr>\n",
       "    <tr>\n",
       "      <th>11</th>\n",
       "      <td>PAL0708</td>\n",
       "      <td>12</td>\n",
       "      <td>Adelie</td>\n",
       "      <td>Anvers</td>\n",
       "      <td>Torgersen</td>\n",
       "      <td>Adult, 1 Egg Stage</td>\n",
       "      <td>N6A2</td>\n",
       "      <td>1</td>\n",
       "      <td>2007</td>\n",
       "      <td>37.8</td>\n",
       "      <td>17.3</td>\n",
       "      <td>180.0</td>\n",
       "      <td>3700.0</td>\n",
       "      <td>NaN</td>\n",
       "      <td>NaN</td>\n",
       "      <td>NaN</td>\n",
       "      <td>No blood sample obtained.</td>\n",
       "    </tr>\n",
       "    <tr>\n",
       "      <th>12</th>\n",
       "      <td>PAL0708</td>\n",
       "      <td>13</td>\n",
       "      <td>Adelie</td>\n",
       "      <td>Anvers</td>\n",
       "      <td>Torgersen</td>\n",
       "      <td>Adult, 1 Egg Stage</td>\n",
       "      <td>N7A1</td>\n",
       "      <td>1</td>\n",
       "      <td>2007</td>\n",
       "      <td>41.1</td>\n",
       "      <td>17.6</td>\n",
       "      <td>182.0</td>\n",
       "      <td>3200.0</td>\n",
       "      <td>FEMALE</td>\n",
       "      <td>8.793275</td>\n",
       "      <td>NaN</td>\n",
       "      <td>Not enough blood for isotopes.</td>\n",
       "    </tr>\n",
       "    <tr>\n",
       "      <th>13</th>\n",
       "      <td>PAL0708</td>\n",
       "      <td>14</td>\n",
       "      <td>Adelie</td>\n",
       "      <td>Anvers</td>\n",
       "      <td>Torgersen</td>\n",
       "      <td>Adult, 1 Egg Stage</td>\n",
       "      <td>N7A2</td>\n",
       "      <td>1</td>\n",
       "      <td>2007</td>\n",
       "      <td>38.6</td>\n",
       "      <td>21.2</td>\n",
       "      <td>191.0</td>\n",
       "      <td>3800.0</td>\n",
       "      <td>MALE</td>\n",
       "      <td>8.928437</td>\n",
       "      <td>NaN</td>\n",
       "      <td>Not enough blood for isotopes.</td>\n",
       "    </tr>\n",
       "    <tr>\n",
       "      <th>15</th>\n",
       "      <td>PAL0708</td>\n",
       "      <td>16</td>\n",
       "      <td>Adelie</td>\n",
       "      <td>Anvers</td>\n",
       "      <td>Torgersen</td>\n",
       "      <td>Adult, 1 Egg Stage</td>\n",
       "      <td>N8A2</td>\n",
       "      <td>1</td>\n",
       "      <td>2007</td>\n",
       "      <td>36.6</td>\n",
       "      <td>17.8</td>\n",
       "      <td>185.0</td>\n",
       "      <td>3700.0</td>\n",
       "      <td>FEMALE</td>\n",
       "      <td>8.793275</td>\n",
       "      <td>NaN</td>\n",
       "      <td>Not enough blood for isotopes.</td>\n",
       "    </tr>\n",
       "    <tr>\n",
       "      <th>39</th>\n",
       "      <td>PAL0708</td>\n",
       "      <td>40</td>\n",
       "      <td>Adelie</td>\n",
       "      <td>Anvers</td>\n",
       "      <td>Dream</td>\n",
       "      <td>Adult, 1 Egg Stage</td>\n",
       "      <td>N25A2</td>\n",
       "      <td>0</td>\n",
       "      <td>2007</td>\n",
       "      <td>39.8</td>\n",
       "      <td>19.1</td>\n",
       "      <td>184.0</td>\n",
       "      <td>4650.0</td>\n",
       "      <td>MALE</td>\n",
       "      <td>8.928437</td>\n",
       "      <td>NaN</td>\n",
       "      <td>Nest never observed with full clutch. Not enou...</td>\n",
       "    </tr>\n",
       "    <tr>\n",
       "      <th>41</th>\n",
       "      <td>PAL0708</td>\n",
       "      <td>42</td>\n",
       "      <td>Adelie</td>\n",
       "      <td>Anvers</td>\n",
       "      <td>Dream</td>\n",
       "      <td>Adult, 1 Egg Stage</td>\n",
       "      <td>N26A2</td>\n",
       "      <td>1</td>\n",
       "      <td>2007</td>\n",
       "      <td>40.8</td>\n",
       "      <td>18.4</td>\n",
       "      <td>195.0</td>\n",
       "      <td>3900.0</td>\n",
       "      <td>MALE</td>\n",
       "      <td>8.928437</td>\n",
       "      <td>NaN</td>\n",
       "      <td>Not enough blood for isotopes.</td>\n",
       "    </tr>\n",
       "    <tr>\n",
       "      <th>46</th>\n",
       "      <td>PAL0708</td>\n",
       "      <td>47</td>\n",
       "      <td>Adelie</td>\n",
       "      <td>Anvers</td>\n",
       "      <td>Dream</td>\n",
       "      <td>Adult, 1 Egg Stage</td>\n",
       "      <td>N29A1</td>\n",
       "      <td>1</td>\n",
       "      <td>2007</td>\n",
       "      <td>41.1</td>\n",
       "      <td>19.0</td>\n",
       "      <td>182.0</td>\n",
       "      <td>3425.0</td>\n",
       "      <td>MALE</td>\n",
       "      <td>8.928437</td>\n",
       "      <td>NaN</td>\n",
       "      <td>Not enough blood for isotopes.</td>\n",
       "    </tr>\n",
       "    <tr>\n",
       "      <th>47</th>\n",
       "      <td>PAL0708</td>\n",
       "      <td>48</td>\n",
       "      <td>Adelie</td>\n",
       "      <td>Anvers</td>\n",
       "      <td>Dream</td>\n",
       "      <td>Adult, 1 Egg Stage</td>\n",
       "      <td>N29A2</td>\n",
       "      <td>1</td>\n",
       "      <td>2007</td>\n",
       "      <td>37.5</td>\n",
       "      <td>18.9</td>\n",
       "      <td>179.0</td>\n",
       "      <td>2975.0</td>\n",
       "      <td>NaN</td>\n",
       "      <td>NaN</td>\n",
       "      <td>NaN</td>\n",
       "      <td>Sexing primers did not amplify. Not enough blo...</td>\n",
       "    </tr>\n",
       "    <tr>\n",
       "      <th>250</th>\n",
       "      <td>PAL0708</td>\n",
       "      <td>31</td>\n",
       "      <td>Gentoo</td>\n",
       "      <td>Anvers</td>\n",
       "      <td>Biscoe</td>\n",
       "      <td>Adult, 1 Egg Stage</td>\n",
       "      <td>N50A1</td>\n",
       "      <td>1</td>\n",
       "      <td>2007</td>\n",
       "      <td>47.3</td>\n",
       "      <td>15.3</td>\n",
       "      <td>222.0</td>\n",
       "      <td>5250.0</td>\n",
       "      <td>MALE</td>\n",
       "      <td>8.299129</td>\n",
       "      <td>NaN</td>\n",
       "      <td>NaN</td>\n",
       "    </tr>\n",
       "    <tr>\n",
       "      <th>339</th>\n",
       "      <td>PAL0910</td>\n",
       "      <td>120</td>\n",
       "      <td>Gentoo</td>\n",
       "      <td>Anvers</td>\n",
       "      <td>Biscoe</td>\n",
       "      <td>Adult, 1 Egg Stage</td>\n",
       "      <td>N38A2</td>\n",
       "      <td>0</td>\n",
       "      <td>2009</td>\n",
       "      <td>NaN</td>\n",
       "      <td>NaN</td>\n",
       "      <td>NaN</td>\n",
       "      <td>NaN</td>\n",
       "      <td>NaN</td>\n",
       "      <td>NaN</td>\n",
       "      <td>NaN</td>\n",
       "      <td>NaN</td>\n",
       "    </tr>\n",
       "  </tbody>\n",
       "</table>\n",
       "</div>"
      ],
      "text/plain": [
       "    studyName  Sample Number Species  Region     Island               Stage  \\\n",
       "0     PAL0708              1  Adelie  Anvers  Torgersen  Adult, 1 Egg Stage   \n",
       "3     PAL0708              4  Adelie  Anvers  Torgersen  Adult, 1 Egg Stage   \n",
       "8     PAL0708              9  Adelie  Anvers  Torgersen  Adult, 1 Egg Stage   \n",
       "11    PAL0708             12  Adelie  Anvers  Torgersen  Adult, 1 Egg Stage   \n",
       "12    PAL0708             13  Adelie  Anvers  Torgersen  Adult, 1 Egg Stage   \n",
       "13    PAL0708             14  Adelie  Anvers  Torgersen  Adult, 1 Egg Stage   \n",
       "15    PAL0708             16  Adelie  Anvers  Torgersen  Adult, 1 Egg Stage   \n",
       "39    PAL0708             40  Adelie  Anvers      Dream  Adult, 1 Egg Stage   \n",
       "41    PAL0708             42  Adelie  Anvers      Dream  Adult, 1 Egg Stage   \n",
       "46    PAL0708             47  Adelie  Anvers      Dream  Adult, 1 Egg Stage   \n",
       "47    PAL0708             48  Adelie  Anvers      Dream  Adult, 1 Egg Stage   \n",
       "250   PAL0708             31  Gentoo  Anvers     Biscoe  Adult, 1 Egg Stage   \n",
       "339   PAL0910            120  Gentoo  Anvers     Biscoe  Adult, 1 Egg Stage   \n",
       "\n",
       "    Individual ID  Clutch Completion  Date Egg  Culmen Length (mm)  \\\n",
       "0            N1A1                  1      2007                39.1   \n",
       "3            N2A2                  1      2007                 NaN   \n",
       "8            N5A1                  1      2007                34.1   \n",
       "11           N6A2                  1      2007                37.8   \n",
       "12           N7A1                  1      2007                41.1   \n",
       "13           N7A2                  1      2007                38.6   \n",
       "15           N8A2                  1      2007                36.6   \n",
       "39          N25A2                  0      2007                39.8   \n",
       "41          N26A2                  1      2007                40.8   \n",
       "46          N29A1                  1      2007                41.1   \n",
       "47          N29A2                  1      2007                37.5   \n",
       "250         N50A1                  1      2007                47.3   \n",
       "339         N38A2                  0      2009                 NaN   \n",
       "\n",
       "     Culmen Depth (mm)  Flipper Length (mm)  Body Mass (g)     Sex  \\\n",
       "0                 18.7                181.0         3750.0    MALE   \n",
       "3                  NaN                  NaN            NaN     NaN   \n",
       "8                 18.1                193.0         3475.0     NaN   \n",
       "11                17.3                180.0         3700.0     NaN   \n",
       "12                17.6                182.0         3200.0  FEMALE   \n",
       "13                21.2                191.0         3800.0    MALE   \n",
       "15                17.8                185.0         3700.0  FEMALE   \n",
       "39                19.1                184.0         4650.0    MALE   \n",
       "41                18.4                195.0         3900.0    MALE   \n",
       "46                19.0                182.0         3425.0    MALE   \n",
       "47                18.9                179.0         2975.0     NaN   \n",
       "250               15.3                222.0         5250.0    MALE   \n",
       "339                NaN                  NaN            NaN     NaN   \n",
       "\n",
       "     Delta 15 N (o/oo)  Delta 13 C (o/oo)  \\\n",
       "0             8.928437                NaN   \n",
       "3                  NaN                NaN   \n",
       "8                  NaN                NaN   \n",
       "11                 NaN                NaN   \n",
       "12            8.793275                NaN   \n",
       "13            8.928437                NaN   \n",
       "15            8.793275                NaN   \n",
       "39            8.928437                NaN   \n",
       "41            8.928437                NaN   \n",
       "46            8.928437                NaN   \n",
       "47                 NaN                NaN   \n",
       "250           8.299129                NaN   \n",
       "339                NaN                NaN   \n",
       "\n",
       "                                              Comments  \n",
       "0                       Not enough blood for isotopes.  \n",
       "3                                   Adult not sampled.  \n",
       "8                            No blood sample obtained.  \n",
       "11                           No blood sample obtained.  \n",
       "12                      Not enough blood for isotopes.  \n",
       "13                      Not enough blood for isotopes.  \n",
       "15                      Not enough blood for isotopes.  \n",
       "39   Nest never observed with full clutch. Not enou...  \n",
       "41                      Not enough blood for isotopes.  \n",
       "46                      Not enough blood for isotopes.  \n",
       "47   Sexing primers did not amplify. Not enough blo...  \n",
       "250                                                NaN  \n",
       "339                                                NaN  "
      ]
     },
     "execution_count": 561,
     "metadata": {},
     "output_type": "execute_result"
    }
   ],
   "source": [
    "df[df['Delta 13 C (o/oo)'].isna()]"
   ]
  },
  {
   "cell_type": "code",
   "execution_count": 562,
   "id": "proved-raleigh",
   "metadata": {},
   "outputs": [],
   "source": [
    "df.loc[(df['Delta 13 C (o/oo)'].isnull()) &\n",
    "       (df['Sex'] == 'MALE') &\n",
    "       (df['Species'] == 'Adelie'), 'Delta 13 C (o/oo)'] = adelieMale['Delta 13 C (o/oo)'].mean()\n",
    "\n",
    "df.loc[(df['Delta 13 C (o/oo)'].isnull()) &\n",
    "       (df['Sex'] == 'FEMALE') &\n",
    "       (df['Species'] == 'Adelie'), 'Delta 13 C (o/oo)'] = adelieFemale['Delta 13 C (o/oo)'].mean()\n",
    "\n",
    "df.loc[(df['Delta 13 C (o/oo)'].isnull()) &\n",
    "       (df['Sex'] == 'MALE') &\n",
    "       (df['Species'] == 'Gentoo'), 'Delta 13 C (o/oo)'] = gentooMale['Delta 13 C (o/oo)'].mean()"
   ]
  },
  {
   "cell_type": "markdown",
   "id": "floppy-advantage",
   "metadata": {},
   "source": [
    "Замена признака **Delta 13 C** усредненным значением относительно разновидности и пола"
   ]
  },
  {
   "cell_type": "code",
   "execution_count": 563,
   "id": "worldwide-memory",
   "metadata": {
    "scrolled": true
   },
   "outputs": [
    {
     "data": {
      "text/html": [
       "<div>\n",
       "<style scoped>\n",
       "    .dataframe tbody tr th:only-of-type {\n",
       "        vertical-align: middle;\n",
       "    }\n",
       "\n",
       "    .dataframe tbody tr th {\n",
       "        vertical-align: top;\n",
       "    }\n",
       "\n",
       "    .dataframe thead th {\n",
       "        text-align: right;\n",
       "    }\n",
       "</style>\n",
       "<table border=\"1\" class=\"dataframe\">\n",
       "  <thead>\n",
       "    <tr style=\"text-align: right;\">\n",
       "      <th></th>\n",
       "      <th>studyName</th>\n",
       "      <th>Sample Number</th>\n",
       "      <th>Species</th>\n",
       "      <th>Region</th>\n",
       "      <th>Island</th>\n",
       "      <th>Stage</th>\n",
       "      <th>Individual ID</th>\n",
       "      <th>Clutch Completion</th>\n",
       "      <th>Date Egg</th>\n",
       "      <th>Culmen Length (mm)</th>\n",
       "      <th>Culmen Depth (mm)</th>\n",
       "      <th>Flipper Length (mm)</th>\n",
       "      <th>Body Mass (g)</th>\n",
       "      <th>Sex</th>\n",
       "      <th>Delta 15 N (o/oo)</th>\n",
       "      <th>Delta 13 C (o/oo)</th>\n",
       "      <th>Comments</th>\n",
       "    </tr>\n",
       "  </thead>\n",
       "  <tbody>\n",
       "    <tr>\n",
       "      <th>3</th>\n",
       "      <td>PAL0708</td>\n",
       "      <td>4</td>\n",
       "      <td>Adelie</td>\n",
       "      <td>Anvers</td>\n",
       "      <td>Torgersen</td>\n",
       "      <td>Adult, 1 Egg Stage</td>\n",
       "      <td>N2A2</td>\n",
       "      <td>1</td>\n",
       "      <td>2007</td>\n",
       "      <td>NaN</td>\n",
       "      <td>NaN</td>\n",
       "      <td>NaN</td>\n",
       "      <td>NaN</td>\n",
       "      <td>NaN</td>\n",
       "      <td>NaN</td>\n",
       "      <td>NaN</td>\n",
       "      <td>Adult not sampled.</td>\n",
       "    </tr>\n",
       "    <tr>\n",
       "      <th>8</th>\n",
       "      <td>PAL0708</td>\n",
       "      <td>9</td>\n",
       "      <td>Adelie</td>\n",
       "      <td>Anvers</td>\n",
       "      <td>Torgersen</td>\n",
       "      <td>Adult, 1 Egg Stage</td>\n",
       "      <td>N5A1</td>\n",
       "      <td>1</td>\n",
       "      <td>2007</td>\n",
       "      <td>34.1</td>\n",
       "      <td>18.1</td>\n",
       "      <td>193.0</td>\n",
       "      <td>3475.0</td>\n",
       "      <td>NaN</td>\n",
       "      <td>NaN</td>\n",
       "      <td>NaN</td>\n",
       "      <td>No blood sample obtained.</td>\n",
       "    </tr>\n",
       "    <tr>\n",
       "      <th>9</th>\n",
       "      <td>PAL0708</td>\n",
       "      <td>10</td>\n",
       "      <td>Adelie</td>\n",
       "      <td>Anvers</td>\n",
       "      <td>Torgersen</td>\n",
       "      <td>Adult, 1 Egg Stage</td>\n",
       "      <td>N5A2</td>\n",
       "      <td>1</td>\n",
       "      <td>2007</td>\n",
       "      <td>42.0</td>\n",
       "      <td>20.2</td>\n",
       "      <td>190.0</td>\n",
       "      <td>4250.0</td>\n",
       "      <td>NaN</td>\n",
       "      <td>9.13362</td>\n",
       "      <td>-25.09368</td>\n",
       "      <td>No blood sample obtained for sexing.</td>\n",
       "    </tr>\n",
       "    <tr>\n",
       "      <th>10</th>\n",
       "      <td>PAL0708</td>\n",
       "      <td>11</td>\n",
       "      <td>Adelie</td>\n",
       "      <td>Anvers</td>\n",
       "      <td>Torgersen</td>\n",
       "      <td>Adult, 1 Egg Stage</td>\n",
       "      <td>N6A1</td>\n",
       "      <td>1</td>\n",
       "      <td>2007</td>\n",
       "      <td>37.8</td>\n",
       "      <td>17.1</td>\n",
       "      <td>186.0</td>\n",
       "      <td>3300.0</td>\n",
       "      <td>NaN</td>\n",
       "      <td>8.63243</td>\n",
       "      <td>-25.21315</td>\n",
       "      <td>No blood sample obtained for sexing.</td>\n",
       "    </tr>\n",
       "    <tr>\n",
       "      <th>11</th>\n",
       "      <td>PAL0708</td>\n",
       "      <td>12</td>\n",
       "      <td>Adelie</td>\n",
       "      <td>Anvers</td>\n",
       "      <td>Torgersen</td>\n",
       "      <td>Adult, 1 Egg Stage</td>\n",
       "      <td>N6A2</td>\n",
       "      <td>1</td>\n",
       "      <td>2007</td>\n",
       "      <td>37.8</td>\n",
       "      <td>17.3</td>\n",
       "      <td>180.0</td>\n",
       "      <td>3700.0</td>\n",
       "      <td>NaN</td>\n",
       "      <td>NaN</td>\n",
       "      <td>NaN</td>\n",
       "      <td>No blood sample obtained.</td>\n",
       "    </tr>\n",
       "    <tr>\n",
       "      <th>47</th>\n",
       "      <td>PAL0708</td>\n",
       "      <td>48</td>\n",
       "      <td>Adelie</td>\n",
       "      <td>Anvers</td>\n",
       "      <td>Dream</td>\n",
       "      <td>Adult, 1 Egg Stage</td>\n",
       "      <td>N29A2</td>\n",
       "      <td>1</td>\n",
       "      <td>2007</td>\n",
       "      <td>37.5</td>\n",
       "      <td>18.9</td>\n",
       "      <td>179.0</td>\n",
       "      <td>2975.0</td>\n",
       "      <td>NaN</td>\n",
       "      <td>NaN</td>\n",
       "      <td>NaN</td>\n",
       "      <td>Sexing primers did not amplify. Not enough blo...</td>\n",
       "    </tr>\n",
       "    <tr>\n",
       "      <th>246</th>\n",
       "      <td>PAL0708</td>\n",
       "      <td>27</td>\n",
       "      <td>Gentoo</td>\n",
       "      <td>Anvers</td>\n",
       "      <td>Biscoe</td>\n",
       "      <td>Adult, 1 Egg Stage</td>\n",
       "      <td>N46A1</td>\n",
       "      <td>1</td>\n",
       "      <td>2007</td>\n",
       "      <td>44.5</td>\n",
       "      <td>14.3</td>\n",
       "      <td>216.0</td>\n",
       "      <td>4100.0</td>\n",
       "      <td>NaN</td>\n",
       "      <td>7.96621</td>\n",
       "      <td>-25.69327</td>\n",
       "      <td>NaN</td>\n",
       "    </tr>\n",
       "    <tr>\n",
       "      <th>286</th>\n",
       "      <td>PAL0809</td>\n",
       "      <td>67</td>\n",
       "      <td>Gentoo</td>\n",
       "      <td>Anvers</td>\n",
       "      <td>Biscoe</td>\n",
       "      <td>Adult, 1 Egg Stage</td>\n",
       "      <td>N51A1</td>\n",
       "      <td>1</td>\n",
       "      <td>2008</td>\n",
       "      <td>46.2</td>\n",
       "      <td>14.4</td>\n",
       "      <td>214.0</td>\n",
       "      <td>4650.0</td>\n",
       "      <td>NaN</td>\n",
       "      <td>8.24253</td>\n",
       "      <td>-26.81540</td>\n",
       "      <td>NaN</td>\n",
       "    </tr>\n",
       "    <tr>\n",
       "      <th>324</th>\n",
       "      <td>PAL0910</td>\n",
       "      <td>105</td>\n",
       "      <td>Gentoo</td>\n",
       "      <td>Anvers</td>\n",
       "      <td>Biscoe</td>\n",
       "      <td>Adult, 1 Egg Stage</td>\n",
       "      <td>N24A1</td>\n",
       "      <td>1</td>\n",
       "      <td>2009</td>\n",
       "      <td>47.3</td>\n",
       "      <td>13.8</td>\n",
       "      <td>216.0</td>\n",
       "      <td>4725.0</td>\n",
       "      <td>NaN</td>\n",
       "      <td>8.25818</td>\n",
       "      <td>-26.23886</td>\n",
       "      <td>NaN</td>\n",
       "    </tr>\n",
       "    <tr>\n",
       "      <th>339</th>\n",
       "      <td>PAL0910</td>\n",
       "      <td>120</td>\n",
       "      <td>Gentoo</td>\n",
       "      <td>Anvers</td>\n",
       "      <td>Biscoe</td>\n",
       "      <td>Adult, 1 Egg Stage</td>\n",
       "      <td>N38A2</td>\n",
       "      <td>0</td>\n",
       "      <td>2009</td>\n",
       "      <td>NaN</td>\n",
       "      <td>NaN</td>\n",
       "      <td>NaN</td>\n",
       "      <td>NaN</td>\n",
       "      <td>NaN</td>\n",
       "      <td>NaN</td>\n",
       "      <td>NaN</td>\n",
       "      <td>NaN</td>\n",
       "    </tr>\n",
       "  </tbody>\n",
       "</table>\n",
       "</div>"
      ],
      "text/plain": [
       "    studyName  Sample Number Species  Region     Island               Stage  \\\n",
       "3     PAL0708              4  Adelie  Anvers  Torgersen  Adult, 1 Egg Stage   \n",
       "8     PAL0708              9  Adelie  Anvers  Torgersen  Adult, 1 Egg Stage   \n",
       "9     PAL0708             10  Adelie  Anvers  Torgersen  Adult, 1 Egg Stage   \n",
       "10    PAL0708             11  Adelie  Anvers  Torgersen  Adult, 1 Egg Stage   \n",
       "11    PAL0708             12  Adelie  Anvers  Torgersen  Adult, 1 Egg Stage   \n",
       "47    PAL0708             48  Adelie  Anvers      Dream  Adult, 1 Egg Stage   \n",
       "246   PAL0708             27  Gentoo  Anvers     Biscoe  Adult, 1 Egg Stage   \n",
       "286   PAL0809             67  Gentoo  Anvers     Biscoe  Adult, 1 Egg Stage   \n",
       "324   PAL0910            105  Gentoo  Anvers     Biscoe  Adult, 1 Egg Stage   \n",
       "339   PAL0910            120  Gentoo  Anvers     Biscoe  Adult, 1 Egg Stage   \n",
       "\n",
       "    Individual ID  Clutch Completion  Date Egg  Culmen Length (mm)  \\\n",
       "3            N2A2                  1      2007                 NaN   \n",
       "8            N5A1                  1      2007                34.1   \n",
       "9            N5A2                  1      2007                42.0   \n",
       "10           N6A1                  1      2007                37.8   \n",
       "11           N6A2                  1      2007                37.8   \n",
       "47          N29A2                  1      2007                37.5   \n",
       "246         N46A1                  1      2007                44.5   \n",
       "286         N51A1                  1      2008                46.2   \n",
       "324         N24A1                  1      2009                47.3   \n",
       "339         N38A2                  0      2009                 NaN   \n",
       "\n",
       "     Culmen Depth (mm)  Flipper Length (mm)  Body Mass (g)  Sex  \\\n",
       "3                  NaN                  NaN            NaN  NaN   \n",
       "8                 18.1                193.0         3475.0  NaN   \n",
       "9                 20.2                190.0         4250.0  NaN   \n",
       "10                17.1                186.0         3300.0  NaN   \n",
       "11                17.3                180.0         3700.0  NaN   \n",
       "47                18.9                179.0         2975.0  NaN   \n",
       "246               14.3                216.0         4100.0  NaN   \n",
       "286               14.4                214.0         4650.0  NaN   \n",
       "324               13.8                216.0         4725.0  NaN   \n",
       "339                NaN                  NaN            NaN  NaN   \n",
       "\n",
       "     Delta 15 N (o/oo)  Delta 13 C (o/oo)  \\\n",
       "3                  NaN                NaN   \n",
       "8                  NaN                NaN   \n",
       "9              9.13362          -25.09368   \n",
       "10             8.63243          -25.21315   \n",
       "11                 NaN                NaN   \n",
       "47                 NaN                NaN   \n",
       "246            7.96621          -25.69327   \n",
       "286            8.24253          -26.81540   \n",
       "324            8.25818          -26.23886   \n",
       "339                NaN                NaN   \n",
       "\n",
       "                                              Comments  \n",
       "3                                   Adult not sampled.  \n",
       "8                            No blood sample obtained.  \n",
       "9                 No blood sample obtained for sexing.  \n",
       "10                No blood sample obtained for sexing.  \n",
       "11                           No blood sample obtained.  \n",
       "47   Sexing primers did not amplify. Not enough blo...  \n",
       "246                                                NaN  \n",
       "286                                                NaN  \n",
       "324                                                NaN  \n",
       "339                                                NaN  "
      ]
     },
     "execution_count": 563,
     "metadata": {},
     "output_type": "execute_result"
    }
   ],
   "source": [
    "df[df['Sex'].isna()]"
   ]
  },
  {
   "cell_type": "markdown",
   "id": "found-kidney",
   "metadata": {},
   "source": [
    "Записи **N2A2 и N38A2** совсем неинформативные. Ничего не остается - убираем."
   ]
  },
  {
   "cell_type": "code",
   "execution_count": 564,
   "id": "electronic-monday",
   "metadata": {},
   "outputs": [],
   "source": [
    "df.drop(df.loc[df['Individual ID']=='N2A2'].index, inplace=True)\n",
    "df.drop(df.loc[df['Individual ID']=='N38A2'].index, inplace=True)"
   ]
  },
  {
   "cell_type": "code",
   "execution_count": 565,
   "id": "utility-mother",
   "metadata": {},
   "outputs": [
    {
     "data": {
      "text/plain": [
       "studyName                0\n",
       "Sample Number            0\n",
       "Species                  0\n",
       "Region                   0\n",
       "Island                   0\n",
       "Stage                    0\n",
       "Individual ID            0\n",
       "Clutch Completion        0\n",
       "Date Egg                 0\n",
       "Culmen Length (mm)       0\n",
       "Culmen Depth (mm)        0\n",
       "Flipper Length (mm)      0\n",
       "Body Mass (g)            0\n",
       "Sex                      8\n",
       "Delta 15 N (o/oo)        3\n",
       "Delta 13 C (o/oo)        3\n",
       "Comments               314\n",
       "dtype: int64"
      ]
     },
     "execution_count": 565,
     "metadata": {},
     "output_type": "execute_result"
    }
   ],
   "source": [
    "df.isnull().sum()"
   ]
  },
  {
   "cell_type": "markdown",
   "id": "thousand-comparison",
   "metadata": {},
   "source": [
    "Стало заметно лучше, хотя на данный момент неочевидно, чем заполнить оставшиеся пропущенные значения"
   ]
  },
  {
   "cell_type": "markdown",
   "id": "considered-simple",
   "metadata": {},
   "source": [
    "### Удаление ненужных признаков"
   ]
  },
  {
   "cell_type": "code",
   "execution_count": 566,
   "id": "numerical-iceland",
   "metadata": {},
   "outputs": [],
   "source": [
    "df.drop(['Sample Number', 'studyName', 'Region', 'Stage', 'Comments', 'Individual ID'], axis=1, inplace=True)"
   ]
  },
  {
   "cell_type": "markdown",
   "id": "interior-joseph",
   "metadata": {},
   "source": [
    "### Трансформация строк в числа"
   ]
  },
  {
   "cell_type": "code",
   "execution_count": 567,
   "id": "cosmetic-formula",
   "metadata": {},
   "outputs": [],
   "source": [
    "df['Sex'].replace(['MALE', 'FEMALE'], [0, 1], inplace=True)\n",
    "df['Species'].replace(['Adelie', 'Chinstrap', 'Gentoo'], [0, 1, 2], inplace=True)\n",
    "df['Island'].replace(['Torgersen', 'Dream', 'Biscoe'], [0, 1, 2], inplace=True)"
   ]
  },
  {
   "cell_type": "markdown",
   "id": "automatic-stroke",
   "metadata": {},
   "source": [
    "### Корреляция признаков"
   ]
  },
  {
   "cell_type": "code",
   "execution_count": 568,
   "id": "about-health",
   "metadata": {},
   "outputs": [
    {
     "data": {
      "image/png": "[encoded data removed]",
      "text/plain": [
       "<Figure size 720x360 with 2 Axes>"
      ]
     },
     "metadata": {
      "needs_background": "light"
     },
     "output_type": "display_data"
    }
   ],
   "source": [
    "sns.heatmap(df.corr(), annot=True, cmap='RdYlGn')\n",
    "fig = plt.gcf()\n",
    "fig.set_size_inches(10, 5)\n",
    "plt.show()"
   ]
  },
  {
   "cell_type": "markdown",
   "id": "conditional-penalty",
   "metadata": {},
   "source": [
    "Как и ожидалось, многие признаки сильно зависят друг от друга. Отталкиваясь от целевого признака, совершенно точно можно не учитывать **Species**. Также разумно исключить некоторые антропометрические признаки, как сильно связанные между собой."
   ]
  },
  {
   "cell_type": "code",
   "execution_count": 569,
   "id": "super-appreciation",
   "metadata": {},
   "outputs": [],
   "source": [
    "df.drop(['Species', 'Culmen Depth (mm)', 'Body Mass (g)', 'Flipper Length (mm)'], axis=1, inplace=True)"
   ]
  },
  {
   "cell_type": "code",
   "execution_count": 571,
   "id": "studied-intention",
   "metadata": {},
   "outputs": [
    {
     "data": {
      "image/png": "[encoded data removed]",
      "text/plain": [
       "<Figure size 1080x720 with 2 Axes>"
      ]
     },
     "metadata": {
      "needs_background": "light"
     },
     "output_type": "display_data"
    }
   ],
   "source": [
    "sns.heatmap(df.corr(), annot=True, cmap='RdYlGn', linewidths=0.2, annot_kws={'size':20})\n",
    "fig = plt.gcf()\n",
    "fig.set_size_inches(15, 10)\n",
    "plt.xticks(fontsize=14)\n",
    "plt.yticks(fontsize=14)\n",
    "plt.show()"
   ]
  },
  {
   "cell_type": "markdown",
   "id": "protected-conjunction",
   "metadata": {},
   "source": [
    "### Спасибо за внимание!"
   ]
  }
 ],
 "metadata": {
  "kernelspec": {
   "display_name": "Python 3",
   "language": "python",
   "name": "python3"
  },
  "language_info": {
   "codemirror_mode": {
    "name": "ipython",
    "version": 3
   },
   "file_extension": ".py",
   "mimetype": "text/x-python",
   "name": "python",
   "nbconvert_exporter": "python",
   "pygments_lexer": "ipython3",
   "version": "3.9.1"
  }
 },
 "nbformat": 4,
 "nbformat_minor": 5
}
